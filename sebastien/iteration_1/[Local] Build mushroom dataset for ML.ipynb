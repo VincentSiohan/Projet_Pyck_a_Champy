{
 "cells": [
  {
   "cell_type": "markdown",
   "metadata": {},
   "source": [
    "# Libraries"
   ]
  },
  {
   "cell_type": "code",
   "execution_count": 1,
   "metadata": {
    "ExecuteTime": {
     "end_time": "2022-01-09T16:46:06.529317Z",
     "start_time": "2022-01-09T16:46:01.607952Z"
    }
   },
   "outputs": [],
   "source": [
    "import os\n",
    "from tqdm import tqdm\n",
    "import pandas as pd\n",
    "import numpy as np\n",
    "import random\n",
    "import matplotlib.pyplot as plt\n",
    "\n",
    "from PIL import Image\n",
    "from PIL import ImageFile\n",
    "from skimage import io\n",
    "from skimage.transform import rescale\n",
    "from skimage.transform import resize\n",
    "\n",
    "\n",
    "from sklearn.model_selection import train_test_split\n",
    "from sklearn import preprocessing\n",
    "from sklearn.ensemble import RandomForestClassifier # Pour instancier et entraîner un modèle Random Forest\n",
    "from sklearn.metrics import accuracy_score, classification_report, confusion_matrix # Pour les performances de classification"
   ]
  },
  {
   "cell_type": "markdown",
   "metadata": {},
   "source": [
    "# Variables"
   ]
  },
  {
   "cell_type": "markdown",
   "metadata": {},
   "source": [
    "## Paths"
   ]
  },
  {
   "cell_type": "code",
   "execution_count": 2,
   "metadata": {
    "ExecuteTime": {
     "end_time": "2022-01-09T16:46:06.577160Z",
     "start_time": "2022-01-09T16:46:06.565190Z"
    }
   },
   "outputs": [],
   "source": [
    "root_dir ='C:/Users/thibe/Google Drive/Projet datascientest/'\n",
    "raw_data_dir = root_dir + 'RAW DATA/'\n",
    "images_dir = raw_data_dir + 'IMAGES/'\n",
    "json_dir = raw_data_dir + 'JSON/'\n",
    "ML_dir = root_dir + 'ML/'"
   ]
  },
  {
   "cell_type": "markdown",
   "metadata": {},
   "source": [
    "## Other"
   ]
  },
  {
   "cell_type": "code",
   "execution_count": 3,
   "metadata": {
    "ExecuteTime": {
     "end_time": "2022-01-09T16:46:06.625044Z",
     "start_time": "2022-01-09T16:46:06.613066Z"
    }
   },
   "outputs": [],
   "source": [
    "# seed \n",
    "random_seed = 42\n",
    "\n",
    "# resize param :\n",
    "pix_rows,pix_cols = 36 , 48\n",
    "\n",
    "# build csv \n",
    "loop_over_images = True\n",
    "\n",
    "debug = False\n",
    "# slice des listes \n",
    "idx_max = 10  if debug else None \n",
    "# reduce number of year\n",
    "range_years = range(2006,2008) if debug else range(2006,2017)"
   ]
  },
  {
   "cell_type": "markdown",
   "metadata": {},
   "source": [
    "# Load & filter dataset EDA"
   ]
  },
  {
   "cell_type": "code",
   "execution_count": 4,
   "metadata": {
    "ExecuteTime": {
     "end_time": "2022-01-09T16:46:09.858744Z",
     "start_time": "2022-01-09T16:46:06.661933Z"
    }
   },
   "outputs": [
    {
     "name": "stderr",
     "output_type": "stream",
     "text": [
      "C:\\Users\\thibe\\.conda\\envs\\Mush\\lib\\site-packages\\IPython\\core\\interactiveshell.py:3057: DtypeWarning: Columns (6,9,12) have mixed types. Specify dtype option on import or set low_memory=False.\n",
      "  interactivity=interactivity, compiler=compiler, result=result)\n"
     ]
    }
   ],
   "source": [
    "df =  pd.read_csv(root_dir + 'image_and_json_data.csv')"
   ]
  },
  {
   "cell_type": "code",
   "execution_count": 5,
   "metadata": {
    "ExecuteTime": {
     "end_time": "2022-01-09T16:46:10.436375Z",
     "start_time": "2022-01-09T16:46:10.286701Z"
    },
    "scrolled": false
   },
   "outputs": [],
   "source": [
    "#select only 320,240 images with family info\n",
    "df = df[df['resolution']=='(320, 240)'] \n",
    "# drop na \n",
    "df = df[df['gbif_info.family'].notna()]\n",
    "# df.isna().sum()"
   ]
  },
  {
   "cell_type": "code",
   "execution_count": 6,
   "metadata": {
    "ExecuteTime": {
     "end_time": "2022-01-09T16:46:11.978210Z",
     "start_time": "2022-01-09T16:46:11.899423Z"
    }
   },
   "outputs": [],
   "source": [
    "# keep conf level over 90 \n",
    "df = df.loc[df['gbif_info.confidence']>90]"
   ]
  },
  {
   "cell_type": "code",
   "execution_count": 7,
   "metadata": {
    "ExecuteTime": {
     "end_time": "2022-01-09T16:46:13.058154Z",
     "start_time": "2022-01-09T16:46:12.891511Z"
    }
   },
   "outputs": [
    {
     "name": "stdout",
     "output_type": "stream",
     "text": [
      "<class 'pandas.core.frame.DataFrame'>\n",
      "Int64Index: 43608 entries, 5 to 214980\n",
      "Data columns (total 38 columns):\n",
      "file_name                   43608 non-null object\n",
      "file_path                   43608 non-null object\n",
      "resolution                  43608 non-null object\n",
      "file_year                   43608 non-null int64\n",
      "image_id                    43608 non-null int64\n",
      "format                      43608 non-null object\n",
      "observation                 43608 non-null object\n",
      "label                       43608 non-null object\n",
      "image_url                   43608 non-null object\n",
      "user                        43608 non-null object\n",
      "date                        43608 non-null object\n",
      "thumbnail                   43608 non-null int64\n",
      "location                    43608 non-null object\n",
      "gbif_info.kingdom           43608 non-null object\n",
      "gbif_info.family            43608 non-null object\n",
      "gbif_info.speciesKey        30809 non-null float64\n",
      "gbif_info.rank              43608 non-null object\n",
      "gbif_info.phylum            43608 non-null object\n",
      "gbif_info.orderKey          43608 non-null float64\n",
      "gbif_info.species           30809 non-null object\n",
      "gbif_info.confidence        43608 non-null float64\n",
      "gbif_info.classKey          43608 non-null float64\n",
      "gbif_info.matchType         43608 non-null object\n",
      "gbif_info.familyKey         43608 non-null float64\n",
      "gbif_info.status            43608 non-null object\n",
      "gbif_info.usageKey          43608 non-null float64\n",
      "gbif_info.kingdomKey        43608 non-null float64\n",
      "gbif_info.genusKey          43099 non-null float64\n",
      "gbif_info.canonicalName     43608 non-null object\n",
      "gbif_info.phylumKey         43608 non-null float64\n",
      "gbif_info.class             43608 non-null object\n",
      "gbif_info.synonym           43608 non-null object\n",
      "gbif_info.scientificName    43608 non-null object\n",
      "gbif_info.genus             43099 non-null object\n",
      "gbif_info.order             43608 non-null object\n",
      "gbif_info.note              528 non-null object\n",
      "gbif_info                   0 non-null float64\n",
      "json_file                   43608 non-null object\n",
      "dtypes: float64(10), int64(3), object(25)\n",
      "memory usage: 13.0+ MB\n"
     ]
    }
   ],
   "source": [
    "# keep top families only \n",
    "top = list(df['gbif_info.family'].value_counts().index.values)[:10]\n",
    "df = df.loc[df['gbif_info.family'].isin(top)]\n",
    "df.info()"
   ]
  },
  {
   "cell_type": "code",
   "execution_count": 8,
   "metadata": {
    "ExecuteTime": {
     "end_time": "2022-01-09T16:46:13.750322Z",
     "start_time": "2022-01-09T16:46:13.726387Z"
    }
   },
   "outputs": [],
   "source": [
    "summary = df.copy() #copy for later "
   ]
  },
  {
   "cell_type": "markdown",
   "metadata": {},
   "source": [
    "# Buil dataset for ML "
   ]
  },
  {
   "cell_type": "markdown",
   "metadata": {},
   "source": [
    "## Loop on images to build csv"
   ]
  },
  {
   "cell_type": "code",
   "execution_count": 9,
   "metadata": {
    "ExecuteTime": {
     "end_time": "2022-01-09T16:46:15.699113Z",
     "start_time": "2022-01-09T16:46:15.687144Z"
    }
   },
   "outputs": [],
   "source": [
    "# passer par des array + format numpy quand on aura décider du dataset (devrait permettre d'augmenter la résolution)"
   ]
  },
  {
   "cell_type": "code",
   "execution_count": 10,
   "metadata": {
    "ExecuteTime": {
     "end_time": "2022-01-09T16:46:18.582828Z",
     "start_time": "2022-01-09T16:46:16.797034Z"
    },
    "scrolled": false
   },
   "outputs": [
    {
     "name": "stderr",
     "output_type": "stream",
     "text": [
      "1it [00:00,  9.76it/s]"
     ]
    },
    {
     "name": "stdout",
     "output_type": "stream",
     "text": [
      "processing files from 2006\n"
     ]
    },
    {
     "name": "stderr",
     "output_type": "stream",
     "text": [
      "78it [00:01, 49.12it/s]\n"
     ]
    },
    {
     "ename": "KeyboardInterrupt",
     "evalue": "",
     "output_type": "error",
     "traceback": [
      "\u001b[1;31m---------------------------------------------------------------------------\u001b[0m",
      "\u001b[1;31mKeyboardInterrupt\u001b[0m                         Traceback (most recent call last)",
      "\u001b[1;32m<ipython-input-10-917f3b177cff>\u001b[0m in \u001b[0;36m<module>\u001b[1;34m\u001b[0m\n\u001b[0;32m     20\u001b[0m         \u001b[1;32mfor\u001b[0m \u001b[0mimg_id\u001b[0m\u001b[1;33m,\u001b[0m\u001b[0mpath\u001b[0m\u001b[1;33m,\u001b[0m\u001b[0mfamily\u001b[0m \u001b[1;32min\u001b[0m \u001b[0mtqdm\u001b[0m\u001b[1;33m(\u001b[0m\u001b[0mzip\u001b[0m\u001b[1;33m(\u001b[0m\u001b[0mimg_id_lst\u001b[0m\u001b[1;33m,\u001b[0m\u001b[0mimg_path_lst\u001b[0m\u001b[1;33m,\u001b[0m\u001b[0mfamily_lst\u001b[0m\u001b[1;33m)\u001b[0m\u001b[1;33m)\u001b[0m\u001b[1;33m:\u001b[0m\u001b[1;33m\u001b[0m\u001b[1;33m\u001b[0m\u001b[0m\n\u001b[0;32m     21\u001b[0m             \u001b[0mimg\u001b[0m \u001b[1;33m=\u001b[0m \u001b[0mio\u001b[0m\u001b[1;33m.\u001b[0m\u001b[0mimread\u001b[0m\u001b[1;33m(\u001b[0m\u001b[0mpath\u001b[0m\u001b[1;33m)\u001b[0m\u001b[1;33m\u001b[0m\u001b[1;33m\u001b[0m\u001b[0m\n\u001b[1;32m---> 22\u001b[1;33m             \u001b[0mimg\u001b[0m \u001b[1;33m=\u001b[0m \u001b[0mresize\u001b[0m\u001b[1;33m(\u001b[0m\u001b[0mimg\u001b[0m\u001b[1;33m,\u001b[0m \u001b[1;33m(\u001b[0m\u001b[0mpix_rows\u001b[0m\u001b[1;33m,\u001b[0m \u001b[0mpix_cols\u001b[0m\u001b[1;33m)\u001b[0m\u001b[1;33m)\u001b[0m  \u001b[1;31m# RESIZE usng skimage\u001b[0m\u001b[1;33m\u001b[0m\u001b[1;33m\u001b[0m\u001b[0m\n\u001b[0m\u001b[0;32m     23\u001b[0m     \u001b[1;31m#         img = Image.open(path)\u001b[0m\u001b[1;33m\u001b[0m\u001b[1;33m\u001b[0m\u001b[1;33m\u001b[0m\u001b[0m\n\u001b[0;32m     24\u001b[0m     \u001b[1;31m#         img.thumbnail((pix_cols,pix_rows)) # RESIZE usng opencv (/!\\ size param inversé)\u001b[0m\u001b[1;33m\u001b[0m\u001b[1;33m\u001b[0m\u001b[1;33m\u001b[0m\u001b[0m\n",
      "\u001b[1;32m~\\.conda\\envs\\Mush\\lib\\site-packages\\skimage\\transform\\_warps.py\u001b[0m in \u001b[0;36mresize\u001b[1;34m(image, output_shape, order, mode, cval, clip, preserve_range, anti_aliasing, anti_aliasing_sigma)\u001b[0m\n\u001b[0;32m    134\u001b[0m \u001b[1;33m\u001b[0m\u001b[0m\n\u001b[0;32m    135\u001b[0m         image = ndi.gaussian_filter(image, anti_aliasing_sigma,\n\u001b[1;32m--> 136\u001b[1;33m                                     cval=cval, mode=ndi_mode)\n\u001b[0m\u001b[0;32m    137\u001b[0m \u001b[1;33m\u001b[0m\u001b[0m\n\u001b[0;32m    138\u001b[0m     \u001b[1;31m# 2-dimensional interpolation\u001b[0m\u001b[1;33m\u001b[0m\u001b[1;33m\u001b[0m\u001b[1;33m\u001b[0m\u001b[0m\n",
      "\u001b[1;32m~\\.conda\\envs\\Mush\\lib\\site-packages\\scipy\\ndimage\\filters.py\u001b[0m in \u001b[0;36mgaussian_filter\u001b[1;34m(input, sigma, order, output, mode, cval, truncate)\u001b[0m\n\u001b[0;32m    297\u001b[0m         \u001b[1;32mfor\u001b[0m \u001b[0maxis\u001b[0m\u001b[1;33m,\u001b[0m \u001b[0msigma\u001b[0m\u001b[1;33m,\u001b[0m \u001b[0morder\u001b[0m\u001b[1;33m,\u001b[0m \u001b[0mmode\u001b[0m \u001b[1;32min\u001b[0m \u001b[0maxes\u001b[0m\u001b[1;33m:\u001b[0m\u001b[1;33m\u001b[0m\u001b[1;33m\u001b[0m\u001b[0m\n\u001b[0;32m    298\u001b[0m             gaussian_filter1d(input, sigma, axis, order, output,\n\u001b[1;32m--> 299\u001b[1;33m                               mode, cval, truncate)\n\u001b[0m\u001b[0;32m    300\u001b[0m             \u001b[0minput\u001b[0m \u001b[1;33m=\u001b[0m \u001b[0moutput\u001b[0m\u001b[1;33m\u001b[0m\u001b[1;33m\u001b[0m\u001b[0m\n\u001b[0;32m    301\u001b[0m     \u001b[1;32melse\u001b[0m\u001b[1;33m:\u001b[0m\u001b[1;33m\u001b[0m\u001b[1;33m\u001b[0m\u001b[0m\n",
      "\u001b[1;32m~\\.conda\\envs\\Mush\\lib\\site-packages\\scipy\\ndimage\\filters.py\u001b[0m in \u001b[0;36mgaussian_filter1d\u001b[1;34m(input, sigma, axis, order, output, mode, cval, truncate)\u001b[0m\n\u001b[0;32m    215\u001b[0m     \u001b[1;31m# Since we are calling correlate, not convolve, revert the kernel\u001b[0m\u001b[1;33m\u001b[0m\u001b[1;33m\u001b[0m\u001b[1;33m\u001b[0m\u001b[0m\n\u001b[0;32m    216\u001b[0m     \u001b[0mweights\u001b[0m \u001b[1;33m=\u001b[0m \u001b[0m_gaussian_kernel1d\u001b[0m\u001b[1;33m(\u001b[0m\u001b[0msigma\u001b[0m\u001b[1;33m,\u001b[0m \u001b[0morder\u001b[0m\u001b[1;33m,\u001b[0m \u001b[0mlw\u001b[0m\u001b[1;33m)\u001b[0m\u001b[1;33m[\u001b[0m\u001b[1;33m:\u001b[0m\u001b[1;33m:\u001b[0m\u001b[1;33m-\u001b[0m\u001b[1;36m1\u001b[0m\u001b[1;33m]\u001b[0m\u001b[1;33m\u001b[0m\u001b[1;33m\u001b[0m\u001b[0m\n\u001b[1;32m--> 217\u001b[1;33m     \u001b[1;32mreturn\u001b[0m \u001b[0mcorrelate1d\u001b[0m\u001b[1;33m(\u001b[0m\u001b[0minput\u001b[0m\u001b[1;33m,\u001b[0m \u001b[0mweights\u001b[0m\u001b[1;33m,\u001b[0m \u001b[0maxis\u001b[0m\u001b[1;33m,\u001b[0m \u001b[0moutput\u001b[0m\u001b[1;33m,\u001b[0m \u001b[0mmode\u001b[0m\u001b[1;33m,\u001b[0m \u001b[0mcval\u001b[0m\u001b[1;33m,\u001b[0m \u001b[1;36m0\u001b[0m\u001b[1;33m)\u001b[0m\u001b[1;33m\u001b[0m\u001b[1;33m\u001b[0m\u001b[0m\n\u001b[0m\u001b[0;32m    218\u001b[0m \u001b[1;33m\u001b[0m\u001b[0m\n\u001b[0;32m    219\u001b[0m \u001b[1;33m\u001b[0m\u001b[0m\n",
      "\u001b[1;32m~\\.conda\\envs\\Mush\\lib\\site-packages\\scipy\\ndimage\\filters.py\u001b[0m in \u001b[0;36mcorrelate1d\u001b[1;34m(input, weights, axis, output, mode, cval, origin)\u001b[0m\n\u001b[0;32m     93\u001b[0m     \u001b[0mmode\u001b[0m \u001b[1;33m=\u001b[0m \u001b[0m_ni_support\u001b[0m\u001b[1;33m.\u001b[0m\u001b[0m_extend_mode_to_code\u001b[0m\u001b[1;33m(\u001b[0m\u001b[0mmode\u001b[0m\u001b[1;33m)\u001b[0m\u001b[1;33m\u001b[0m\u001b[1;33m\u001b[0m\u001b[0m\n\u001b[0;32m     94\u001b[0m     _nd_image.correlate1d(input, weights, axis, output, mode, cval,\n\u001b[1;32m---> 95\u001b[1;33m                           origin)\n\u001b[0m\u001b[0;32m     96\u001b[0m     \u001b[1;32mreturn\u001b[0m \u001b[0moutput\u001b[0m\u001b[1;33m\u001b[0m\u001b[1;33m\u001b[0m\u001b[0m\n\u001b[0;32m     97\u001b[0m \u001b[1;33m\u001b[0m\u001b[0m\n",
      "\u001b[1;31mKeyboardInterrupt\u001b[0m: "
     ]
    }
   ],
   "source": [
    "if loop_over_images:\n",
    "    years = range_years  # df['file_year'].unique().tolist()\n",
    "\n",
    "    # loop to get a csv per year \n",
    "    for year in years :\n",
    "        print('processing files from {}'.format(year))\n",
    "        # filter on year \n",
    "        df_=df[df['file_year']==year]\n",
    "        # generate lists\n",
    "        img_path_lst = df_['file_path'].tolist()[:idx_max]\n",
    "        img_id_lst = df_['image_id'].tolist()[:idx_max]\n",
    "        family_lst = df_['gbif_info.family'].tolist()[:idx_max]\n",
    "        # initiate two dicts \n",
    "        img_dict_ = {}\n",
    "        family_dict_ = {}\n",
    "        # define csv \n",
    "        feat_csv_path = ML_dir + 'images_' + str(year) + '.csv' # define path\n",
    "        y_csv_path = ML_dir + 'y_' + str(year) + '.csv' # define path\n",
    "        # loop to get a dict of array & a dict for y \n",
    "        for img_id,path,family in tqdm(zip(img_id_lst,img_path_lst,family_lst)): \n",
    "            img = io.imread(path) \n",
    "            img = resize(img, (pix_rows, pix_cols))  # RESIZE usng skimage    \n",
    "    #         img = Image.open(path) \n",
    "    #         img.thumbnail((pix_cols,pix_rows)) # RESIZE usng opencv (/!\\ size param inversé)\n",
    "            img_arr = np.array(img) # convert to array \n",
    "            img_dict_[img_id] = np.resize(img_arr,pix_rows*pix_cols*3)\n",
    "            # target \n",
    "            family_dict_[img_id] = family\n",
    "        # conncat dict in df\n",
    "        df_X = pd.DataFrame.from_dict(img_dict_, orient = 'index')\n",
    "        df_y = pd.DataFrame.from_dict(family_dict_, orient = 'index')\n",
    "        # save file\n",
    "        df_X.to_csv(feat_csv_path)\n",
    "        df_y.to_csv(y_csv_path)"
   ]
  },
  {
   "cell_type": "markdown",
   "metadata": {},
   "source": [
    "## Load csv"
   ]
  },
  {
   "cell_type": "code",
   "execution_count": 11,
   "metadata": {
    "ExecuteTime": {
     "end_time": "2022-01-08T15:03:24.613744Z",
     "start_time": "2022-01-08T15:01:29.632654Z"
    }
   },
   "outputs": [
    {
     "data": {
      "text/html": [
       "<div>\n",
       "<style scoped>\n",
       "    .dataframe tbody tr th:only-of-type {\n",
       "        vertical-align: middle;\n",
       "    }\n",
       "\n",
       "    .dataframe tbody tr th {\n",
       "        vertical-align: top;\n",
       "    }\n",
       "\n",
       "    .dataframe thead th {\n",
       "        text-align: right;\n",
       "    }\n",
       "</style>\n",
       "<table border=\"1\" class=\"dataframe\">\n",
       "  <thead>\n",
       "    <tr style=\"text-align: right;\">\n",
       "      <th></th>\n",
       "      <th>0</th>\n",
       "      <th>1</th>\n",
       "      <th>2</th>\n",
       "      <th>3</th>\n",
       "      <th>4</th>\n",
       "      <th>5</th>\n",
       "      <th>6</th>\n",
       "      <th>7</th>\n",
       "      <th>8</th>\n",
       "      <th>9</th>\n",
       "      <th>...</th>\n",
       "      <th>5174</th>\n",
       "      <th>5175</th>\n",
       "      <th>5176</th>\n",
       "      <th>5177</th>\n",
       "      <th>5178</th>\n",
       "      <th>5179</th>\n",
       "      <th>5180</th>\n",
       "      <th>5181</th>\n",
       "      <th>5182</th>\n",
       "      <th>5183</th>\n",
       "    </tr>\n",
       "  </thead>\n",
       "  <tbody>\n",
       "    <tr>\n",
       "      <th>682.0</th>\n",
       "      <td>0.088235</td>\n",
       "      <td>0.085512</td>\n",
       "      <td>0.068627</td>\n",
       "      <td>0.161438</td>\n",
       "      <td>0.143464</td>\n",
       "      <td>0.119935</td>\n",
       "      <td>0.126035</td>\n",
       "      <td>0.113072</td>\n",
       "      <td>0.078431</td>\n",
       "      <td>0.160022</td>\n",
       "      <td>...</td>\n",
       "      <td>0.175926</td>\n",
       "      <td>0.326144</td>\n",
       "      <td>0.239216</td>\n",
       "      <td>0.156863</td>\n",
       "      <td>0.316013</td>\n",
       "      <td>0.232026</td>\n",
       "      <td>0.163725</td>\n",
       "      <td>0.328758</td>\n",
       "      <td>0.243791</td>\n",
       "      <td>0.168083</td>\n",
       "    </tr>\n",
       "    <tr>\n",
       "      <th>685.0</th>\n",
       "      <td>0.066667</td>\n",
       "      <td>0.093464</td>\n",
       "      <td>0.050327</td>\n",
       "      <td>0.086601</td>\n",
       "      <td>0.112418</td>\n",
       "      <td>0.035621</td>\n",
       "      <td>0.081046</td>\n",
       "      <td>0.089542</td>\n",
       "      <td>0.051525</td>\n",
       "      <td>0.101089</td>\n",
       "      <td>...</td>\n",
       "      <td>0.152179</td>\n",
       "      <td>0.250436</td>\n",
       "      <td>0.257407</td>\n",
       "      <td>0.163508</td>\n",
       "      <td>0.210784</td>\n",
       "      <td>0.260131</td>\n",
       "      <td>0.136601</td>\n",
       "      <td>0.162092</td>\n",
       "      <td>0.204031</td>\n",
       "      <td>0.090850</td>\n",
       "    </tr>\n",
       "  </tbody>\n",
       "</table>\n",
       "<p>2 rows × 5184 columns</p>\n",
       "</div>"
      ],
      "text/plain": [
       "              0         1         2         3         4         5         6  \\\n",
       "682.0  0.088235  0.085512  0.068627  0.161438  0.143464  0.119935  0.126035   \n",
       "685.0  0.066667  0.093464  0.050327  0.086601  0.112418  0.035621  0.081046   \n",
       "\n",
       "              7         8         9  ...      5174      5175      5176  \\\n",
       "682.0  0.113072  0.078431  0.160022  ...  0.175926  0.326144  0.239216   \n",
       "685.0  0.089542  0.051525  0.101089  ...  0.152179  0.250436  0.257407   \n",
       "\n",
       "           5177      5178      5179      5180      5181      5182      5183  \n",
       "682.0  0.156863  0.316013  0.232026  0.163725  0.328758  0.243791  0.168083  \n",
       "685.0  0.163508  0.210784  0.260131  0.136601  0.162092  0.204031  0.090850  \n",
       "\n",
       "[2 rows x 5184 columns]"
      ]
     },
     "execution_count": 11,
     "metadata": {},
     "output_type": "execute_result"
    }
   ],
   "source": [
    "# Load csv features\n",
    "csv_files = [ ML_dir + 'images_' + str(year) + '.csv' for year in range_years if os.path.exists(ML_dir + 'images_' + str(year) + '.csv')]\n",
    "dfs_ = []\n",
    "for filename in csv_files:\n",
    "  df_ = pd.read_csv(filename, index_col=0, dtype=float)\n",
    "  dfs_.append(df_)\n",
    "df_X = pd.concat(dfs_, axis=0)\n",
    "df_X.head(2)"
   ]
  },
  {
   "cell_type": "code",
   "execution_count": 12,
   "metadata": {
    "ExecuteTime": {
     "end_time": "2022-01-08T15:03:25.186216Z",
     "start_time": "2022-01-08T15:03:24.627215Z"
    }
   },
   "outputs": [
    {
     "data": {
      "text/html": [
       "<div>\n",
       "<style scoped>\n",
       "    .dataframe tbody tr th:only-of-type {\n",
       "        vertical-align: middle;\n",
       "    }\n",
       "\n",
       "    .dataframe tbody tr th {\n",
       "        vertical-align: top;\n",
       "    }\n",
       "\n",
       "    .dataframe thead th {\n",
       "        text-align: right;\n",
       "    }\n",
       "</style>\n",
       "<table border=\"1\" class=\"dataframe\">\n",
       "  <thead>\n",
       "    <tr style=\"text-align: right;\">\n",
       "      <th></th>\n",
       "      <th>0</th>\n",
       "    </tr>\n",
       "  </thead>\n",
       "  <tbody>\n",
       "    <tr>\n",
       "      <th>682</th>\n",
       "      <td>Agaricaceae</td>\n",
       "    </tr>\n",
       "    <tr>\n",
       "      <th>685</th>\n",
       "      <td>Agaricaceae</td>\n",
       "    </tr>\n",
       "  </tbody>\n",
       "</table>\n",
       "</div>"
      ],
      "text/plain": [
       "               0\n",
       "682  Agaricaceae\n",
       "685  Agaricaceae"
      ]
     },
     "execution_count": 12,
     "metadata": {},
     "output_type": "execute_result"
    }
   ],
   "source": [
    "# Load csv y\n",
    "csv_files = [ ML_dir + 'y_' + str(year) + '.csv' for year in range_years if os.path.exists(ML_dir + 'y_' + str(year) + '.csv')]\n",
    "dfs_ = []\n",
    "for filename in csv_files:\n",
    "  df_ = pd.read_csv(filename, index_col=0)\n",
    "  dfs_.append(df_)\n",
    "df_y = pd.concat(dfs_, axis=0)\n",
    "df_y.head(2)"
   ]
  },
  {
   "cell_type": "markdown",
   "metadata": {},
   "source": [
    "## Check images"
   ]
  },
  {
   "cell_type": "code",
   "execution_count": 13,
   "metadata": {
    "ExecuteTime": {
     "end_time": "2022-01-08T15:03:25.975339Z",
     "start_time": "2022-01-08T15:03:25.191536Z"
    }
   },
   "outputs": [
    {
     "data": {
      "image/png": "[encoded data removed]",
      "text/plain": [
       "<Figure size 432x288 with 6 Axes>"
      ]
     },
     "metadata": {
      "needs_background": "light"
     },
     "output_type": "display_data"
    }
   ],
   "source": [
    "j = 1\n",
    "image_ids = []\n",
    "for i in range(6):\n",
    "    # image_id  \n",
    "    image_id = random.choice(df_X.index)\n",
    "    image_ids.append(image_id) #pour retrouver les paths apres \n",
    "    # TARGET\n",
    "    target = df_y.loc[image_id].values[0]\n",
    "    # Image\n",
    "    img = df_X.loc[image_id,:].to_numpy().reshape(pix_rows, pix_cols, 3)\n",
    "    # Subplot nous permet de selectionner une des sous-figures parmi une grille. Dans notre cas la grille\n",
    "    # a 2 lignes et 3 colonnes.\n",
    "    plt.subplot(2, 3, j)\n",
    "    j = j + 1   \n",
    "    # Suppresion des axes\n",
    "    plt.axis('off')  \n",
    "    # Affichage de la figure en niveaux de gris\n",
    "    plt.imshow(img)\n",
    "    # Modification du titre de la figure\n",
    "    plt.title('id:{} \\n {}'.format(str(image_id),target))"
   ]
  },
  {
   "cell_type": "code",
   "execution_count": 14,
   "metadata": {
    "ExecuteTime": {
     "end_time": "2022-01-08T15:03:26.021966Z",
     "start_time": "2022-01-08T15:03:25.980184Z"
    },
    "scrolled": true
   },
   "outputs": [
    {
     "name": "stdout",
     "output_type": "stream",
     "text": [
      "C:\\Users\\thibe\\Google Drive\\Projet datascientest\\RAW DATA\\IMAGES\\2012\\Clitocybe\\298849.jpg---------->Tricholomataceae\n",
      "C:\\Users\\thibe\\Google Drive\\Projet datascientest\\RAW DATA\\IMAGES\\2012\\Strobilomyces strobilaceus\\259207.jpg---------->Boletaceae\n",
      "C:\\Users\\thibe\\Google Drive\\Projet datascientest\\RAW DATA\\IMAGES\\2013\\Cortinarius\\384212.jpg---------->Cortinariaceae\n",
      "C:\\Users\\thibe\\Google Drive\\Projet datascientest\\RAW DATA\\IMAGES\\2014\\Cortinarius limonius\\449311.jpg---------->Cortinariaceae\n",
      "C:\\Users\\thibe\\Google Drive\\Projet datascientest\\RAW DATA\\IMAGES\\2014\\Amanita tephrea\\456638.jpg---------->Amanitaceae\n",
      "C:\\Users\\thibe\\Google Drive\\Projet datascientest\\RAW DATA\\IMAGES\\2012\\Psilocybe baeocystis\\219115.jpg---------->Strophariaceae\n"
     ]
    }
   ],
   "source": [
    "# to check with raw files \n",
    "for image_id in image_ids:\n",
    "     print(str(summary.loc[summary['image_id'] == image_id,'file_path'].values[0]).replace('/',os.sep).replace('\\\\\\\\',os.sep) + \n",
    "           '-'*10 + '>' +\n",
    "          str(summary.loc[summary['image_id'] == image_id,'gbif_info.family'].values[0]))"
   ]
  },
  {
   "cell_type": "markdown",
   "metadata": {},
   "source": [
    "## Save as array"
   ]
  },
  {
   "cell_type": "code",
   "execution_count": 15,
   "metadata": {
    "ExecuteTime": {
     "end_time": "2022-01-08T15:03:34.223461Z",
     "start_time": "2022-01-08T15:03:26.026889Z"
    }
   },
   "outputs": [],
   "source": [
    "#convert to numpy array \n",
    "X=df_X.to_numpy()\n",
    "y=df_y.to_numpy()\n",
    "# save \n",
    "np.save(ML_dir + 'X', X)\n",
    "np.save(ML_dir + 'y', y)"
   ]
  },
  {
   "cell_type": "markdown",
   "metadata": {},
   "source": [
    "# Random forest "
   ]
  },
  {
   "cell_type": "code",
   "execution_count": 16,
   "metadata": {
    "ExecuteTime": {
     "end_time": "2022-01-08T15:03:34.238703Z",
     "start_time": "2022-01-08T15:03:34.228448Z"
    }
   },
   "outputs": [],
   "source": [
    "# AJOUTER LOAD X, y directement ici une fois qu'on aura fixer le dataset"
   ]
  },
  {
   "cell_type": "code",
   "execution_count": 17,
   "metadata": {
    "ExecuteTime": {
     "end_time": "2022-01-08T15:03:34.286610Z",
     "start_time": "2022-01-08T15:03:34.246400Z"
    }
   },
   "outputs": [
    {
     "data": {
      "text/plain": [
       "array([0, 0, 0, ..., 2, 2, 2])"
      ]
     },
     "execution_count": 17,
     "metadata": {},
     "output_type": "execute_result"
    }
   ],
   "source": [
    "## Convert y\n",
    "le = preprocessing.LabelEncoder()\n",
    "y = le.fit_transform(y.ravel())\n",
    "y"
   ]
  },
  {
   "cell_type": "code",
   "execution_count": 18,
   "metadata": {
    "ExecuteTime": {
     "end_time": "2022-01-08T15:03:44.868473Z",
     "start_time": "2022-01-08T15:03:34.291280Z"
    }
   },
   "outputs": [],
   "source": [
    "## train / test \n",
    "X_train, X_test, y_train, y_test = train_test_split(X, y, test_size=0.2, random_state=random_seed)"
   ]
  },
  {
   "cell_type": "code",
   "execution_count": 19,
   "metadata": {
    "ExecuteTime": {
     "end_time": "2022-01-08T15:07:37.544765Z",
     "start_time": "2022-01-08T15:03:44.885969Z"
    }
   },
   "outputs": [
    {
     "data": {
      "text/plain": [
       "RandomForestClassifier(n_jobs=-2)"
      ]
     },
     "execution_count": 19,
     "metadata": {},
     "output_type": "execute_result"
    }
   ],
   "source": [
    "# train model \n",
    "# Instanciation d'un modele Random Forest\n",
    "model = RandomForestClassifier(n_jobs=-2)\n",
    "# Entraînement du modèle\n",
    "model.fit(X_train, y_train)"
   ]
  },
  {
   "cell_type": "code",
   "execution_count": 20,
   "metadata": {
    "ExecuteTime": {
     "end_time": "2022-01-08T15:07:40.772965Z",
     "start_time": "2022-01-08T15:07:37.573961Z"
    }
   },
   "outputs": [],
   "source": [
    "# Prédiction sur l'échantillon de test\n",
    "test_pred = model.predict(X_test)"
   ]
  },
  {
   "cell_type": "code",
   "execution_count": 21,
   "metadata": {
    "ExecuteTime": {
     "end_time": "2022-01-08T15:07:40.865284Z",
     "start_time": "2022-01-08T15:07:40.780276Z"
    }
   },
   "outputs": [
    {
     "name": "stdout",
     "output_type": "stream",
     "text": [
      "Evaluation détaillée de la Classification par RDF :\n",
      " \n",
      "               precision    recall  f1-score   support\n",
      "\n",
      "           0       0.25      0.31      0.28      1095\n",
      "           1       0.24      0.21      0.22      1004\n",
      "           2       0.21      0.48      0.29      1174\n",
      "           3       0.15      0.11      0.12       792\n",
      "           4       0.45      0.05      0.09       487\n",
      "           5       0.20      0.02      0.03       535\n",
      "           6       0.15      0.00      0.01       511\n",
      "           7       0.22      0.34      0.27      1207\n",
      "           8       0.22      0.14      0.17       917\n",
      "           9       0.20      0.14      0.16       997\n",
      "\n",
      "    accuracy                           0.22      8719\n",
      "   macro avg       0.23      0.18      0.16      8719\n",
      "weighted avg       0.22      0.22      0.19      8719\n",
      "\n"
     ]
    }
   ],
   "source": [
    "print(\"Evaluation détaillée de la Classification par RDF :\\n \\n\" ,\n",
    "      (classification_report(y_test, test_pred)))\n",
    "\n",
    "# On observe que les chiffres 0, 1 et 6 ont le meilleur rappel (recall), tandis que le chiffre 1 a la meilleure précision.\n",
    "# Le F1-score, qui calcule la moyenne harmonique de la précision et du rappel, est un bon indicateur lorsqu'on cherche à prendre\n",
    "# en compte ces deux mesures."
   ]
  },
  {
   "cell_type": "code",
   "execution_count": null,
   "metadata": {},
   "outputs": [],
   "source": []
  }
 ],
 "metadata": {
  "hide_input": false,
  "kernelspec": {
   "display_name": "Python 3",
   "language": "python",
   "name": "python3"
  },
  "language_info": {
   "codemirror_mode": {
    "name": "ipython",
    "version": 3
   },
   "file_extension": ".py",
   "mimetype": "text/x-python",
   "name": "python",
   "nbconvert_exporter": "python",
   "pygments_lexer": "ipython3",
   "version": "3.7.3"
  },
  "toc": {
   "base_numbering": 1,
   "nav_menu": {},
   "number_sections": true,
   "sideBar": true,
   "skip_h1_title": false,
   "title_cell": "Table of Contents",
   "title_sidebar": "Contents",
   "toc_cell": false,
   "toc_position": {
    "height": "calc(100% - 180px)",
    "left": "10px",
    "top": "150px",
    "width": "284.433px"
   },
   "toc_section_display": true,
   "toc_window_display": true
  },
  "varInspector": {
   "cols": {
    "lenName": 16,
    "lenType": 16,
    "lenVar": 40
   },
   "kernels_config": {
    "python": {
     "delete_cmd_postfix": "",
     "delete_cmd_prefix": "del ",
     "library": "var_list.py",
     "varRefreshCmd": "print(var_dic_list())"
    },
    "r": {
     "delete_cmd_postfix": ") ",
     "delete_cmd_prefix": "rm(",
     "library": "var_list.r",
     "varRefreshCmd": "cat(var_dic_list()) "
    }
   },
   "types_to_exclude": [
    "module",
    "function",
    "builtin_function_or_method",
    "instance",
    "_Feature"
   ],
   "window_display": false
  }
 },
 "nbformat": 4,
 "nbformat_minor": 2
}
