{
 "cells": [
  {
   "cell_type": "code",
   "execution_count": 119,
   "id": "47d609bf",
   "metadata": {},
   "outputs": [
    {
     "name": "stdout",
     "output_type": "stream",
     "text": [
      "Requirement already satisfied: ipython-autotime in c:\\users\\antoine\\anaconda3\\lib\\site-packages (0.3.1)\n",
      "Requirement already satisfied: ipython in c:\\users\\antoine\\anaconda3\\lib\\site-packages (from ipython-autotime) (7.29.0)\n",
      "Requirement already satisfied: jedi>=0.16 in c:\\users\\antoine\\anaconda3\\lib\\site-packages (from ipython->ipython-autotime) (0.18.0)\n",
      "Requirement already satisfied: prompt-toolkit!=3.0.0,!=3.0.1,<3.1.0,>=2.0.0 in c:\\users\\antoine\\anaconda3\\lib\\site-packages (from ipython->ipython-autotime) (3.0.20)\n",
      "Requirement already satisfied: pickleshare in c:\\users\\antoine\\anaconda3\\lib\\site-packages (from ipython->ipython-autotime) (0.7.5)\n",
      "Requirement already satisfied: setuptools>=18.5 in c:\\users\\antoine\\anaconda3\\lib\\site-packages (from ipython->ipython-autotime) (58.0.4)\n",
      "Requirement already satisfied: pygments in c:\\users\\antoine\\anaconda3\\lib\\site-packages (from ipython->ipython-autotime) (2.10.0)\n",
      "Requirement already satisfied: traitlets>=4.2 in c:\\users\\antoine\\anaconda3\\lib\\site-packages (from ipython->ipython-autotime) (5.1.0)\n",
      "Requirement already satisfied: colorama in c:\\users\\antoine\\anaconda3\\lib\\site-packages (from ipython->ipython-autotime) (0.4.4)\n",
      "Requirement already satisfied: backcall in c:\\users\\antoine\\anaconda3\\lib\\site-packages (from ipython->ipython-autotime) (0.2.0)\n",
      "Requirement already satisfied: decorator in c:\\users\\antoine\\anaconda3\\lib\\site-packages (from ipython->ipython-autotime) (5.1.0)\n",
      "Requirement already satisfied: matplotlib-inline in c:\\users\\antoine\\anaconda3\\lib\\site-packages (from ipython->ipython-autotime) (0.1.2)\n",
      "Requirement already satisfied: parso<0.9.0,>=0.8.0 in c:\\users\\antoine\\anaconda3\\lib\\site-packages (from jedi>=0.16->ipython->ipython-autotime) (0.8.2)\n",
      "Requirement already satisfied: wcwidth in c:\\users\\antoine\\anaconda3\\lib\\site-packages (from prompt-toolkit!=3.0.0,!=3.0.1,<3.1.0,>=2.0.0->ipython->ipython-autotime) (0.2.5)\n",
      "The autotime extension is already loaded. To reload it, use:\n",
      "  %reload_ext autotime\n",
      "time: 2.89 s (started: 2022-02-17 02:36:51 +01:00)\n"
     ]
    }
   ],
   "source": [
    "!pip install ipython-autotime\n",
    "%load_ext autotime"
   ]
  },
  {
   "cell_type": "code",
   "execution_count": 2,
   "id": "fb88d283",
   "metadata": {},
   "outputs": [
    {
     "name": "stdout",
     "output_type": "stream",
     "text": [
      "time: 31 ms (started: 2022-02-17 01:57:03 +01:00)\n"
     ]
    }
   ],
   "source": [
    "# Load the TensorBoard notebook extension\n",
    "%load_ext tensorboard"
   ]
  },
  {
   "cell_type": "code",
   "execution_count": 3,
   "id": "8db304cd",
   "metadata": {},
   "outputs": [
    {
     "name": "stdout",
     "output_type": "stream",
     "text": [
      "time: 17.8 s (started: 2022-02-17 01:57:09 +01:00)\n"
     ]
    }
   ],
   "source": [
    "import os\n",
    "import pandas as pd\n",
    "import numpy as np\n",
    "import time\n",
    "import datetime\n",
    "import itertools\n",
    "import glob\n",
    "import re\n",
    "\n",
    "import matplotlib.pyplot as plt\n",
    "import seaborn as sns\n",
    "import matplotlib.style as style\n",
    "style.use('fivethirtyeight')\n",
    "\n",
    "from skimage import io\n",
    "\n",
    "from sklearn.model_selection import train_test_split\n",
    "from sklearn import metrics\n",
    "from sklearn.metrics import confusion_matrix\n",
    "from sklearn.utils import class_weight\n",
    "\n",
    "import tensorflow as tf\n",
    "from tensorflow.keras.models import Sequential, Model\n",
    "from tensorflow.keras.layers import Dense,Activation,Input,Dropout,Flatten,Conv2D,MaxPooling2D\n",
    "from tensorflow.keras.layers import GlobalAveragePooling2D"
   ]
  },
  {
   "cell_type": "code",
   "execution_count": 5,
   "id": "bcfccfc1",
   "metadata": {},
   "outputs": [
    {
     "name": "stdout",
     "output_type": "stream",
     "text": [
      "C:/Users/ANTOINE/Project_Mushroom/deep_learning/220217_01H58/\n",
      "time: 16 ms (started: 2022-02-17 01:58:44 +01:00)\n"
     ]
    }
   ],
   "source": [
    "#Directory path in my com\n",
    "root_dir ='C:/Users/ANTOINE/Project_Mushroom/' \n",
    "raw_data_dir = root_dir + 'raw_data/' #raw images folder\n",
    "DL_dir = root_dir + 'deep_learning/' #Deep Learning folder\n",
    "\n",
    "csv_file_paths = 'image_and_json_data.csv'\n",
    "\n",
    "# export dir with time stamp to save the results of the Deep Learning\n",
    "timestamp = datetime.datetime.now().strftime('%y%m%d_%HH%M')\n",
    "export_dir = DL_dir + timestamp + '/'\n",
    "os.makedirs(export_dir)\n",
    "print(str(export_dir))"
   ]
  },
  {
   "cell_type": "markdown",
   "id": "fe50af0f",
   "metadata": {},
   "source": [
    "# Variables"
   ]
  },
  {
   "cell_type": "code",
   "execution_count": 35,
   "id": "f94d9966",
   "metadata": {},
   "outputs": [
    {
     "name": "stdout",
     "output_type": "stream",
     "text": [
      "time: 0 ns (started: 2022-02-17 02:10:18 +01:00)\n"
     ]
    }
   ],
   "source": [
    "family_number = 7\n",
    "number_of_images = 5000\n",
    "random_seed = 42\n",
    "resol = (240, 320)\n",
    "batch_size = 16"
   ]
  },
  {
   "cell_type": "markdown",
   "id": "692a2fff",
   "metadata": {},
   "source": [
    "# Dataframe creation and processing"
   ]
  },
  {
   "cell_type": "code",
   "execution_count": 9,
   "id": "08cb66ce",
   "metadata": {},
   "outputs": [
    {
     "name": "stdout",
     "output_type": "stream",
     "text": [
      "(208774, 38)\n"
     ]
    },
    {
     "data": {
      "text/html": [
       "<div>\n",
       "<style scoped>\n",
       "    .dataframe tbody tr th:only-of-type {\n",
       "        vertical-align: middle;\n",
       "    }\n",
       "\n",
       "    .dataframe tbody tr th {\n",
       "        vertical-align: top;\n",
       "    }\n",
       "\n",
       "    .dataframe thead th {\n",
       "        text-align: right;\n",
       "    }\n",
       "</style>\n",
       "<table border=\"1\" class=\"dataframe\">\n",
       "  <thead>\n",
       "    <tr style=\"text-align: right;\">\n",
       "      <th></th>\n",
       "      <th>file_name</th>\n",
       "      <th>file_path</th>\n",
       "      <th>resolution</th>\n",
       "      <th>file_year</th>\n",
       "      <th>image_id</th>\n",
       "      <th>format</th>\n",
       "      <th>observation</th>\n",
       "      <th>label</th>\n",
       "      <th>image_url</th>\n",
       "      <th>user</th>\n",
       "      <th>...</th>\n",
       "      <th>gbif_info.canonicalName</th>\n",
       "      <th>gbif_info.phylumKey</th>\n",
       "      <th>gbif_info.class</th>\n",
       "      <th>gbif_info.synonym</th>\n",
       "      <th>gbif_info.scientificName</th>\n",
       "      <th>gbif_info.genus</th>\n",
       "      <th>gbif_info.order</th>\n",
       "      <th>gbif_info.note</th>\n",
       "      <th>gbif_info</th>\n",
       "      <th>json_file</th>\n",
       "    </tr>\n",
       "  </thead>\n",
       "  <tbody>\n",
       "    <tr>\n",
       "      <th>0</th>\n",
       "      <td>1208.jpg</td>\n",
       "      <td>C:/Users/ANTOINE/Project_Mushroom/row_data\\ima...</td>\n",
       "      <td>(243, 320)</td>\n",
       "      <td>ages</td>\n",
       "      <td>1208</td>\n",
       "      <td>jpg</td>\n",
       "      <td>1007</td>\n",
       "      <td>Agaricales</td>\n",
       "      <td>http://mushroomobserver.org/images/320/1208</td>\n",
       "      <td>25</td>\n",
       "      <td>...</td>\n",
       "      <td>Agaricales</td>\n",
       "      <td>34.0</td>\n",
       "      <td>Agaricomycetes</td>\n",
       "      <td>False</td>\n",
       "      <td>Agaricales</td>\n",
       "      <td>NaN</td>\n",
       "      <td>Agaricales</td>\n",
       "      <td>NaN</td>\n",
       "      <td>NaN</td>\n",
       "      <td>row_data\\json\\observations_0.json</td>\n",
       "    </tr>\n",
       "    <tr>\n",
       "      <th>1</th>\n",
       "      <td>1604.jpg</td>\n",
       "      <td>C:/Users/ANTOINE/Project_Mushroom/row_data\\ima...</td>\n",
       "      <td>(320, 164)</td>\n",
       "      <td>ages</td>\n",
       "      <td>1604</td>\n",
       "      <td>jpg</td>\n",
       "      <td>1535</td>\n",
       "      <td>Agaricales</td>\n",
       "      <td>http://mushroomobserver.org/images/320/1604</td>\n",
       "      <td>43</td>\n",
       "      <td>...</td>\n",
       "      <td>Agaricales</td>\n",
       "      <td>34.0</td>\n",
       "      <td>Agaricomycetes</td>\n",
       "      <td>False</td>\n",
       "      <td>Agaricales</td>\n",
       "      <td>NaN</td>\n",
       "      <td>Agaricales</td>\n",
       "      <td>NaN</td>\n",
       "      <td>NaN</td>\n",
       "      <td>row_data\\json\\observations_0.json</td>\n",
       "    </tr>\n",
       "    <tr>\n",
       "      <th>2</th>\n",
       "      <td>1608.jpg</td>\n",
       "      <td>C:/Users/ANTOINE/Project_Mushroom/row_data\\ima...</td>\n",
       "      <td>(320, 286)</td>\n",
       "      <td>ages</td>\n",
       "      <td>1608</td>\n",
       "      <td>jpg</td>\n",
       "      <td>1537</td>\n",
       "      <td>Agaricales</td>\n",
       "      <td>http://mushroomobserver.org/images/320/1608</td>\n",
       "      <td>43</td>\n",
       "      <td>...</td>\n",
       "      <td>Agaricales</td>\n",
       "      <td>34.0</td>\n",
       "      <td>Agaricomycetes</td>\n",
       "      <td>False</td>\n",
       "      <td>Agaricales</td>\n",
       "      <td>NaN</td>\n",
       "      <td>Agaricales</td>\n",
       "      <td>NaN</td>\n",
       "      <td>NaN</td>\n",
       "      <td>row_data\\json\\observations_0.json</td>\n",
       "    </tr>\n",
       "    <tr>\n",
       "      <th>3</th>\n",
       "      <td>29.jpg</td>\n",
       "      <td>C:/Users/ANTOINE/Project_Mushroom/row_data\\ima...</td>\n",
       "      <td>(240, 320)</td>\n",
       "      <td>ages</td>\n",
       "      <td>29</td>\n",
       "      <td>jpg</td>\n",
       "      <td>23</td>\n",
       "      <td>Agaricales</td>\n",
       "      <td>http://mushroomobserver.org/images/320/29</td>\n",
       "      <td>1</td>\n",
       "      <td>...</td>\n",
       "      <td>Agaricales</td>\n",
       "      <td>34.0</td>\n",
       "      <td>Agaricomycetes</td>\n",
       "      <td>False</td>\n",
       "      <td>Agaricales</td>\n",
       "      <td>NaN</td>\n",
       "      <td>Agaricales</td>\n",
       "      <td>NaN</td>\n",
       "      <td>NaN</td>\n",
       "      <td>row_data\\json\\observations_0.json</td>\n",
       "    </tr>\n",
       "    <tr>\n",
       "      <th>4</th>\n",
       "      <td>680.jpg</td>\n",
       "      <td>C:/Users/ANTOINE/Project_Mushroom/row_data\\ima...</td>\n",
       "      <td>(240, 320)</td>\n",
       "      <td>ages</td>\n",
       "      <td>680</td>\n",
       "      <td>jpg</td>\n",
       "      <td>536</td>\n",
       "      <td>Agaricus</td>\n",
       "      <td>http://mushroomobserver.org/images/320/680</td>\n",
       "      <td>1</td>\n",
       "      <td>...</td>\n",
       "      <td>Agaricus</td>\n",
       "      <td>34.0</td>\n",
       "      <td>Agaricomycetes</td>\n",
       "      <td>False</td>\n",
       "      <td>Agaricus</td>\n",
       "      <td>Agaricus</td>\n",
       "      <td>Agaricales</td>\n",
       "      <td>NaN</td>\n",
       "      <td>NaN</td>\n",
       "      <td>row_data\\json\\observations_0.json</td>\n",
       "    </tr>\n",
       "  </tbody>\n",
       "</table>\n",
       "<p>5 rows × 38 columns</p>\n",
       "</div>"
      ],
      "text/plain": [
       "  file_name                                          file_path  resolution  \\\n",
       "0  1208.jpg  C:/Users/ANTOINE/Project_Mushroom/row_data\\ima...  (243, 320)   \n",
       "1  1604.jpg  C:/Users/ANTOINE/Project_Mushroom/row_data\\ima...  (320, 164)   \n",
       "2  1608.jpg  C:/Users/ANTOINE/Project_Mushroom/row_data\\ima...  (320, 286)   \n",
       "3    29.jpg  C:/Users/ANTOINE/Project_Mushroom/row_data\\ima...  (240, 320)   \n",
       "4   680.jpg  C:/Users/ANTOINE/Project_Mushroom/row_data\\ima...  (240, 320)   \n",
       "\n",
       "  file_year  image_id format  observation       label  \\\n",
       "0      ages      1208    jpg         1007  Agaricales   \n",
       "1      ages      1604    jpg         1535  Agaricales   \n",
       "2      ages      1608    jpg         1537  Agaricales   \n",
       "3      ages        29    jpg           23  Agaricales   \n",
       "4      ages       680    jpg          536    Agaricus   \n",
       "\n",
       "                                     image_url  user  ...  \\\n",
       "0  http://mushroomobserver.org/images/320/1208    25  ...   \n",
       "1  http://mushroomobserver.org/images/320/1604    43  ...   \n",
       "2  http://mushroomobserver.org/images/320/1608    43  ...   \n",
       "3    http://mushroomobserver.org/images/320/29     1  ...   \n",
       "4   http://mushroomobserver.org/images/320/680     1  ...   \n",
       "\n",
       "  gbif_info.canonicalName  gbif_info.phylumKey  gbif_info.class  \\\n",
       "0              Agaricales                 34.0   Agaricomycetes   \n",
       "1              Agaricales                 34.0   Agaricomycetes   \n",
       "2              Agaricales                 34.0   Agaricomycetes   \n",
       "3              Agaricales                 34.0   Agaricomycetes   \n",
       "4                Agaricus                 34.0   Agaricomycetes   \n",
       "\n",
       "  gbif_info.synonym gbif_info.scientificName  gbif_info.genus gbif_info.order  \\\n",
       "0             False               Agaricales              NaN      Agaricales   \n",
       "1             False               Agaricales              NaN      Agaricales   \n",
       "2             False               Agaricales              NaN      Agaricales   \n",
       "3             False               Agaricales              NaN      Agaricales   \n",
       "4             False                 Agaricus         Agaricus      Agaricales   \n",
       "\n",
       "  gbif_info.note  gbif_info                          json_file  \n",
       "0            NaN        NaN  row_data\\json\\observations_0.json  \n",
       "1            NaN        NaN  row_data\\json\\observations_0.json  \n",
       "2            NaN        NaN  row_data\\json\\observations_0.json  \n",
       "3            NaN        NaN  row_data\\json\\observations_0.json  \n",
       "4            NaN        NaN  row_data\\json\\observations_0.json  \n",
       "\n",
       "[5 rows x 38 columns]"
      ]
     },
     "execution_count": 9,
     "metadata": {},
     "output_type": "execute_result"
    },
    {
     "name": "stdout",
     "output_type": "stream",
     "text": [
      "time: 1.39 s (started: 2022-02-17 02:03:41 +01:00)\n"
     ]
    }
   ],
   "source": [
    "# load final database\n",
    "df_paths =  pd.read_csv(root_dir + 'image_and_json_data.csv')\n",
    "print(df_paths.shape)\n",
    "df_paths.head()"
   ]
  },
  {
   "cell_type": "code",
   "execution_count": 10,
   "id": "6b077c67",
   "metadata": {},
   "outputs": [
    {
     "name": "stdout",
     "output_type": "stream",
     "text": [
      "208774 rows in the file\n"
     ]
    },
    {
     "data": {
      "text/html": [
       "<div>\n",
       "<style scoped>\n",
       "    .dataframe tbody tr th:only-of-type {\n",
       "        vertical-align: middle;\n",
       "    }\n",
       "\n",
       "    .dataframe tbody tr th {\n",
       "        vertical-align: top;\n",
       "    }\n",
       "\n",
       "    .dataframe thead th {\n",
       "        text-align: right;\n",
       "    }\n",
       "</style>\n",
       "<table border=\"1\" class=\"dataframe\">\n",
       "  <thead>\n",
       "    <tr style=\"text-align: right;\">\n",
       "      <th></th>\n",
       "      <th>file_name</th>\n",
       "      <th>file_path</th>\n",
       "      <th>resolution</th>\n",
       "      <th>file_year</th>\n",
       "      <th>image_id</th>\n",
       "      <th>format</th>\n",
       "      <th>observation</th>\n",
       "      <th>label</th>\n",
       "      <th>image_url</th>\n",
       "      <th>user</th>\n",
       "      <th>...</th>\n",
       "      <th>gbif_info.canonicalName</th>\n",
       "      <th>gbif_info.phylumKey</th>\n",
       "      <th>gbif_info.class</th>\n",
       "      <th>gbif_info.synonym</th>\n",
       "      <th>gbif_info.scientificName</th>\n",
       "      <th>gbif_info.genus</th>\n",
       "      <th>gbif_info.order</th>\n",
       "      <th>gbif_info.note</th>\n",
       "      <th>gbif_info</th>\n",
       "      <th>json_file</th>\n",
       "    </tr>\n",
       "  </thead>\n",
       "  <tbody>\n",
       "    <tr>\n",
       "      <th>0</th>\n",
       "      <td>1208.jpg</td>\n",
       "      <td>C:/Users/ANTOINE/Project_Mushroom/row_data\\ima...</td>\n",
       "      <td>(243, 320)</td>\n",
       "      <td>ages</td>\n",
       "      <td>1208</td>\n",
       "      <td>jpg</td>\n",
       "      <td>1007</td>\n",
       "      <td>Agaricales</td>\n",
       "      <td>http://mushroomobserver.org/images/320/1208</td>\n",
       "      <td>25</td>\n",
       "      <td>...</td>\n",
       "      <td>Agaricales</td>\n",
       "      <td>34.0</td>\n",
       "      <td>Agaricomycetes</td>\n",
       "      <td>False</td>\n",
       "      <td>Agaricales</td>\n",
       "      <td>NaN</td>\n",
       "      <td>Agaricales</td>\n",
       "      <td>NaN</td>\n",
       "      <td>NaN</td>\n",
       "      <td>row_data\\json\\observations_0.json</td>\n",
       "    </tr>\n",
       "    <tr>\n",
       "      <th>1</th>\n",
       "      <td>1604.jpg</td>\n",
       "      <td>C:/Users/ANTOINE/Project_Mushroom/row_data\\ima...</td>\n",
       "      <td>(320, 164)</td>\n",
       "      <td>ages</td>\n",
       "      <td>1604</td>\n",
       "      <td>jpg</td>\n",
       "      <td>1535</td>\n",
       "      <td>Agaricales</td>\n",
       "      <td>http://mushroomobserver.org/images/320/1604</td>\n",
       "      <td>43</td>\n",
       "      <td>...</td>\n",
       "      <td>Agaricales</td>\n",
       "      <td>34.0</td>\n",
       "      <td>Agaricomycetes</td>\n",
       "      <td>False</td>\n",
       "      <td>Agaricales</td>\n",
       "      <td>NaN</td>\n",
       "      <td>Agaricales</td>\n",
       "      <td>NaN</td>\n",
       "      <td>NaN</td>\n",
       "      <td>row_data\\json\\observations_0.json</td>\n",
       "    </tr>\n",
       "    <tr>\n",
       "      <th>2</th>\n",
       "      <td>1608.jpg</td>\n",
       "      <td>C:/Users/ANTOINE/Project_Mushroom/row_data\\ima...</td>\n",
       "      <td>(320, 286)</td>\n",
       "      <td>ages</td>\n",
       "      <td>1608</td>\n",
       "      <td>jpg</td>\n",
       "      <td>1537</td>\n",
       "      <td>Agaricales</td>\n",
       "      <td>http://mushroomobserver.org/images/320/1608</td>\n",
       "      <td>43</td>\n",
       "      <td>...</td>\n",
       "      <td>Agaricales</td>\n",
       "      <td>34.0</td>\n",
       "      <td>Agaricomycetes</td>\n",
       "      <td>False</td>\n",
       "      <td>Agaricales</td>\n",
       "      <td>NaN</td>\n",
       "      <td>Agaricales</td>\n",
       "      <td>NaN</td>\n",
       "      <td>NaN</td>\n",
       "      <td>row_data\\json\\observations_0.json</td>\n",
       "    </tr>\n",
       "    <tr>\n",
       "      <th>3</th>\n",
       "      <td>29.jpg</td>\n",
       "      <td>C:/Users/ANTOINE/Project_Mushroom/row_data\\ima...</td>\n",
       "      <td>(240, 320)</td>\n",
       "      <td>ages</td>\n",
       "      <td>29</td>\n",
       "      <td>jpg</td>\n",
       "      <td>23</td>\n",
       "      <td>Agaricales</td>\n",
       "      <td>http://mushroomobserver.org/images/320/29</td>\n",
       "      <td>1</td>\n",
       "      <td>...</td>\n",
       "      <td>Agaricales</td>\n",
       "      <td>34.0</td>\n",
       "      <td>Agaricomycetes</td>\n",
       "      <td>False</td>\n",
       "      <td>Agaricales</td>\n",
       "      <td>NaN</td>\n",
       "      <td>Agaricales</td>\n",
       "      <td>NaN</td>\n",
       "      <td>NaN</td>\n",
       "      <td>row_data\\json\\observations_0.json</td>\n",
       "    </tr>\n",
       "    <tr>\n",
       "      <th>4</th>\n",
       "      <td>680.jpg</td>\n",
       "      <td>C:/Users/ANTOINE/Project_Mushroom/row_data\\ima...</td>\n",
       "      <td>(240, 320)</td>\n",
       "      <td>ages</td>\n",
       "      <td>680</td>\n",
       "      <td>jpg</td>\n",
       "      <td>536</td>\n",
       "      <td>Agaricus</td>\n",
       "      <td>http://mushroomobserver.org/images/320/680</td>\n",
       "      <td>1</td>\n",
       "      <td>...</td>\n",
       "      <td>Agaricus</td>\n",
       "      <td>34.0</td>\n",
       "      <td>Agaricomycetes</td>\n",
       "      <td>False</td>\n",
       "      <td>Agaricus</td>\n",
       "      <td>Agaricus</td>\n",
       "      <td>Agaricales</td>\n",
       "      <td>NaN</td>\n",
       "      <td>NaN</td>\n",
       "      <td>row_data\\json\\observations_0.json</td>\n",
       "    </tr>\n",
       "  </tbody>\n",
       "</table>\n",
       "<p>5 rows × 38 columns</p>\n",
       "</div>"
      ],
      "text/plain": [
       "  file_name                                          file_path  resolution  \\\n",
       "0  1208.jpg  C:/Users/ANTOINE/Project_Mushroom/row_data\\ima...  (243, 320)   \n",
       "1  1604.jpg  C:/Users/ANTOINE/Project_Mushroom/row_data\\ima...  (320, 164)   \n",
       "2  1608.jpg  C:/Users/ANTOINE/Project_Mushroom/row_data\\ima...  (320, 286)   \n",
       "3    29.jpg  C:/Users/ANTOINE/Project_Mushroom/row_data\\ima...  (240, 320)   \n",
       "4   680.jpg  C:/Users/ANTOINE/Project_Mushroom/row_data\\ima...  (240, 320)   \n",
       "\n",
       "  file_year  image_id format  observation       label  \\\n",
       "0      ages      1208    jpg         1007  Agaricales   \n",
       "1      ages      1604    jpg         1535  Agaricales   \n",
       "2      ages      1608    jpg         1537  Agaricales   \n",
       "3      ages        29    jpg           23  Agaricales   \n",
       "4      ages       680    jpg          536    Agaricus   \n",
       "\n",
       "                                     image_url  user  ...  \\\n",
       "0  http://mushroomobserver.org/images/320/1208    25  ...   \n",
       "1  http://mushroomobserver.org/images/320/1604    43  ...   \n",
       "2  http://mushroomobserver.org/images/320/1608    43  ...   \n",
       "3    http://mushroomobserver.org/images/320/29     1  ...   \n",
       "4   http://mushroomobserver.org/images/320/680     1  ...   \n",
       "\n",
       "  gbif_info.canonicalName  gbif_info.phylumKey  gbif_info.class  \\\n",
       "0              Agaricales                 34.0   Agaricomycetes   \n",
       "1              Agaricales                 34.0   Agaricomycetes   \n",
       "2              Agaricales                 34.0   Agaricomycetes   \n",
       "3              Agaricales                 34.0   Agaricomycetes   \n",
       "4                Agaricus                 34.0   Agaricomycetes   \n",
       "\n",
       "  gbif_info.synonym gbif_info.scientificName  gbif_info.genus gbif_info.order  \\\n",
       "0             False               Agaricales              NaN      Agaricales   \n",
       "1             False               Agaricales              NaN      Agaricales   \n",
       "2             False               Agaricales              NaN      Agaricales   \n",
       "3             False               Agaricales              NaN      Agaricales   \n",
       "4             False                 Agaricus         Agaricus      Agaricales   \n",
       "\n",
       "  gbif_info.note  gbif_info                          json_file  \n",
       "0            NaN        NaN  row_data\\json\\observations_0.json  \n",
       "1            NaN        NaN  row_data\\json\\observations_0.json  \n",
       "2            NaN        NaN  row_data\\json\\observations_0.json  \n",
       "3            NaN        NaN  row_data\\json\\observations_0.json  \n",
       "4            NaN        NaN  row_data\\json\\observations_0.json  \n",
       "\n",
       "[5 rows x 38 columns]"
      ]
     },
     "execution_count": 10,
     "metadata": {},
     "output_type": "execute_result"
    },
    {
     "name": "stdout",
     "output_type": "stream",
     "text": [
      "time: 1.3 s (started: 2022-02-17 02:03:51 +01:00)\n"
     ]
    }
   ],
   "source": [
    "# df with path & target \n",
    "df_paths = pd.read_csv(root_dir + csv_file_paths)\n",
    "print('{} rows in the file'.format(len(df_paths)))\n",
    "df_paths.head()"
   ]
  },
  {
   "cell_type": "code",
   "execution_count": 11,
   "id": "389f000c",
   "metadata": {},
   "outputs": [
    {
     "name": "stdout",
     "output_type": "stream",
     "text": [
      "time: 46 ms (started: 2022-02-17 02:04:13 +01:00)\n"
     ]
    }
   ],
   "source": [
    "#select only 320,240 images with family info\n",
    "df_paths = df_paths[df_paths['resolution']=='(320, 240)'] "
   ]
  },
  {
   "cell_type": "code",
   "execution_count": 12,
   "id": "7f645be1",
   "metadata": {},
   "outputs": [
    {
     "name": "stdout",
     "output_type": "stream",
     "text": [
      "time: 31 ms (started: 2022-02-17 02:04:17 +01:00)\n"
     ]
    }
   ],
   "source": [
    "# keep conf level over 90 \n",
    "df_paths = df_paths.loc[df_paths['gbif_info.confidence']>90]"
   ]
  },
  {
   "cell_type": "code",
   "execution_count": 13,
   "id": "c8a29971",
   "metadata": {},
   "outputs": [
    {
     "data": {
      "text/plain": [
       "Agaricomycetes    75164\n",
       "Name: gbif_info.class, dtype: int64"
      ]
     },
     "execution_count": 13,
     "metadata": {},
     "output_type": "execute_result"
    },
    {
     "name": "stdout",
     "output_type": "stream",
     "text": [
      "time: 79 ms (started: 2022-02-17 02:04:25 +01:00)\n"
     ]
    }
   ],
   "source": [
    "# keep only most common class\n",
    "top_class = df_paths['gbif_info.class'].value_counts().index[0]\n",
    "df_paths = df_paths[df_paths['gbif_info.class'] == top_class]\n",
    "df_paths['gbif_info.class'].value_counts()"
   ]
  },
  {
   "cell_type": "code",
   "execution_count": 14,
   "id": "f1211594",
   "metadata": {},
   "outputs": [
    {
     "name": "stdout",
     "output_type": "stream",
     "text": [
      "time: 31 ms (started: 2022-02-17 02:04:38 +01:00)\n"
     ]
    }
   ],
   "source": [
    "# drop na \n",
    "df_paths = df_paths[df_paths['gbif_info.family'].notna()]"
   ]
  },
  {
   "cell_type": "code",
   "execution_count": 17,
   "id": "3c82f343",
   "metadata": {},
   "outputs": [
    {
     "name": "stdout",
     "output_type": "stream",
     "text": [
      "time: 31 ms (started: 2022-02-17 02:05:32 +01:00)\n"
     ]
    }
   ],
   "source": [
    "# keep only top families \n",
    "\n",
    "top_fam = df_paths['gbif_info.family'].value_counts().index[:family_number].values\n",
    "df_paths = df_paths[df_paths['gbif_info.family'].isin(top_fam)]"
   ]
  },
  {
   "cell_type": "code",
   "execution_count": 21,
   "id": "4231f306",
   "metadata": {},
   "outputs": [
    {
     "data": {
      "text/html": [
       "<div>\n",
       "<style scoped>\n",
       "    .dataframe tbody tr th:only-of-type {\n",
       "        vertical-align: middle;\n",
       "    }\n",
       "\n",
       "    .dataframe tbody tr th {\n",
       "        vertical-align: top;\n",
       "    }\n",
       "\n",
       "    .dataframe thead th {\n",
       "        text-align: right;\n",
       "    }\n",
       "</style>\n",
       "<table border=\"1\" class=\"dataframe\">\n",
       "  <thead>\n",
       "    <tr style=\"text-align: right;\">\n",
       "      <th></th>\n",
       "      <th>file_path</th>\n",
       "      <th>gbif_info.family</th>\n",
       "      <th>label</th>\n",
       "    </tr>\n",
       "  </thead>\n",
       "  <tbody>\n",
       "    <tr>\n",
       "      <th>5</th>\n",
       "      <td>C:/Users/ANTOINE/Project_Mushroom/row_data\\ima...</td>\n",
       "      <td>Agaricaceae</td>\n",
       "      <td>0</td>\n",
       "    </tr>\n",
       "    <tr>\n",
       "      <th>6</th>\n",
       "      <td>C:/Users/ANTOINE/Project_Mushroom/row_data\\ima...</td>\n",
       "      <td>Agaricaceae</td>\n",
       "      <td>0</td>\n",
       "    </tr>\n",
       "    <tr>\n",
       "      <th>7</th>\n",
       "      <td>C:/Users/ANTOINE/Project_Mushroom/row_data\\ima...</td>\n",
       "      <td>Agaricaceae</td>\n",
       "      <td>0</td>\n",
       "    </tr>\n",
       "    <tr>\n",
       "      <th>8</th>\n",
       "      <td>C:/Users/ANTOINE/Project_Mushroom/row_data\\ima...</td>\n",
       "      <td>Agaricaceae</td>\n",
       "      <td>0</td>\n",
       "    </tr>\n",
       "    <tr>\n",
       "      <th>9</th>\n",
       "      <td>C:/Users/ANTOINE/Project_Mushroom/row_data\\ima...</td>\n",
       "      <td>Agaricaceae</td>\n",
       "      <td>0</td>\n",
       "    </tr>\n",
       "  </tbody>\n",
       "</table>\n",
       "</div>"
      ],
      "text/plain": [
       "                                           file_path gbif_info.family label\n",
       "5  C:/Users/ANTOINE/Project_Mushroom/row_data\\ima...      Agaricaceae     0\n",
       "6  C:/Users/ANTOINE/Project_Mushroom/row_data\\ima...      Agaricaceae     0\n",
       "7  C:/Users/ANTOINE/Project_Mushroom/row_data\\ima...      Agaricaceae     0\n",
       "8  C:/Users/ANTOINE/Project_Mushroom/row_data\\ima...      Agaricaceae     0\n",
       "9  C:/Users/ANTOINE/Project_Mushroom/row_data\\ima...      Agaricaceae     0"
      ]
     },
     "execution_count": 21,
     "metadata": {},
     "output_type": "execute_result"
    },
    {
     "name": "stdout",
     "output_type": "stream",
     "text": [
      "time: 31 ms (started: 2022-02-17 02:06:43 +01:00)\n"
     ]
    }
   ],
   "source": [
    "# subset col of interest + label encoding\n",
    "df = df_paths[['file_path','gbif_info.family']].copy()\n",
    "df['label'] = df['gbif_info.family'].replace(df['gbif_info.family'].unique(), [*range(len(df['gbif_info.family'].unique()))]).astype(str) # label encoding \n",
    "\n",
    "df.head()"
   ]
  },
  {
   "cell_type": "code",
   "execution_count": 25,
   "id": "5deb7b16",
   "metadata": {},
   "outputs": [
    {
     "name": "stdout",
     "output_type": "stream",
     "text": [
      "5000 rows in the file\n",
      "time: 63 ms (started: 2022-02-17 02:07:05 +01:00)\n"
     ]
    }
   ],
   "source": [
    "\n",
    "df_patbhs,_ = train_test_split(df_paths,train_size=number_of_images,stratify=df_paths['gbif_info.family'],random_state=random_seed )\n",
    "print('{} rows in the file'.format(len(df_paths)))"
   ]
  },
  {
   "cell_type": "code",
   "execution_count": 26,
   "id": "72198b73",
   "metadata": {},
   "outputs": [
    {
     "data": {
      "text/html": [
       "<div>\n",
       "<style scoped>\n",
       "    .dataframe tbody tr th:only-of-type {\n",
       "        vertical-align: middle;\n",
       "    }\n",
       "\n",
       "    .dataframe tbody tr th {\n",
       "        vertical-align: top;\n",
       "    }\n",
       "\n",
       "    .dataframe thead th {\n",
       "        text-align: right;\n",
       "    }\n",
       "</style>\n",
       "<table border=\"1\" class=\"dataframe\">\n",
       "  <thead>\n",
       "    <tr style=\"text-align: right;\">\n",
       "      <th></th>\n",
       "      <th>file_path</th>\n",
       "      <th>gbif_info.family</th>\n",
       "      <th>label</th>\n",
       "    </tr>\n",
       "  </thead>\n",
       "  <tbody>\n",
       "    <tr>\n",
       "      <th>123138</th>\n",
       "      <td>C:/Users/ANTOINE/Project_Mushroom/row_data\\ima...</td>\n",
       "      <td>Russulaceae</td>\n",
       "      <td>0</td>\n",
       "    </tr>\n",
       "    <tr>\n",
       "      <th>153128</th>\n",
       "      <td>C:/Users/ANTOINE/Project_Mushroom/row_data\\ima...</td>\n",
       "      <td>Russulaceae</td>\n",
       "      <td>0</td>\n",
       "    </tr>\n",
       "    <tr>\n",
       "      <th>16589</th>\n",
       "      <td>C:/Users/ANTOINE/Project_Mushroom/row_data\\ima...</td>\n",
       "      <td>Tricholomataceae</td>\n",
       "      <td>1</td>\n",
       "    </tr>\n",
       "    <tr>\n",
       "      <th>22151</th>\n",
       "      <td>C:/Users/ANTOINE/Project_Mushroom/row_data\\ima...</td>\n",
       "      <td>Agaricaceae</td>\n",
       "      <td>2</td>\n",
       "    </tr>\n",
       "    <tr>\n",
       "      <th>110231</th>\n",
       "      <td>C:/Users/ANTOINE/Project_Mushroom/row_data\\ima...</td>\n",
       "      <td>Strophariaceae</td>\n",
       "      <td>3</td>\n",
       "    </tr>\n",
       "  </tbody>\n",
       "</table>\n",
       "</div>"
      ],
      "text/plain": [
       "                                                file_path  gbif_info.family  \\\n",
       "123138  C:/Users/ANTOINE/Project_Mushroom/row_data\\ima...       Russulaceae   \n",
       "153128  C:/Users/ANTOINE/Project_Mushroom/row_data\\ima...       Russulaceae   \n",
       "16589   C:/Users/ANTOINE/Project_Mushroom/row_data\\ima...  Tricholomataceae   \n",
       "22151   C:/Users/ANTOINE/Project_Mushroom/row_data\\ima...       Agaricaceae   \n",
       "110231  C:/Users/ANTOINE/Project_Mushroom/row_data\\ima...    Strophariaceae   \n",
       "\n",
       "       label  \n",
       "123138     0  \n",
       "153128     0  \n",
       "16589      1  \n",
       "22151      2  \n",
       "110231     3  "
      ]
     },
     "execution_count": 26,
     "metadata": {},
     "output_type": "execute_result"
    },
    {
     "name": "stdout",
     "output_type": "stream",
     "text": [
      "time: 16 ms (started: 2022-02-17 02:08:03 +01:00)\n"
     ]
    }
   ],
   "source": [
    "# subset col of interest + label encoding\n",
    "df = df_paths[['file_path','gbif_info.family']].copy()\n",
    "df['label'] = df['gbif_info.family'].replace(df['gbif_info.family'].unique(), [*range(len(df['gbif_info.family'].unique()))]).astype(str) # label encoding \n",
    "\n",
    "df.head()"
   ]
  },
  {
   "cell_type": "markdown",
   "id": "6d10756e",
   "metadata": {},
   "source": [
    "# Data for model "
   ]
  },
  {
   "cell_type": "code",
   "execution_count": 27,
   "id": "2b3aa936",
   "metadata": {},
   "outputs": [
    {
     "name": "stdout",
     "output_type": "stream",
     "text": [
      "(4000, 3) (1000, 3)\n",
      "time: 15 ms (started: 2022-02-17 02:08:41 +01:00)\n"
     ]
    }
   ],
   "source": [
    "df_train, df_test= train_test_split(df, train_size=0.8, stratify =df['label'], random_state=random_seed)\n",
    "print(df_train.shape,df_test.shape)"
   ]
  },
  {
   "cell_type": "code",
   "execution_count": 30,
   "id": "38b4afd7",
   "metadata": {},
   "outputs": [
    {
     "name": "stdout",
     "output_type": "stream",
     "text": [
      "time: 0 ns (started: 2022-02-17 02:09:08 +01:00)\n"
     ]
    }
   ],
   "source": [
    "# compute a class weigts dict for unbalanced loss computation\n",
    "# { cf https://qastack.fr/datascience/13490/how-to-set-class-weights-for-imbalanced-classes-in-keras}\n",
    "class_weights = class_weight.compute_class_weight(class_weight='balanced',classes =np.unique(df_train['label']),y =df_train['label'])\n",
    "class_weights = dict(enumerate(class_weights))"
   ]
  },
  {
   "cell_type": "code",
   "execution_count": 49,
   "id": "63c78b47",
   "metadata": {},
   "outputs": [
    {
     "name": "stdout",
     "output_type": "stream",
     "text": [
      "Found 4000 validated image filenames belonging to 7 classes.\n",
      "Found 1000 validated image filenames belonging to 7 classes.\n",
      "time: 250 ms (started: 2022-02-17 02:23:19 +01:00)\n"
     ]
    }
   ],
   "source": [
    "# train \n",
    "train_data_generator = ImageDataGenerator(\n",
    "                                          # rotation_range=rotation_range,\n",
    "                                          # width_shift_range=width_shift_range,\n",
    "                                          # height_shift_range=height_shift_range,\n",
    "                                          # shear_range=shear_range,\n",
    "                                          # zoom_range=zoom_range,\n",
    "                                          # horizontal_flip=horizontal_flip,\n",
    "                                          # vertical_flip=vertical_flip\n",
    "                                          # fill_mode='nearest',\n",
    "                                        ) \n",
    "train_generator = train_data_generator.flow_from_dataframe(dataframe = df_train, \n",
    "                                                          x_col = \"file_path\",y_col=\"label\", \n",
    "                                                          shuffle = False,\n",
    "                                                          target_size=resol,batch_size=batch_size,class_mode='sparse')\n",
    "\n",
    "#test \n",
    "test_generator = ImageDataGenerator().flow_from_dataframe(dataframe = df_test,\n",
    "                                                        x_col = \"file_path\",y_col=\"label\", \n",
    "                                                          shuffle = False,\n",
    "                                                          target_size=resol,batch_size=batch_size,class_mode='sparse')\n",
    "\n"
   ]
  },
  {
   "cell_type": "markdown",
   "id": "0446a778",
   "metadata": {},
   "source": [
    "# Chargement du modèle"
   ]
  },
  {
   "cell_type": "code",
   "execution_count": 37,
   "id": "f7d976ae",
   "metadata": {},
   "outputs": [
    {
     "name": "stdout",
     "output_type": "stream",
     "text": [
      "time: 17 s (started: 2022-02-17 02:10:44 +01:00)\n"
     ]
    }
   ],
   "source": [
    "efficientnet = tf.keras.models.load_model(root_dir + 'EfficientNetB1_model')"
   ]
  },
  {
   "cell_type": "code",
   "execution_count": 94,
   "id": "71a0de11",
   "metadata": {},
   "outputs": [
    {
     "name": "stdout",
     "output_type": "stream",
     "text": [
      "Found 1000 validated image filenames belonging to 7 classes.\n",
      "time: 63 ms (started: 2022-02-17 02:35:05 +01:00)\n"
     ]
    }
   ],
   "source": [
    "test_generator = ImageDataGenerator().flow_from_dataframe(dataframe = df_test,\n",
    "                                                        x_col = \"file_path\",y_col=\"label\",\n",
    "                                                          shuffle = False,\n",
    "                                                        # to match df_test order \n",
    "                                                          target_size=resol,batch_size=batch_size,class_mode='sparse')\n"
   ]
  },
  {
   "cell_type": "code",
   "execution_count": 95,
   "id": "797c7477",
   "metadata": {},
   "outputs": [
    {
     "name": "stdout",
     "output_type": "stream",
     "text": [
      "time: 1min 17s (started: 2022-02-17 02:35:08 +01:00)\n"
     ]
    }
   ],
   "source": [
    "y_prob = efficientnet.predict(test_generator,len(df_test)//batch_size)\n",
    "test_pred_class= np.argmax(y_prob , axis=1)"
   ]
  },
  {
   "cell_type": "code",
   "execution_count": 57,
   "id": "f90e414f",
   "metadata": {},
   "outputs": [
    {
     "name": "stdout",
     "output_type": "stream",
     "text": [
      "[1 3 2 2 1 1 6 1 0 1 0 3 5 2 1 4 5 5 0 4 2 1 5 5 4 6 1 0 3 5 3 3 1 6 4 2 1\n",
      " 5 5 6 4 0 6 5 2 4 0 0 4 0 0 6 1 2 4 1 4 6 3 1 2 3 0 6 6 4 5 2 2 1 2 4 0 0\n",
      " 5 1 4 5 2 1 3 6 1 1 2 3 4 0 1 1 0 4 6 0 2 3 0 2 4 2 3 3 0 0 5 0 5 5 3 3 2\n",
      " 4 6 3 5 6 6 1 4 2 2 6 6 6 0 2 0 1 0 4 5 3 1 4 6 6 3 3 1 5 4 5 4 4 6 3 0 2\n",
      " 3 4 2 5 4 1 3 3 0 4 6 0 2 6 0 4 2 5 5 0 1 2 0 4 3 5 3 2 3 6 3 2 0 3 3 0 6\n",
      " 1 4 3 6 6 5 4 5 4 5 6 3 1 0 4 1 6 1 3 6 1 5 0 6 4 0 4 3 6 1 3 3 6 6 6 2 6\n",
      " 5 6 0 2 6 3 4 1 5 2 3 2 5 0 3 5 3 1 6 1 0 2 4 0 6 0 3 4 4 5 4 1 3 3 0 4 3\n",
      " 4 0 4 3 6 5 1 3 0 0 2 4 4 4 3 4 3 2 2 4 2 3 5 6 6 2 3 3 0 6 3 1 5 0 3 4 4\n",
      " 2 2 0 6 3 3 4 1 6 5 3 1 5 2 3 2 3 2 4 3 6 5 2 1 4 0 4 5 1 2 4 4 6 5 2 6 3\n",
      " 6 3 3 0 0 3 4 3 5 2 0 4 6 0 0 3 3 4 2 5 2 0 2 3 6 4 5 1 0 5 3 3 1 0 2 6 2\n",
      " 6 3 3 5 6 3 0 3 5 6 5 1 0 0 6 6 1 3 2 3 6 0 2 2 3 4 3 3 2 5 0 5 2 4 4 5 3\n",
      " 3 0 2 6 3 0 4 6 4 2 6 6 0 2 0 6 1 5 4 3 0 1 2 4 5 6 2 3 6 6 6 0 3 5 6 0 6\n",
      " 6 1 0 0 3 4 6 3 0 3 6 4 5 1 4 3 4 0 6 2 2 1 1 1 4 2 2 0 6 5 6 2 3 2 1 2 6\n",
      " 5 3 1 6 2 4 0 3 4 3 6 3 1 1 6 2 5 6 1 6 1 4 4 3 0 0 1 5 6 6 6 1 0 1 5 5 4\n",
      " 1 0 0 0 5 6 2 0 4 2 4 2 1 6 2 6 1 2 0 6 3 0 6 6 0 0 6 6 5 3 6 6 4 6 2 4 2\n",
      " 4 1 3 1 3 2 6 3 1 1 4 5 1 5 0 6 1 1 1 6 2 1 3 2 0 0 1 4 4 0 5 2 4 1 1 3 2\n",
      " 1 6 4 6 6 4 5 4 6 3 1 1 5 1 3 2 1 6 1 0 5 0 3 6 5 2 3 0 0 6 2 0 4 1 0 4 5\n",
      " 5 4 6 3 1 3 1 6 2 1 1 3 0 3 0 0 1 3 6 1 3 5 0 4 2 6 0 3 3 6 5 1 3 6 3 1 0\n",
      " 3 6 0 6 5 5 6 6 5 5 2 0 3 6 1 4 0 3 3 3 2 3 5 3 5 0 4 4 0 5 4 3 3 4 3 0 6\n",
      " 5 5 4 2 3 1 6 4 1 4 0 3 6 4 4 4 6 1 6 2 2 6 0 0 0 6 4 4 4 3 1 4 1 1 3 0 3\n",
      " 5 2 2 4 0 6 0 3 5 1 2 6 3 1 3 1 2 0 1 3 5 4 0 4 0 3 5 4 6 6 3 3 2 4 3 5 6\n",
      " 6 3 4 1 0 3 1 5 0 3 2 3 5 6 4 6 3 4 4 6 1 2 2 2 1 3 5 2 1 6 3 5 1 1 3 1 2\n",
      " 3 3 0 0 1 5 5 1 2 6 0 0 0 1 6 6 6 1 1 2 2 6 5 6 3 5 2 3 4 5 2 6 2 0 3 3 3\n",
      " 2 0 0 2 2 1 1 5 1 4 3 6 2 1 0 0 0 5 0 0 6 2 4 3 4 3 2 6 0 1 0 1 3 3 2 3 1\n",
      " 3 3 0 6 0 4 2 1 2 0 5 5 4 0 6 6 0 6 5 3 4 0 6 2 4 4 2 3 1 0 0 2 5 5 2 6 6\n",
      " 5 3 3 6 5 0 3 2 3 5 2 2 3 4 4 5 4 4 6 0 1 0 1 0 5 1 5 4 3 3 5 2 0 3 2 2 1\n",
      " 1 3 3 4 3 2 2 4 4 0 3 0 4 6 6 3 1 3 3 0 5 1 6 3 6 3 6 0 4 3 2 6 3 6 2 5 1\n",
      " 0]\n",
      "time: 0 ns (started: 2022-02-17 02:28:01 +01:00)\n"
     ]
    }
   ],
   "source": [
    "print(test_pred_class)"
   ]
  },
  {
   "cell_type": "code",
   "execution_count": 96,
   "id": "a1c631c7",
   "metadata": {},
   "outputs": [
    {
     "data": {
      "text/plain": [
       "{'0': 0, '1': 1, '2': 2, '3': 3, '4': 4, '5': 5, '6': 6}"
      ]
     },
     "execution_count": 96,
     "metadata": {},
     "output_type": "execute_result"
    },
    {
     "name": "stdout",
     "output_type": "stream",
     "text": [
      "time: 0 ns (started: 2022-02-17 02:36:31 +01:00)\n"
     ]
    }
   ],
   "source": [
    "test_generator.class_indices"
   ]
  },
  {
   "cell_type": "code",
   "execution_count": 120,
   "id": "f0e4a886",
   "metadata": {},
   "outputs": [
    {
     "name": "stdout",
     "output_type": "stream",
     "text": [
      "              precision    recall  f1-score   support\n",
      "\n",
      "           0       0.01      0.01      0.01       171\n",
      "           1       0.03      0.03      0.03       133\n",
      "           2       0.00      0.00      0.00       147\n",
      "           3       0.00      0.00      0.00       126\n",
      "           4       0.00      0.00      0.00       136\n",
      "           5       0.89      0.88      0.88       114\n",
      "           6       0.01      0.01      0.01       173\n",
      "\n",
      "    accuracy                           0.11      1000\n",
      "   macro avg       0.13      0.13      0.13      1000\n",
      "weighted avg       0.11      0.11      0.11      1000\n",
      "\n",
      "time: 0 ns (started: 2022-02-17 02:37:16 +01:00)\n"
     ]
    }
   ],
   "source": [
    "y_test_class= df_test['label'].values.astype(int)\n",
    "print(metrics.classification_report(y_test_class, test_pred_class))\n"
   ]
  }
 ],
 "metadata": {
  "kernelspec": {
   "display_name": "Python 3 (ipykernel)",
   "language": "python",
   "name": "python3"
  },
  "language_info": {
   "codemirror_mode": {
    "name": "ipython",
    "version": 3
   },
   "file_extension": ".py",
   "mimetype": "text/x-python",
   "name": "python",
   "nbconvert_exporter": "python",
   "pygments_lexer": "ipython3",
   "version": "3.9.7"
  }
 },
 "nbformat": 4,
 "nbformat_minor": 5
}
