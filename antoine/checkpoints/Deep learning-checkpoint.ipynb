{
 "cells": [
  {
   "cell_type": "code",
   "execution_count": 1,
   "id": "0c02747b",
   "metadata": {},
   "outputs": [
    {
     "name": "stdout",
     "output_type": "stream",
     "text": [
      "Requirement already satisfied: ipython-autotime in c:\\users\\antoine\\anaconda3\\lib\\site-packages (0.3.1)\n",
      "Requirement already satisfied: ipython in c:\\users\\antoine\\anaconda3\\lib\\site-packages (from ipython-autotime) (7.29.0)\n",
      "Requirement already satisfied: pickleshare in c:\\users\\antoine\\anaconda3\\lib\\site-packages (from ipython->ipython-autotime) (0.7.5)\n",
      "Requirement already satisfied: colorama in c:\\users\\antoine\\anaconda3\\lib\\site-packages (from ipython->ipython-autotime) (0.4.4)\n",
      "Requirement already satisfied: prompt-toolkit!=3.0.0,!=3.0.1,<3.1.0,>=2.0.0 in c:\\users\\antoine\\anaconda3\\lib\\site-packages (from ipython->ipython-autotime) (3.0.20)\n",
      "Requirement already satisfied: jedi>=0.16 in c:\\users\\antoine\\anaconda3\\lib\\site-packages (from ipython->ipython-autotime) (0.18.0)\n",
      "Requirement already satisfied: traitlets>=4.2 in c:\\users\\antoine\\anaconda3\\lib\\site-packages (from ipython->ipython-autotime) (5.1.0)\n",
      "Requirement already satisfied: backcall in c:\\users\\antoine\\anaconda3\\lib\\site-packages (from ipython->ipython-autotime) (0.2.0)\n",
      "Requirement already satisfied: decorator in c:\\users\\antoine\\anaconda3\\lib\\site-packages (from ipython->ipython-autotime) (5.1.0)\n",
      "Requirement already satisfied: setuptools>=18.5 in c:\\users\\antoine\\anaconda3\\lib\\site-packages (from ipython->ipython-autotime) (58.0.4)\n",
      "Requirement already satisfied: pygments in c:\\users\\antoine\\anaconda3\\lib\\site-packages (from ipython->ipython-autotime) (2.10.0)\n",
      "Requirement already satisfied: matplotlib-inline in c:\\users\\antoine\\anaconda3\\lib\\site-packages (from ipython->ipython-autotime) (0.1.2)\n",
      "Requirement already satisfied: parso<0.9.0,>=0.8.0 in c:\\users\\antoine\\anaconda3\\lib\\site-packages (from jedi>=0.16->ipython->ipython-autotime) (0.8.2)\n",
      "Requirement already satisfied: wcwidth in c:\\users\\antoine\\anaconda3\\lib\\site-packages (from prompt-toolkit!=3.0.0,!=3.0.1,<3.1.0,>=2.0.0->ipython->ipython-autotime) (0.2.5)\n",
      "time: 0 ns (started: 2022-02-09 17:51:06 +01:00)\n"
     ]
    }
   ],
   "source": [
    "!pip install ipython-autotime\n",
    "%load_ext autotime"
   ]
  },
  {
   "cell_type": "code",
   "execution_count": 2,
   "id": "6f65ea12",
   "metadata": {},
   "outputs": [
    {
     "name": "stdout",
     "output_type": "stream",
     "text": [
      "time: 15 ms (started: 2022-02-09 17:51:17 +01:00)\n"
     ]
    }
   ],
   "source": [
    "# Load the TensorBoard notebook extension\n",
    "%load_ext tensorboard"
   ]
  },
  {
   "cell_type": "code",
   "execution_count": 70,
   "id": "18abd531",
   "metadata": {},
   "outputs": [
    {
     "name": "stdout",
     "output_type": "stream",
     "text": [
      "time: 0 ns (started: 2022-02-10 03:33:52 +01:00)\n"
     ]
    }
   ],
   "source": [
    "import os\n",
    "import pandas as pd\n",
    "import numpy as np\n",
    "import time\n",
    "import datetime\n",
    "import itertools\n",
    "import glob\n",
    "import re\n",
    "\n",
    "import matplotlib.pyplot as plt\n",
    "import seaborn as sns\n",
    "import matplotlib.style as style\n",
    "style.use('fivethirtyeight')\n",
    "\n",
    "from skimage import io\n",
    "\n",
    "from sklearn.model_selection import train_test_split\n",
    "from sklearn import metrics\n",
    "from sklearn.metrics import confusion_matrix\n",
    "from sklearn.utils import class_weight\n",
    "\n",
    "import tensorflow as tf\n",
    "from tensorflow.keras.models import Sequential, Model\n",
    "from tensorflow.keras.layers import Dense,Activation,Input,Dropout,Flatten,Conv2D,MaxPooling2D\n",
    "from tensorflow.keras.layers import GlobalAveragePooling2D\n",
    "from keras.preprocessing.image import ImageDataGenerator\n",
    "\n",
    "#from keras.applications import inceptionV3\n",
    "from keras.applications.inception_v3 import InceptionV3\n",
    "from keras.preprocessing.image import ImageDataGenerator\n",
    "from keras.layers import Dense, GlobalAveragePooling2D, Dropout, Conv2D, MaxPooling2D, BatchNormalization, LeakyReLU, Flatten\n",
    "from keras.models import Model, Sequential, load_model\n",
    "from keras import callbacks\n"
   ]
  },
  {
   "cell_type": "code",
   "execution_count": 125,
   "id": "037c1a58",
   "metadata": {},
   "outputs": [
    {
     "ename": "ModuleNotFoundError",
     "evalue": "No module named 'optuna'",
     "output_type": "error",
     "traceback": [
      "\u001b[1;31m---------------------------------------------------------------------------\u001b[0m",
      "\u001b[1;31mModuleNotFoundError\u001b[0m                       Traceback (most recent call last)",
      "\u001b[1;32m~\\AppData\\Local\\Temp/ipykernel_8612/2576257907.py\u001b[0m in \u001b[0;36m<module>\u001b[1;34m\u001b[0m\n\u001b[0;32m     34\u001b[0m \u001b[1;32mfrom\u001b[0m \u001b[0mkeras\u001b[0m\u001b[1;33m.\u001b[0m\u001b[0mutils\u001b[0m\u001b[1;33m.\u001b[0m\u001b[0mlayer_utils\u001b[0m \u001b[1;32mimport\u001b[0m \u001b[0mcount_params\u001b[0m\u001b[1;33m\u001b[0m\u001b[1;33m\u001b[0m\u001b[0m\n\u001b[0;32m     35\u001b[0m \u001b[1;33m\u001b[0m\u001b[0m\n\u001b[1;32m---> 36\u001b[1;33m \u001b[1;32mimport\u001b[0m \u001b[0moptuna\u001b[0m \u001b[1;31m# hyeperparam optimization\u001b[0m\u001b[1;33m\u001b[0m\u001b[1;33m\u001b[0m\u001b[0m\n\u001b[0m",
      "\u001b[1;31mModuleNotFoundError\u001b[0m: No module named 'optuna'"
     ]
    },
    {
     "name": "stdout",
     "output_type": "stream",
     "text": [
      "time: 62 ms (started: 2022-02-10 04:55:01 +01:00)\n"
     ]
    }
   ],
   "source": [
    "import os\n",
    "import pandas as pd\n",
    "import numpy as np\n",
    "import time\n",
    "import datetime\n",
    "import itertools\n",
    "import glob\n",
    "import re\n",
    "from tqdm import tqdm\n",
    "\n",
    "import matplotlib.pyplot as plt\n",
    "import seaborn as sns\n",
    "import matplotlib.style as style\n",
    "style.use('fivethirtyeight')\n",
    "\n",
    "from skimage import io\n",
    "\n",
    "from sklearn.model_selection import train_test_split\n",
    "from sklearn import metrics\n",
    "from sklearn.metrics import confusion_matrix\n",
    "from sklearn.utils import class_weight\n",
    "\n",
    "\n",
    "import tensorflow as tf\n",
    "from tensorflow.keras.models import Sequential, Model\n",
    "from tensorflow.keras.layers import Dense, Activation, Input\n",
    "from tensorflow.keras.layers import Dropout\n",
    "from tensorflow.keras.layers import Flatten\n",
    "from tensorflow.keras.layers import Conv2D\n",
    "from tensorflow.keras.layers import MaxPooling2D\n",
    "from keras.preprocessing.image import ImageDataGenerator\n",
    "from tensorflow.keras.callbacks import ReduceLROnPlateau, EarlyStopping\n",
    "from keras import backend as K\n",
    "from keras.utils.layer_utils import count_params\n",
    "\n",
    "import optuna # hyeperparam optimization "
   ]
  },
  {
   "cell_type": "code",
   "execution_count": 175,
   "id": "0301c63b",
   "metadata": {},
   "outputs": [
    {
     "name": "stdout",
     "output_type": "stream",
     "text": [
      "time: 0 ns (started: 2022-02-10 05:28:34 +01:00)\n"
     ]
    }
   ],
   "source": [
    "# seed\n",
    "random_seed = 42\n",
    "\n",
    "# resolution des images apres redimmensionnement (/!\\ inversé par rapport à scikit)\n",
    "resol = (240, 320) # (240, 320), [(24 , 32),(48 , 64),(72 , 96)]\n",
    "# number of class to keep \n",
    "family_number = 7 # 7 pour comparaison Xgboost (acc = 0.32) & random 1/7 = 0.14\n",
    "number_of_images = 5000 # None to get all images \n",
    "add_FRUIT360_images = False #add a class with 6000 images of 131 classes of fruit if true (kaggle dataset - 45 random images/class)\n",
    "\n",
    "\n",
    "# epoch\n",
    "epochs = 10\n",
    "# learing rate \n",
    "lr = 0.001 # a learning rate of 0.001 is often used / working\n",
    "# batch size \n",
    "batch_size = 32 #32\n",
    "# base model trainable \n",
    "base_model_trainable = True\n",
    "\n",
    "\n"
   ]
  },
  {
   "cell_type": "code",
   "execution_count": 127,
   "id": "57c21a41",
   "metadata": {},
   "outputs": [
    {
     "name": "stdout",
     "output_type": "stream",
     "text": [
      "C:/Users/ANTOINE/Project_Mushroom/deep_learning/220210_04H55/\n",
      "time: 0 ns (started: 2022-02-10 04:55:19 +01:00)\n"
     ]
    }
   ],
   "source": [
    "#Directory path in my com\n",
    "root_dir ='C:/Users/ANTOINE/Project_Mushroom/' \n",
    "raw_data_dir = root_dir + 'raw_data/' #raw images folder\n",
    "DL_dir = root_dir + 'deep_learning/' #Deep Learning folder\n",
    "\n",
    "# export dir with time stamp to save the results of the Deep Learning\n",
    "timestamp = datetime.datetime.now().strftime('%y%m%d_%HH%M')\n",
    "export_dir = DL_dir + timestamp + '/'\n",
    "os.makedirs(export_dir)\n",
    "print(str(export_dir))"
   ]
  },
  {
   "cell_type": "code",
   "execution_count": 128,
   "id": "51d552b9",
   "metadata": {},
   "outputs": [
    {
     "name": "stdout",
     "output_type": "stream",
     "text": [
      "(208774, 38)\n"
     ]
    },
    {
     "data": {
      "text/html": [
       "<div>\n",
       "<style scoped>\n",
       "    .dataframe tbody tr th:only-of-type {\n",
       "        vertical-align: middle;\n",
       "    }\n",
       "\n",
       "    .dataframe tbody tr th {\n",
       "        vertical-align: top;\n",
       "    }\n",
       "\n",
       "    .dataframe thead th {\n",
       "        text-align: right;\n",
       "    }\n",
       "</style>\n",
       "<table border=\"1\" class=\"dataframe\">\n",
       "  <thead>\n",
       "    <tr style=\"text-align: right;\">\n",
       "      <th></th>\n",
       "      <th>file_name</th>\n",
       "      <th>file_path</th>\n",
       "      <th>resolution</th>\n",
       "      <th>file_year</th>\n",
       "      <th>image_id</th>\n",
       "      <th>format</th>\n",
       "      <th>observation</th>\n",
       "      <th>label</th>\n",
       "      <th>image_url</th>\n",
       "      <th>user</th>\n",
       "      <th>...</th>\n",
       "      <th>gbif_info.canonicalName</th>\n",
       "      <th>gbif_info.phylumKey</th>\n",
       "      <th>gbif_info.class</th>\n",
       "      <th>gbif_info.synonym</th>\n",
       "      <th>gbif_info.scientificName</th>\n",
       "      <th>gbif_info.genus</th>\n",
       "      <th>gbif_info.order</th>\n",
       "      <th>gbif_info.note</th>\n",
       "      <th>gbif_info</th>\n",
       "      <th>json_file</th>\n",
       "    </tr>\n",
       "  </thead>\n",
       "  <tbody>\n",
       "    <tr>\n",
       "      <th>0</th>\n",
       "      <td>1208.jpg</td>\n",
       "      <td>C:/Users/ANTOINE/Project_Mushroom/row_data\\ima...</td>\n",
       "      <td>(243, 320)</td>\n",
       "      <td>ages</td>\n",
       "      <td>1208</td>\n",
       "      <td>jpg</td>\n",
       "      <td>1007</td>\n",
       "      <td>Agaricales</td>\n",
       "      <td>http://mushroomobserver.org/images/320/1208</td>\n",
       "      <td>25</td>\n",
       "      <td>...</td>\n",
       "      <td>Agaricales</td>\n",
       "      <td>34.0</td>\n",
       "      <td>Agaricomycetes</td>\n",
       "      <td>False</td>\n",
       "      <td>Agaricales</td>\n",
       "      <td>NaN</td>\n",
       "      <td>Agaricales</td>\n",
       "      <td>NaN</td>\n",
       "      <td>NaN</td>\n",
       "      <td>row_data\\json\\observations_0.json</td>\n",
       "    </tr>\n",
       "    <tr>\n",
       "      <th>1</th>\n",
       "      <td>1604.jpg</td>\n",
       "      <td>C:/Users/ANTOINE/Project_Mushroom/row_data\\ima...</td>\n",
       "      <td>(320, 164)</td>\n",
       "      <td>ages</td>\n",
       "      <td>1604</td>\n",
       "      <td>jpg</td>\n",
       "      <td>1535</td>\n",
       "      <td>Agaricales</td>\n",
       "      <td>http://mushroomobserver.org/images/320/1604</td>\n",
       "      <td>43</td>\n",
       "      <td>...</td>\n",
       "      <td>Agaricales</td>\n",
       "      <td>34.0</td>\n",
       "      <td>Agaricomycetes</td>\n",
       "      <td>False</td>\n",
       "      <td>Agaricales</td>\n",
       "      <td>NaN</td>\n",
       "      <td>Agaricales</td>\n",
       "      <td>NaN</td>\n",
       "      <td>NaN</td>\n",
       "      <td>row_data\\json\\observations_0.json</td>\n",
       "    </tr>\n",
       "    <tr>\n",
       "      <th>2</th>\n",
       "      <td>1608.jpg</td>\n",
       "      <td>C:/Users/ANTOINE/Project_Mushroom/row_data\\ima...</td>\n",
       "      <td>(320, 286)</td>\n",
       "      <td>ages</td>\n",
       "      <td>1608</td>\n",
       "      <td>jpg</td>\n",
       "      <td>1537</td>\n",
       "      <td>Agaricales</td>\n",
       "      <td>http://mushroomobserver.org/images/320/1608</td>\n",
       "      <td>43</td>\n",
       "      <td>...</td>\n",
       "      <td>Agaricales</td>\n",
       "      <td>34.0</td>\n",
       "      <td>Agaricomycetes</td>\n",
       "      <td>False</td>\n",
       "      <td>Agaricales</td>\n",
       "      <td>NaN</td>\n",
       "      <td>Agaricales</td>\n",
       "      <td>NaN</td>\n",
       "      <td>NaN</td>\n",
       "      <td>row_data\\json\\observations_0.json</td>\n",
       "    </tr>\n",
       "    <tr>\n",
       "      <th>3</th>\n",
       "      <td>29.jpg</td>\n",
       "      <td>C:/Users/ANTOINE/Project_Mushroom/row_data\\ima...</td>\n",
       "      <td>(240, 320)</td>\n",
       "      <td>ages</td>\n",
       "      <td>29</td>\n",
       "      <td>jpg</td>\n",
       "      <td>23</td>\n",
       "      <td>Agaricales</td>\n",
       "      <td>http://mushroomobserver.org/images/320/29</td>\n",
       "      <td>1</td>\n",
       "      <td>...</td>\n",
       "      <td>Agaricales</td>\n",
       "      <td>34.0</td>\n",
       "      <td>Agaricomycetes</td>\n",
       "      <td>False</td>\n",
       "      <td>Agaricales</td>\n",
       "      <td>NaN</td>\n",
       "      <td>Agaricales</td>\n",
       "      <td>NaN</td>\n",
       "      <td>NaN</td>\n",
       "      <td>row_data\\json\\observations_0.json</td>\n",
       "    </tr>\n",
       "    <tr>\n",
       "      <th>4</th>\n",
       "      <td>680.jpg</td>\n",
       "      <td>C:/Users/ANTOINE/Project_Mushroom/row_data\\ima...</td>\n",
       "      <td>(240, 320)</td>\n",
       "      <td>ages</td>\n",
       "      <td>680</td>\n",
       "      <td>jpg</td>\n",
       "      <td>536</td>\n",
       "      <td>Agaricus</td>\n",
       "      <td>http://mushroomobserver.org/images/320/680</td>\n",
       "      <td>1</td>\n",
       "      <td>...</td>\n",
       "      <td>Agaricus</td>\n",
       "      <td>34.0</td>\n",
       "      <td>Agaricomycetes</td>\n",
       "      <td>False</td>\n",
       "      <td>Agaricus</td>\n",
       "      <td>Agaricus</td>\n",
       "      <td>Agaricales</td>\n",
       "      <td>NaN</td>\n",
       "      <td>NaN</td>\n",
       "      <td>row_data\\json\\observations_0.json</td>\n",
       "    </tr>\n",
       "  </tbody>\n",
       "</table>\n",
       "<p>5 rows × 38 columns</p>\n",
       "</div>"
      ],
      "text/plain": [
       "  file_name                                          file_path  resolution  \\\n",
       "0  1208.jpg  C:/Users/ANTOINE/Project_Mushroom/row_data\\ima...  (243, 320)   \n",
       "1  1604.jpg  C:/Users/ANTOINE/Project_Mushroom/row_data\\ima...  (320, 164)   \n",
       "2  1608.jpg  C:/Users/ANTOINE/Project_Mushroom/row_data\\ima...  (320, 286)   \n",
       "3    29.jpg  C:/Users/ANTOINE/Project_Mushroom/row_data\\ima...  (240, 320)   \n",
       "4   680.jpg  C:/Users/ANTOINE/Project_Mushroom/row_data\\ima...  (240, 320)   \n",
       "\n",
       "  file_year  image_id format  observation       label  \\\n",
       "0      ages      1208    jpg         1007  Agaricales   \n",
       "1      ages      1604    jpg         1535  Agaricales   \n",
       "2      ages      1608    jpg         1537  Agaricales   \n",
       "3      ages        29    jpg           23  Agaricales   \n",
       "4      ages       680    jpg          536    Agaricus   \n",
       "\n",
       "                                     image_url  user  ...  \\\n",
       "0  http://mushroomobserver.org/images/320/1208    25  ...   \n",
       "1  http://mushroomobserver.org/images/320/1604    43  ...   \n",
       "2  http://mushroomobserver.org/images/320/1608    43  ...   \n",
       "3    http://mushroomobserver.org/images/320/29     1  ...   \n",
       "4   http://mushroomobserver.org/images/320/680     1  ...   \n",
       "\n",
       "  gbif_info.canonicalName  gbif_info.phylumKey  gbif_info.class  \\\n",
       "0              Agaricales                 34.0   Agaricomycetes   \n",
       "1              Agaricales                 34.0   Agaricomycetes   \n",
       "2              Agaricales                 34.0   Agaricomycetes   \n",
       "3              Agaricales                 34.0   Agaricomycetes   \n",
       "4                Agaricus                 34.0   Agaricomycetes   \n",
       "\n",
       "  gbif_info.synonym gbif_info.scientificName  gbif_info.genus gbif_info.order  \\\n",
       "0             False               Agaricales              NaN      Agaricales   \n",
       "1             False               Agaricales              NaN      Agaricales   \n",
       "2             False               Agaricales              NaN      Agaricales   \n",
       "3             False               Agaricales              NaN      Agaricales   \n",
       "4             False                 Agaricus         Agaricus      Agaricales   \n",
       "\n",
       "  gbif_info.note  gbif_info                          json_file  \n",
       "0            NaN        NaN  row_data\\json\\observations_0.json  \n",
       "1            NaN        NaN  row_data\\json\\observations_0.json  \n",
       "2            NaN        NaN  row_data\\json\\observations_0.json  \n",
       "3            NaN        NaN  row_data\\json\\observations_0.json  \n",
       "4            NaN        NaN  row_data\\json\\observations_0.json  \n",
       "\n",
       "[5 rows x 38 columns]"
      ]
     },
     "execution_count": 128,
     "metadata": {},
     "output_type": "execute_result"
    },
    {
     "name": "stdout",
     "output_type": "stream",
     "text": [
      "time: 1.33 s (started: 2022-02-10 04:55:20 +01:00)\n"
     ]
    }
   ],
   "source": [
    "# load final database\n",
    "df_paths =  pd.read_csv(root_dir + 'image_and_json_data.csv')\n",
    "print(df_paths.shape)\n",
    "df_paths.head()"
   ]
  },
  {
   "cell_type": "code",
   "execution_count": 129,
   "id": "6e0eece6",
   "metadata": {},
   "outputs": [
    {
     "name": "stdout",
     "output_type": "stream",
     "text": [
      "208774 rows in the file\n"
     ]
    },
    {
     "data": {
      "text/html": [
       "<div>\n",
       "<style scoped>\n",
       "    .dataframe tbody tr th:only-of-type {\n",
       "        vertical-align: middle;\n",
       "    }\n",
       "\n",
       "    .dataframe tbody tr th {\n",
       "        vertical-align: top;\n",
       "    }\n",
       "\n",
       "    .dataframe thead th {\n",
       "        text-align: right;\n",
       "    }\n",
       "</style>\n",
       "<table border=\"1\" class=\"dataframe\">\n",
       "  <thead>\n",
       "    <tr style=\"text-align: right;\">\n",
       "      <th></th>\n",
       "      <th>file_name</th>\n",
       "      <th>file_path</th>\n",
       "      <th>resolution</th>\n",
       "      <th>file_year</th>\n",
       "      <th>image_id</th>\n",
       "      <th>format</th>\n",
       "      <th>observation</th>\n",
       "      <th>label</th>\n",
       "      <th>image_url</th>\n",
       "      <th>user</th>\n",
       "      <th>...</th>\n",
       "      <th>gbif_info.canonicalName</th>\n",
       "      <th>gbif_info.phylumKey</th>\n",
       "      <th>gbif_info.class</th>\n",
       "      <th>gbif_info.synonym</th>\n",
       "      <th>gbif_info.scientificName</th>\n",
       "      <th>gbif_info.genus</th>\n",
       "      <th>gbif_info.order</th>\n",
       "      <th>gbif_info.note</th>\n",
       "      <th>gbif_info</th>\n",
       "      <th>json_file</th>\n",
       "    </tr>\n",
       "  </thead>\n",
       "  <tbody>\n",
       "    <tr>\n",
       "      <th>0</th>\n",
       "      <td>1208.jpg</td>\n",
       "      <td>C:/Users/ANTOINE/Project_Mushroom/row_data\\ima...</td>\n",
       "      <td>(243, 320)</td>\n",
       "      <td>ages</td>\n",
       "      <td>1208</td>\n",
       "      <td>jpg</td>\n",
       "      <td>1007</td>\n",
       "      <td>Agaricales</td>\n",
       "      <td>http://mushroomobserver.org/images/320/1208</td>\n",
       "      <td>25</td>\n",
       "      <td>...</td>\n",
       "      <td>Agaricales</td>\n",
       "      <td>34.0</td>\n",
       "      <td>Agaricomycetes</td>\n",
       "      <td>False</td>\n",
       "      <td>Agaricales</td>\n",
       "      <td>NaN</td>\n",
       "      <td>Agaricales</td>\n",
       "      <td>NaN</td>\n",
       "      <td>NaN</td>\n",
       "      <td>row_data\\json\\observations_0.json</td>\n",
       "    </tr>\n",
       "    <tr>\n",
       "      <th>1</th>\n",
       "      <td>1604.jpg</td>\n",
       "      <td>C:/Users/ANTOINE/Project_Mushroom/row_data\\ima...</td>\n",
       "      <td>(320, 164)</td>\n",
       "      <td>ages</td>\n",
       "      <td>1604</td>\n",
       "      <td>jpg</td>\n",
       "      <td>1535</td>\n",
       "      <td>Agaricales</td>\n",
       "      <td>http://mushroomobserver.org/images/320/1604</td>\n",
       "      <td>43</td>\n",
       "      <td>...</td>\n",
       "      <td>Agaricales</td>\n",
       "      <td>34.0</td>\n",
       "      <td>Agaricomycetes</td>\n",
       "      <td>False</td>\n",
       "      <td>Agaricales</td>\n",
       "      <td>NaN</td>\n",
       "      <td>Agaricales</td>\n",
       "      <td>NaN</td>\n",
       "      <td>NaN</td>\n",
       "      <td>row_data\\json\\observations_0.json</td>\n",
       "    </tr>\n",
       "    <tr>\n",
       "      <th>2</th>\n",
       "      <td>1608.jpg</td>\n",
       "      <td>C:/Users/ANTOINE/Project_Mushroom/row_data\\ima...</td>\n",
       "      <td>(320, 286)</td>\n",
       "      <td>ages</td>\n",
       "      <td>1608</td>\n",
       "      <td>jpg</td>\n",
       "      <td>1537</td>\n",
       "      <td>Agaricales</td>\n",
       "      <td>http://mushroomobserver.org/images/320/1608</td>\n",
       "      <td>43</td>\n",
       "      <td>...</td>\n",
       "      <td>Agaricales</td>\n",
       "      <td>34.0</td>\n",
       "      <td>Agaricomycetes</td>\n",
       "      <td>False</td>\n",
       "      <td>Agaricales</td>\n",
       "      <td>NaN</td>\n",
       "      <td>Agaricales</td>\n",
       "      <td>NaN</td>\n",
       "      <td>NaN</td>\n",
       "      <td>row_data\\json\\observations_0.json</td>\n",
       "    </tr>\n",
       "    <tr>\n",
       "      <th>3</th>\n",
       "      <td>29.jpg</td>\n",
       "      <td>C:/Users/ANTOINE/Project_Mushroom/row_data\\ima...</td>\n",
       "      <td>(240, 320)</td>\n",
       "      <td>ages</td>\n",
       "      <td>29</td>\n",
       "      <td>jpg</td>\n",
       "      <td>23</td>\n",
       "      <td>Agaricales</td>\n",
       "      <td>http://mushroomobserver.org/images/320/29</td>\n",
       "      <td>1</td>\n",
       "      <td>...</td>\n",
       "      <td>Agaricales</td>\n",
       "      <td>34.0</td>\n",
       "      <td>Agaricomycetes</td>\n",
       "      <td>False</td>\n",
       "      <td>Agaricales</td>\n",
       "      <td>NaN</td>\n",
       "      <td>Agaricales</td>\n",
       "      <td>NaN</td>\n",
       "      <td>NaN</td>\n",
       "      <td>row_data\\json\\observations_0.json</td>\n",
       "    </tr>\n",
       "    <tr>\n",
       "      <th>4</th>\n",
       "      <td>680.jpg</td>\n",
       "      <td>C:/Users/ANTOINE/Project_Mushroom/row_data\\ima...</td>\n",
       "      <td>(240, 320)</td>\n",
       "      <td>ages</td>\n",
       "      <td>680</td>\n",
       "      <td>jpg</td>\n",
       "      <td>536</td>\n",
       "      <td>Agaricus</td>\n",
       "      <td>http://mushroomobserver.org/images/320/680</td>\n",
       "      <td>1</td>\n",
       "      <td>...</td>\n",
       "      <td>Agaricus</td>\n",
       "      <td>34.0</td>\n",
       "      <td>Agaricomycetes</td>\n",
       "      <td>False</td>\n",
       "      <td>Agaricus</td>\n",
       "      <td>Agaricus</td>\n",
       "      <td>Agaricales</td>\n",
       "      <td>NaN</td>\n",
       "      <td>NaN</td>\n",
       "      <td>row_data\\json\\observations_0.json</td>\n",
       "    </tr>\n",
       "  </tbody>\n",
       "</table>\n",
       "<p>5 rows × 38 columns</p>\n",
       "</div>"
      ],
      "text/plain": [
       "  file_name                                          file_path  resolution  \\\n",
       "0  1208.jpg  C:/Users/ANTOINE/Project_Mushroom/row_data\\ima...  (243, 320)   \n",
       "1  1604.jpg  C:/Users/ANTOINE/Project_Mushroom/row_data\\ima...  (320, 164)   \n",
       "2  1608.jpg  C:/Users/ANTOINE/Project_Mushroom/row_data\\ima...  (320, 286)   \n",
       "3    29.jpg  C:/Users/ANTOINE/Project_Mushroom/row_data\\ima...  (240, 320)   \n",
       "4   680.jpg  C:/Users/ANTOINE/Project_Mushroom/row_data\\ima...  (240, 320)   \n",
       "\n",
       "  file_year  image_id format  observation       label  \\\n",
       "0      ages      1208    jpg         1007  Agaricales   \n",
       "1      ages      1604    jpg         1535  Agaricales   \n",
       "2      ages      1608    jpg         1537  Agaricales   \n",
       "3      ages        29    jpg           23  Agaricales   \n",
       "4      ages       680    jpg          536    Agaricus   \n",
       "\n",
       "                                     image_url  user  ...  \\\n",
       "0  http://mushroomobserver.org/images/320/1208    25  ...   \n",
       "1  http://mushroomobserver.org/images/320/1604    43  ...   \n",
       "2  http://mushroomobserver.org/images/320/1608    43  ...   \n",
       "3    http://mushroomobserver.org/images/320/29     1  ...   \n",
       "4   http://mushroomobserver.org/images/320/680     1  ...   \n",
       "\n",
       "  gbif_info.canonicalName  gbif_info.phylumKey  gbif_info.class  \\\n",
       "0              Agaricales                 34.0   Agaricomycetes   \n",
       "1              Agaricales                 34.0   Agaricomycetes   \n",
       "2              Agaricales                 34.0   Agaricomycetes   \n",
       "3              Agaricales                 34.0   Agaricomycetes   \n",
       "4                Agaricus                 34.0   Agaricomycetes   \n",
       "\n",
       "  gbif_info.synonym gbif_info.scientificName  gbif_info.genus gbif_info.order  \\\n",
       "0             False               Agaricales              NaN      Agaricales   \n",
       "1             False               Agaricales              NaN      Agaricales   \n",
       "2             False               Agaricales              NaN      Agaricales   \n",
       "3             False               Agaricales              NaN      Agaricales   \n",
       "4             False                 Agaricus         Agaricus      Agaricales   \n",
       "\n",
       "  gbif_info.note  gbif_info                          json_file  \n",
       "0            NaN        NaN  row_data\\json\\observations_0.json  \n",
       "1            NaN        NaN  row_data\\json\\observations_0.json  \n",
       "2            NaN        NaN  row_data\\json\\observations_0.json  \n",
       "3            NaN        NaN  row_data\\json\\observations_0.json  \n",
       "4            NaN        NaN  row_data\\json\\observations_0.json  \n",
       "\n",
       "[5 rows x 38 columns]"
      ]
     },
     "execution_count": 129,
     "metadata": {},
     "output_type": "execute_result"
    },
    {
     "name": "stdout",
     "output_type": "stream",
     "text": [
      "time: 1.34 s (started: 2022-02-10 04:55:24 +01:00)\n"
     ]
    }
   ],
   "source": [
    "# df with path & target \n",
    "df_paths = pd.read_csv(root_dir + csv_file_paths)\n",
    "print('{} rows in the file'.format(len(df_paths)))\n",
    "df_paths.head()"
   ]
  },
  {
   "cell_type": "code",
   "execution_count": 130,
   "id": "12151a2f",
   "metadata": {},
   "outputs": [
    {
     "name": "stdout",
     "output_type": "stream",
     "text": [
      "time: 47 ms (started: 2022-02-10 04:55:27 +01:00)\n"
     ]
    }
   ],
   "source": [
    "#select only 320,240 images with family info\n",
    "df_paths = df_paths[df_paths['resolution']=='(320, 240)'] "
   ]
  },
  {
   "cell_type": "code",
   "execution_count": 131,
   "id": "9428a69a",
   "metadata": {},
   "outputs": [
    {
     "name": "stdout",
     "output_type": "stream",
     "text": [
      "time: 47 ms (started: 2022-02-10 04:55:29 +01:00)\n"
     ]
    }
   ],
   "source": [
    "# keep conf level over 90 \n",
    "df_paths = df_paths.loc[df_paths['gbif_info.confidence']>90]"
   ]
  },
  {
   "cell_type": "code",
   "execution_count": 132,
   "id": "b7ef0a28",
   "metadata": {},
   "outputs": [
    {
     "data": {
      "text/plain": [
       "Agaricomycetes    75164\n",
       "Name: gbif_info.class, dtype: int64"
      ]
     },
     "execution_count": 132,
     "metadata": {},
     "output_type": "execute_result"
    },
    {
     "name": "stdout",
     "output_type": "stream",
     "text": [
      "time: 46 ms (started: 2022-02-10 04:55:30 +01:00)\n"
     ]
    }
   ],
   "source": [
    "# keep only most common class\n",
    "top_class = df_paths['gbif_info.class'].value_counts().index[0]\n",
    "df_paths = df_paths[df_paths['gbif_info.class'] == top_class]\n",
    "df_paths['gbif_info.class'].value_counts()"
   ]
  },
  {
   "cell_type": "code",
   "execution_count": 133,
   "id": "bd67d2a5",
   "metadata": {},
   "outputs": [
    {
     "name": "stdout",
     "output_type": "stream",
     "text": [
      "time: 31 ms (started: 2022-02-10 04:55:33 +01:00)\n"
     ]
    }
   ],
   "source": [
    "# drop na \n",
    "df_paths = df_paths[df_paths['gbif_info.family'].notna()]"
   ]
  },
  {
   "cell_type": "code",
   "execution_count": 134,
   "id": "84304c4e",
   "metadata": {},
   "outputs": [
    {
     "name": "stdout",
     "output_type": "stream",
     "text": [
      "time: 16 ms (started: 2022-02-10 04:55:35 +01:00)\n"
     ]
    }
   ],
   "source": [
    "# compute a class weigts dict for unbalanced loss computation\n",
    "# { cf https://qastack.fr/datascience/13490/how-to-set-class-weights-for-imbalanced-classes-in-keras}\n",
    "class_weights = class_weight.compute_class_weight(class_weight='balanced',classes =np.unique(df_train['label']),y =df_train['label'])\n",
    "class_weights = dict(enumerate(class_weights))"
   ]
  },
  {
   "cell_type": "code",
   "execution_count": 135,
   "id": "52b602c4",
   "metadata": {},
   "outputs": [
    {
     "data": {
      "text/html": [
       "<div>\n",
       "<style scoped>\n",
       "    .dataframe tbody tr th:only-of-type {\n",
       "        vertical-align: middle;\n",
       "    }\n",
       "\n",
       "    .dataframe tbody tr th {\n",
       "        vertical-align: top;\n",
       "    }\n",
       "\n",
       "    .dataframe thead th {\n",
       "        text-align: right;\n",
       "    }\n",
       "</style>\n",
       "<table border=\"1\" class=\"dataframe\">\n",
       "  <thead>\n",
       "    <tr style=\"text-align: right;\">\n",
       "      <th></th>\n",
       "      <th>gbif_info.family</th>\n",
       "      <th>size</th>\n",
       "    </tr>\n",
       "  </thead>\n",
       "  <tbody>\n",
       "    <tr>\n",
       "      <th>0</th>\n",
       "      <td>Agaricaceae</td>\n",
       "      <td>5090</td>\n",
       "    </tr>\n",
       "    <tr>\n",
       "      <th>1</th>\n",
       "      <td>Albatrellaceae</td>\n",
       "      <td>200</td>\n",
       "    </tr>\n",
       "    <tr>\n",
       "      <th>2</th>\n",
       "      <td>Amanitaceae</td>\n",
       "      <td>4679</td>\n",
       "    </tr>\n",
       "    <tr>\n",
       "      <th>3</th>\n",
       "      <td>Amylocorticiaceae</td>\n",
       "      <td>16</td>\n",
       "    </tr>\n",
       "    <tr>\n",
       "      <th>4</th>\n",
       "      <td>Amylostereaceae</td>\n",
       "      <td>6</td>\n",
       "    </tr>\n",
       "    <tr>\n",
       "      <th>...</th>\n",
       "      <td>...</td>\n",
       "      <td>...</td>\n",
       "    </tr>\n",
       "    <tr>\n",
       "      <th>99</th>\n",
       "      <td>Tubariaceae</td>\n",
       "      <td>212</td>\n",
       "    </tr>\n",
       "    <tr>\n",
       "      <th>100</th>\n",
       "      <td>Tulasnellaceae</td>\n",
       "      <td>37</td>\n",
       "    </tr>\n",
       "    <tr>\n",
       "      <th>101</th>\n",
       "      <td>Tulostomataceae</td>\n",
       "      <td>2</td>\n",
       "    </tr>\n",
       "    <tr>\n",
       "      <th>102</th>\n",
       "      <td>Typhulaceae</td>\n",
       "      <td>39</td>\n",
       "    </tr>\n",
       "    <tr>\n",
       "      <th>103</th>\n",
       "      <td>Xenasmataceae</td>\n",
       "      <td>30</td>\n",
       "    </tr>\n",
       "  </tbody>\n",
       "</table>\n",
       "<p>104 rows × 2 columns</p>\n",
       "</div>"
      ],
      "text/plain": [
       "      gbif_info.family  size\n",
       "0          Agaricaceae  5090\n",
       "1       Albatrellaceae   200\n",
       "2          Amanitaceae  4679\n",
       "3    Amylocorticiaceae    16\n",
       "4      Amylostereaceae     6\n",
       "..                 ...   ...\n",
       "99         Tubariaceae   212\n",
       "100     Tulasnellaceae    37\n",
       "101    Tulostomataceae     2\n",
       "102        Typhulaceae    39\n",
       "103      Xenasmataceae    30\n",
       "\n",
       "[104 rows x 2 columns]"
      ]
     },
     "execution_count": 135,
     "metadata": {},
     "output_type": "execute_result"
    },
    {
     "name": "stdout",
     "output_type": "stream",
     "text": [
      "time: 0 ns (started: 2022-02-10 04:55:37 +01:00)\n"
     ]
    }
   ],
   "source": [
    "# Check number of classes \n",
    "pd.DataFrame(df_paths.groupby(['gbif_info.family'], as_index=False).size())"
   ]
  },
  {
   "cell_type": "code",
   "execution_count": 136,
   "id": "b58f2d01",
   "metadata": {},
   "outputs": [
    {
     "name": "stdout",
     "output_type": "stream",
     "text": [
      "time: 31 ms (started: 2022-02-10 04:55:39 +01:00)\n"
     ]
    }
   ],
   "source": [
    "# keep only top families \n",
    "top_fam = df_paths['gbif_info.family'].value_counts().index[:family_number].values\n",
    "df_paths = df_paths[df_paths['gbif_info.family'].isin(top_fam)]"
   ]
  },
  {
   "cell_type": "code",
   "execution_count": 137,
   "id": "8f4637d5",
   "metadata": {},
   "outputs": [
    {
     "data": {
      "text/html": [
       "<div>\n",
       "<style scoped>\n",
       "    .dataframe tbody tr th:only-of-type {\n",
       "        vertical-align: middle;\n",
       "    }\n",
       "\n",
       "    .dataframe tbody tr th {\n",
       "        vertical-align: top;\n",
       "    }\n",
       "\n",
       "    .dataframe thead th {\n",
       "        text-align: right;\n",
       "    }\n",
       "</style>\n",
       "<table border=\"1\" class=\"dataframe\">\n",
       "  <thead>\n",
       "    <tr style=\"text-align: right;\">\n",
       "      <th></th>\n",
       "      <th>file_path</th>\n",
       "      <th>gbif_info.family</th>\n",
       "      <th>label</th>\n",
       "    </tr>\n",
       "  </thead>\n",
       "  <tbody>\n",
       "    <tr>\n",
       "      <th>5</th>\n",
       "      <td>C:/Users/ANTOINE/Project_Mushroom/row_data\\ima...</td>\n",
       "      <td>Agaricaceae</td>\n",
       "      <td>0</td>\n",
       "    </tr>\n",
       "    <tr>\n",
       "      <th>6</th>\n",
       "      <td>C:/Users/ANTOINE/Project_Mushroom/row_data\\ima...</td>\n",
       "      <td>Agaricaceae</td>\n",
       "      <td>0</td>\n",
       "    </tr>\n",
       "    <tr>\n",
       "      <th>7</th>\n",
       "      <td>C:/Users/ANTOINE/Project_Mushroom/row_data\\ima...</td>\n",
       "      <td>Agaricaceae</td>\n",
       "      <td>0</td>\n",
       "    </tr>\n",
       "    <tr>\n",
       "      <th>8</th>\n",
       "      <td>C:/Users/ANTOINE/Project_Mushroom/row_data\\ima...</td>\n",
       "      <td>Agaricaceae</td>\n",
       "      <td>0</td>\n",
       "    </tr>\n",
       "    <tr>\n",
       "      <th>9</th>\n",
       "      <td>C:/Users/ANTOINE/Project_Mushroom/row_data\\ima...</td>\n",
       "      <td>Agaricaceae</td>\n",
       "      <td>0</td>\n",
       "    </tr>\n",
       "  </tbody>\n",
       "</table>\n",
       "</div>"
      ],
      "text/plain": [
       "                                           file_path gbif_info.family label\n",
       "5  C:/Users/ANTOINE/Project_Mushroom/row_data\\ima...      Agaricaceae     0\n",
       "6  C:/Users/ANTOINE/Project_Mushroom/row_data\\ima...      Agaricaceae     0\n",
       "7  C:/Users/ANTOINE/Project_Mushroom/row_data\\ima...      Agaricaceae     0\n",
       "8  C:/Users/ANTOINE/Project_Mushroom/row_data\\ima...      Agaricaceae     0\n",
       "9  C:/Users/ANTOINE/Project_Mushroom/row_data\\ima...      Agaricaceae     0"
      ]
     },
     "execution_count": 137,
     "metadata": {},
     "output_type": "execute_result"
    },
    {
     "name": "stdout",
     "output_type": "stream",
     "text": [
      "time: 47 ms (started: 2022-02-10 04:55:41 +01:00)\n"
     ]
    }
   ],
   "source": [
    "# subset col of interest + label encoding\n",
    "df = df_paths[['file_path','gbif_info.family']].copy()\n",
    "df['label'] = df['gbif_info.family'].replace(df['gbif_info.family'].unique(), [*range(len(df['gbif_info.family'].unique()))]).astype(str) # label encoding \n",
    "\n",
    "df.head()"
   ]
  },
  {
   "cell_type": "code",
   "execution_count": 138,
   "id": "29c05c2a",
   "metadata": {},
   "outputs": [
    {
     "name": "stdout",
     "output_type": "stream",
     "text": [
      "5000 rows in the file\n",
      "time: 47 ms (started: 2022-02-10 04:55:44 +01:00)\n"
     ]
    }
   ],
   "source": [
    "# reduce number or images if needed \n",
    "if number_of_images != None and not one_image_per_class_only: \n",
    "  df_paths,_ = train_test_split(df_paths,train_size=number_of_images,stratify=df_paths['gbif_info.family'],random_state=random_seed )\n",
    "  print('{} rows in the file'.format(len(df_paths)))"
   ]
  },
  {
   "cell_type": "code",
   "execution_count": 148,
   "id": "eb062c40",
   "metadata": {},
   "outputs": [
    {
     "data": {
      "text/html": [
       "<div>\n",
       "<style scoped>\n",
       "    .dataframe tbody tr th:only-of-type {\n",
       "        vertical-align: middle;\n",
       "    }\n",
       "\n",
       "    .dataframe tbody tr th {\n",
       "        vertical-align: top;\n",
       "    }\n",
       "\n",
       "    .dataframe thead th {\n",
       "        text-align: right;\n",
       "    }\n",
       "</style>\n",
       "<table border=\"1\" class=\"dataframe\">\n",
       "  <thead>\n",
       "    <tr style=\"text-align: right;\">\n",
       "      <th></th>\n",
       "      <th>file_path</th>\n",
       "      <th>gbif_info.family</th>\n",
       "      <th>label</th>\n",
       "    </tr>\n",
       "  </thead>\n",
       "  <tbody>\n",
       "    <tr>\n",
       "      <th>123138</th>\n",
       "      <td>C:/Users/ANTOINE/Project_Mushroom/row_data\\ima...</td>\n",
       "      <td>Russulaceae</td>\n",
       "      <td>0</td>\n",
       "    </tr>\n",
       "    <tr>\n",
       "      <th>153128</th>\n",
       "      <td>C:/Users/ANTOINE/Project_Mushroom/row_data\\ima...</td>\n",
       "      <td>Russulaceae</td>\n",
       "      <td>0</td>\n",
       "    </tr>\n",
       "    <tr>\n",
       "      <th>16589</th>\n",
       "      <td>C:/Users/ANTOINE/Project_Mushroom/row_data\\ima...</td>\n",
       "      <td>Tricholomataceae</td>\n",
       "      <td>1</td>\n",
       "    </tr>\n",
       "    <tr>\n",
       "      <th>22151</th>\n",
       "      <td>C:/Users/ANTOINE/Project_Mushroom/row_data\\ima...</td>\n",
       "      <td>Agaricaceae</td>\n",
       "      <td>2</td>\n",
       "    </tr>\n",
       "    <tr>\n",
       "      <th>110231</th>\n",
       "      <td>C:/Users/ANTOINE/Project_Mushroom/row_data\\ima...</td>\n",
       "      <td>Strophariaceae</td>\n",
       "      <td>3</td>\n",
       "    </tr>\n",
       "  </tbody>\n",
       "</table>\n",
       "</div>"
      ],
      "text/plain": [
       "                                                file_path  gbif_info.family  \\\n",
       "123138  C:/Users/ANTOINE/Project_Mushroom/row_data\\ima...       Russulaceae   \n",
       "153128  C:/Users/ANTOINE/Project_Mushroom/row_data\\ima...       Russulaceae   \n",
       "16589   C:/Users/ANTOINE/Project_Mushroom/row_data\\ima...  Tricholomataceae   \n",
       "22151   C:/Users/ANTOINE/Project_Mushroom/row_data\\ima...       Agaricaceae   \n",
       "110231  C:/Users/ANTOINE/Project_Mushroom/row_data\\ima...    Strophariaceae   \n",
       "\n",
       "       label  \n",
       "123138     0  \n",
       "153128     0  \n",
       "16589      1  \n",
       "22151      2  \n",
       "110231     3  "
      ]
     },
     "execution_count": 148,
     "metadata": {},
     "output_type": "execute_result"
    },
    {
     "name": "stdout",
     "output_type": "stream",
     "text": [
      "time: 16 ms (started: 2022-02-10 04:58:59 +01:00)\n"
     ]
    }
   ],
   "source": [
    "# subset col of interest + label encoding\n",
    "df = df_paths[['file_path','gbif_info.family']].copy()\n",
    "df['label'] = df['gbif_info.family'].replace(df['gbif_info.family'].unique(), [*range(len(df['gbif_info.family'].unique()))]).astype(str) # label encoding \n",
    "\n",
    "df.head()"
   ]
  },
  {
   "cell_type": "code",
   "execution_count": 149,
   "id": "a05d8b76",
   "metadata": {},
   "outputs": [
    {
     "data": {
      "text/html": [
       "<div>\n",
       "<style scoped>\n",
       "    .dataframe tbody tr th:only-of-type {\n",
       "        vertical-align: middle;\n",
       "    }\n",
       "\n",
       "    .dataframe tbody tr th {\n",
       "        vertical-align: top;\n",
       "    }\n",
       "\n",
       "    .dataframe thead th {\n",
       "        text-align: right;\n",
       "    }\n",
       "</style>\n",
       "<table border=\"1\" class=\"dataframe\">\n",
       "  <thead>\n",
       "    <tr style=\"text-align: right;\">\n",
       "      <th></th>\n",
       "      <th>file_path</th>\n",
       "      <th>gbif_info.family</th>\n",
       "      <th>label</th>\n",
       "    </tr>\n",
       "  </thead>\n",
       "  <tbody>\n",
       "    <tr>\n",
       "      <th>123138</th>\n",
       "      <td>C:/Users/ANTOINE/Project_Mushroom/row_data\\ima...</td>\n",
       "      <td>Russulaceae</td>\n",
       "      <td>0</td>\n",
       "    </tr>\n",
       "    <tr>\n",
       "      <th>153128</th>\n",
       "      <td>C:/Users/ANTOINE/Project_Mushroom/row_data\\ima...</td>\n",
       "      <td>Russulaceae</td>\n",
       "      <td>0</td>\n",
       "    </tr>\n",
       "    <tr>\n",
       "      <th>16589</th>\n",
       "      <td>C:/Users/ANTOINE/Project_Mushroom/row_data\\ima...</td>\n",
       "      <td>Tricholomataceae</td>\n",
       "      <td>1</td>\n",
       "    </tr>\n",
       "    <tr>\n",
       "      <th>22151</th>\n",
       "      <td>C:/Users/ANTOINE/Project_Mushroom/row_data\\ima...</td>\n",
       "      <td>Agaricaceae</td>\n",
       "      <td>2</td>\n",
       "    </tr>\n",
       "    <tr>\n",
       "      <th>110231</th>\n",
       "      <td>C:/Users/ANTOINE/Project_Mushroom/row_data\\ima...</td>\n",
       "      <td>Strophariaceae</td>\n",
       "      <td>3</td>\n",
       "    </tr>\n",
       "    <tr>\n",
       "      <th>...</th>\n",
       "      <td>...</td>\n",
       "      <td>...</td>\n",
       "      <td>...</td>\n",
       "    </tr>\n",
       "    <tr>\n",
       "      <th>16711</th>\n",
       "      <td>C:/Users/ANTOINE/Project_Mushroom/row_data\\ima...</td>\n",
       "      <td>Agaricaceae</td>\n",
       "      <td>2</td>\n",
       "    </tr>\n",
       "    <tr>\n",
       "      <th>136447</th>\n",
       "      <td>C:/Users/ANTOINE/Project_Mushroom/row_data\\ima...</td>\n",
       "      <td>Agaricaceae</td>\n",
       "      <td>2</td>\n",
       "    </tr>\n",
       "    <tr>\n",
       "      <th>79762</th>\n",
       "      <td>C:/Users/ANTOINE/Project_Mushroom/row_data\\ima...</td>\n",
       "      <td>Strophariaceae</td>\n",
       "      <td>3</td>\n",
       "    </tr>\n",
       "    <tr>\n",
       "      <th>126406</th>\n",
       "      <td>C:/Users/ANTOINE/Project_Mushroom/row_data\\ima...</td>\n",
       "      <td>Boletaceae</td>\n",
       "      <td>6</td>\n",
       "    </tr>\n",
       "    <tr>\n",
       "      <th>126484</th>\n",
       "      <td>C:/Users/ANTOINE/Project_Mushroom/row_data\\ima...</td>\n",
       "      <td>Boletaceae</td>\n",
       "      <td>6</td>\n",
       "    </tr>\n",
       "  </tbody>\n",
       "</table>\n",
       "<p>5000 rows × 3 columns</p>\n",
       "</div>"
      ],
      "text/plain": [
       "                                                file_path  gbif_info.family  \\\n",
       "123138  C:/Users/ANTOINE/Project_Mushroom/row_data\\ima...       Russulaceae   \n",
       "153128  C:/Users/ANTOINE/Project_Mushroom/row_data\\ima...       Russulaceae   \n",
       "16589   C:/Users/ANTOINE/Project_Mushroom/row_data\\ima...  Tricholomataceae   \n",
       "22151   C:/Users/ANTOINE/Project_Mushroom/row_data\\ima...       Agaricaceae   \n",
       "110231  C:/Users/ANTOINE/Project_Mushroom/row_data\\ima...    Strophariaceae   \n",
       "...                                                   ...               ...   \n",
       "16711   C:/Users/ANTOINE/Project_Mushroom/row_data\\ima...       Agaricaceae   \n",
       "136447  C:/Users/ANTOINE/Project_Mushroom/row_data\\ima...       Agaricaceae   \n",
       "79762   C:/Users/ANTOINE/Project_Mushroom/row_data\\ima...    Strophariaceae   \n",
       "126406  C:/Users/ANTOINE/Project_Mushroom/row_data\\ima...        Boletaceae   \n",
       "126484  C:/Users/ANTOINE/Project_Mushroom/row_data\\ima...        Boletaceae   \n",
       "\n",
       "       label  \n",
       "123138     0  \n",
       "153128     0  \n",
       "16589      1  \n",
       "22151      2  \n",
       "110231     3  \n",
       "...      ...  \n",
       "16711      2  \n",
       "136447     2  \n",
       "79762      3  \n",
       "126406     6  \n",
       "126484     6  \n",
       "\n",
       "[5000 rows x 3 columns]"
      ]
     },
     "execution_count": 149,
     "metadata": {},
     "output_type": "execute_result"
    },
    {
     "name": "stdout",
     "output_type": "stream",
     "text": [
      "time: 16 ms (started: 2022-02-10 04:59:04 +01:00)\n"
     ]
    }
   ],
   "source": [
    "df"
   ]
  },
  {
   "cell_type": "code",
   "execution_count": 150,
   "id": "077df303",
   "metadata": {},
   "outputs": [
    {
     "name": "stdout",
     "output_type": "stream",
     "text": [
      "(4000, 3) (1000, 3)\n",
      "time: 16 ms (started: 2022-02-10 04:59:07 +01:00)\n"
     ]
    }
   ],
   "source": [
    "df_train, df_test= train_test_split(df, train_size=0.8, stratify =df['label'], random_state=random_seed)\n",
    "print(df_train.shape,df_test.shape)"
   ]
  },
  {
   "cell_type": "code",
   "execution_count": 160,
   "id": "ea7a8cd3",
   "metadata": {},
   "outputs": [
    {
     "name": "stdout",
     "output_type": "stream",
     "text": [
      "Found 4000 validated image filenames belonging to 7 classes.\n",
      "Found 1000 validated image filenames belonging to 7 classes.\n",
      "time: 250 ms (started: 2022-02-10 05:09:42 +01:00)\n"
     ]
    }
   ],
   "source": [
    "# train \n",
    "train_data_generator = ImageDataGenerator(\n",
    "                                          # rotation_range=rotation_range,\n",
    "                                          # width_shift_range=width_shift_range,\n",
    "                                          # height_shift_range=height_shift_range,\n",
    "                                          # shear_range=shear_range,\n",
    "                                          # zoom_range=zoom_range,\n",
    "                                          # horizontal_flip=horizontal_flip,\n",
    "                                          # vertical_flip=vertical_flip\n",
    "                                          # fill_mode='nearest',\n",
    "                                        ) \n",
    "train_generator = train_data_generator.flow_from_dataframe(dataframe = df_train, \n",
    "                                                          x_col = \"file_path\",y_col=\"label\", \n",
    "                                                          target_size=resol,batch_size=batch_size,class_mode='sparse')\n",
    "\n",
    "#test \n",
    "test_generator = ImageDataGenerator().flow_from_dataframe(dataframe = df_test,\n",
    "                                                        x_col = \"file_path\",y_col=\"label\", \n",
    "                                                          target_size=resol,batch_size=batch_size,class_mode='sparse')\n",
    "\n"
   ]
  },
  {
   "cell_type": "markdown",
   "id": "32532ef2",
   "metadata": {},
   "source": [
    "# Model"
   ]
  },
  {
   "cell_type": "code",
   "execution_count": 181,
   "id": "4c8751e2",
   "metadata": {},
   "outputs": [
    {
     "name": "stdout",
     "output_type": "stream",
     "text": [
      "time: 1.53 s (started: 2022-02-10 05:54:01 +01:00)\n"
     ]
    }
   ],
   "source": [
    "incep = InceptionV3(include_top=False, input_shape=(320, 240, 3))\n",
    "for layer in incep.layers:\n",
    "    layer.trainable = True"
   ]
  },
  {
   "cell_type": "code",
   "execution_count": 182,
   "id": "b6a88aed",
   "metadata": {},
   "outputs": [
    {
     "name": "stdout",
     "output_type": "stream",
     "text": [
      "Model: \"sequential_11\"\n",
      "_________________________________________________________________\n",
      " Layer (type)                Output Shape              Param #   \n",
      "=================================================================\n",
      " inception_v3 (Functional)   (None, 8, 6, 2048)        21802784  \n",
      "                                                                 \n",
      " global_average_pooling2d_12  (None, 2048)             0         \n",
      "  (GlobalAveragePooling2D)                                       \n",
      "                                                                 \n",
      " dense_31 (Dense)            (None, 1024)              2098176   \n",
      "                                                                 \n",
      " dropout_20 (Dropout)        (None, 1024)              0         \n",
      "                                                                 \n",
      " dense_32 (Dense)            (None, 512)               524800    \n",
      "                                                                 \n",
      " dropout_21 (Dropout)        (None, 512)               0         \n",
      "                                                                 \n",
      " dense_33 (Dense)            (None, 7)                 3591      \n",
      "                                                                 \n",
      "=================================================================\n",
      "Total params: 24,429,351\n",
      "Trainable params: 24,394,919\n",
      "Non-trainable params: 34,432\n",
      "_________________________________________________________________\n",
      "time: 422 ms (started: 2022-02-10 05:54:12 +01:00)\n"
     ]
    }
   ],
   "source": [
    "model_incep = Sequential()\n",
    "model_incep.add(incep)\n",
    "model_incep.add(GlobalAveragePooling2D())\n",
    "model_incep.add(Dense(units = 1024, activation = 'relu'))\n",
    "model_incep.add(Dropout(0.3))\n",
    "model_incep.add(Dense(units = 512, activation = 'relu'))\n",
    "model_incep.add(Dropout(0.5))\n",
    "model_incep.add(Dense(units = 7, activation = 'softmax'))\n",
    "\n",
    "model_incep.summary()"
   ]
  },
  {
   "cell_type": "code",
   "execution_count": 186,
   "id": "fa2427fb",
   "metadata": {},
   "outputs": [
    {
     "name": "stdout",
     "output_type": "stream",
     "text": [
      "time: 0 ns (started: 2022-02-10 05:54:57 +01:00)\n"
     ]
    }
   ],
   "source": [
    "batch_size = 32\n"
   ]
  },
  {
   "cell_type": "code",
   "execution_count": 184,
   "id": "7c2bc1ca",
   "metadata": {},
   "outputs": [
    {
     "name": "stdout",
     "output_type": "stream",
     "text": [
      "time: 0 ns (started: 2022-02-10 05:54:21 +01:00)\n"
     ]
    }
   ],
   "source": [
    "early_stopping = EarlyStopping(\n",
    "                                patience=4, # Attendre 5 epochs avant application\n",
    "                                min_delta = 0.02, # si au bout de 5 epochs la fonction de min_delta, \n",
    "                                 # que ce soit à la hausse ou à la baisse, on arrête\n",
    "                                verbose=1, # Afficher à quel epoch on s'arrête\n",
    "                                mode = 'auto',\n",
    "                                monitor='val_accuracy')\n",
    "\n",
    "reduce_learning_rate = ReduceLROnPlateau(\n",
    "                                    monitor=\"val_accuracy\",\n",
    "                                    patience=3, #si val_accuracy stagne sur 3 epochs consécutives selon la valeur min_delta\n",
    "                                    min_delta= 0.02,\n",
    "                                    factor=0.01,  # On réduit le learning rate d'un facteur 0.1\n",
    "                                    cooldown = 2, # On attend 2 epochs avant de réitérer \n",
    "                                    mode = 'auto',\n",
    "                                    verbose=1)"
   ]
  },
  {
   "cell_type": "code",
   "execution_count": 190,
   "id": "da3a1497",
   "metadata": {},
   "outputs": [
    {
     "name": "stdout",
     "output_type": "stream",
     "text": [
      "Epoch 1/10\n",
      "62/62 [==============================] - 181s 3s/step - loss: 1.9789 - accuracy: 0.1573 - val_loss: 10200.0264 - val_accuracy: 0.1167 - lr: 0.0010\n",
      "Epoch 2/10\n",
      "39/62 [=================>............] - ETA: 1:03 - loss: 1.9631 - accuracy: 0.1506"
     ]
    },
    {
     "ename": "KeyboardInterrupt",
     "evalue": "",
     "output_type": "error",
     "traceback": [
      "\u001b[1;31m---------------------------------------------------------------------------\u001b[0m",
      "\u001b[1;31mKeyboardInterrupt\u001b[0m                         Traceback (most recent call last)",
      "\u001b[1;32m~\\AppData\\Local\\Temp/ipykernel_8612/2622435443.py\u001b[0m in \u001b[0;36m<module>\u001b[1;34m\u001b[0m\n\u001b[0;32m      5\u001b[0m \u001b[1;33m\u001b[0m\u001b[0m\n\u001b[0;32m      6\u001b[0m \u001b[1;33m\u001b[0m\u001b[0m\n\u001b[1;32m----> 7\u001b[1;33m training_history_model = model_incep.fit(train_generator,\n\u001b[0m\u001b[0;32m      8\u001b[0m                                          \u001b[0mepochs\u001b[0m\u001b[1;33m=\u001b[0m\u001b[1;36m10\u001b[0m\u001b[1;33m,\u001b[0m\u001b[1;33m\u001b[0m\u001b[1;33m\u001b[0m\u001b[0m\n\u001b[0;32m      9\u001b[0m                                          \u001b[0msteps_per_epoch\u001b[0m \u001b[1;33m=\u001b[0m \u001b[0mlen\u001b[0m\u001b[1;33m(\u001b[0m\u001b[0mdf_train\u001b[0m\u001b[1;33m)\u001b[0m\u001b[1;33m//\u001b[0m\u001b[0mbatch_size\u001b[0m\u001b[1;33m,\u001b[0m\u001b[1;33m\u001b[0m\u001b[1;33m\u001b[0m\u001b[0m\n",
      "\u001b[1;32m~\\anaconda3\\lib\\site-packages\\keras\\utils\\traceback_utils.py\u001b[0m in \u001b[0;36merror_handler\u001b[1;34m(*args, **kwargs)\u001b[0m\n\u001b[0;32m     62\u001b[0m     \u001b[0mfiltered_tb\u001b[0m \u001b[1;33m=\u001b[0m \u001b[1;32mNone\u001b[0m\u001b[1;33m\u001b[0m\u001b[1;33m\u001b[0m\u001b[0m\n\u001b[0;32m     63\u001b[0m     \u001b[1;32mtry\u001b[0m\u001b[1;33m:\u001b[0m\u001b[1;33m\u001b[0m\u001b[1;33m\u001b[0m\u001b[0m\n\u001b[1;32m---> 64\u001b[1;33m       \u001b[1;32mreturn\u001b[0m \u001b[0mfn\u001b[0m\u001b[1;33m(\u001b[0m\u001b[1;33m*\u001b[0m\u001b[0margs\u001b[0m\u001b[1;33m,\u001b[0m \u001b[1;33m**\u001b[0m\u001b[0mkwargs\u001b[0m\u001b[1;33m)\u001b[0m\u001b[1;33m\u001b[0m\u001b[1;33m\u001b[0m\u001b[0m\n\u001b[0m\u001b[0;32m     65\u001b[0m     \u001b[1;32mexcept\u001b[0m \u001b[0mException\u001b[0m \u001b[1;32mas\u001b[0m \u001b[0me\u001b[0m\u001b[1;33m:\u001b[0m  \u001b[1;31m# pylint: disable=broad-except\u001b[0m\u001b[1;33m\u001b[0m\u001b[1;33m\u001b[0m\u001b[0m\n\u001b[0;32m     66\u001b[0m       \u001b[0mfiltered_tb\u001b[0m \u001b[1;33m=\u001b[0m \u001b[0m_process_traceback_frames\u001b[0m\u001b[1;33m(\u001b[0m\u001b[0me\u001b[0m\u001b[1;33m.\u001b[0m\u001b[0m__traceback__\u001b[0m\u001b[1;33m)\u001b[0m\u001b[1;33m\u001b[0m\u001b[1;33m\u001b[0m\u001b[0m\n",
      "\u001b[1;32m~\\anaconda3\\lib\\site-packages\\keras\\engine\\training.py\u001b[0m in \u001b[0;36mfit\u001b[1;34m(self, x, y, batch_size, epochs, verbose, callbacks, validation_split, validation_data, shuffle, class_weight, sample_weight, initial_epoch, steps_per_epoch, validation_steps, validation_batch_size, validation_freq, max_queue_size, workers, use_multiprocessing)\u001b[0m\n\u001b[0;32m   1214\u001b[0m                 _r=1):\n\u001b[0;32m   1215\u001b[0m               \u001b[0mcallbacks\u001b[0m\u001b[1;33m.\u001b[0m\u001b[0mon_train_batch_begin\u001b[0m\u001b[1;33m(\u001b[0m\u001b[0mstep\u001b[0m\u001b[1;33m)\u001b[0m\u001b[1;33m\u001b[0m\u001b[1;33m\u001b[0m\u001b[0m\n\u001b[1;32m-> 1216\u001b[1;33m               \u001b[0mtmp_logs\u001b[0m \u001b[1;33m=\u001b[0m \u001b[0mself\u001b[0m\u001b[1;33m.\u001b[0m\u001b[0mtrain_function\u001b[0m\u001b[1;33m(\u001b[0m\u001b[0miterator\u001b[0m\u001b[1;33m)\u001b[0m\u001b[1;33m\u001b[0m\u001b[1;33m\u001b[0m\u001b[0m\n\u001b[0m\u001b[0;32m   1217\u001b[0m               \u001b[1;32mif\u001b[0m \u001b[0mdata_handler\u001b[0m\u001b[1;33m.\u001b[0m\u001b[0mshould_sync\u001b[0m\u001b[1;33m:\u001b[0m\u001b[1;33m\u001b[0m\u001b[1;33m\u001b[0m\u001b[0m\n\u001b[0;32m   1218\u001b[0m                 \u001b[0mcontext\u001b[0m\u001b[1;33m.\u001b[0m\u001b[0masync_wait\u001b[0m\u001b[1;33m(\u001b[0m\u001b[1;33m)\u001b[0m\u001b[1;33m\u001b[0m\u001b[1;33m\u001b[0m\u001b[0m\n",
      "\u001b[1;32m~\\anaconda3\\lib\\site-packages\\tensorflow\\python\\util\\traceback_utils.py\u001b[0m in \u001b[0;36merror_handler\u001b[1;34m(*args, **kwargs)\u001b[0m\n\u001b[0;32m    148\u001b[0m     \u001b[0mfiltered_tb\u001b[0m \u001b[1;33m=\u001b[0m \u001b[1;32mNone\u001b[0m\u001b[1;33m\u001b[0m\u001b[1;33m\u001b[0m\u001b[0m\n\u001b[0;32m    149\u001b[0m     \u001b[1;32mtry\u001b[0m\u001b[1;33m:\u001b[0m\u001b[1;33m\u001b[0m\u001b[1;33m\u001b[0m\u001b[0m\n\u001b[1;32m--> 150\u001b[1;33m       \u001b[1;32mreturn\u001b[0m \u001b[0mfn\u001b[0m\u001b[1;33m(\u001b[0m\u001b[1;33m*\u001b[0m\u001b[0margs\u001b[0m\u001b[1;33m,\u001b[0m \u001b[1;33m**\u001b[0m\u001b[0mkwargs\u001b[0m\u001b[1;33m)\u001b[0m\u001b[1;33m\u001b[0m\u001b[1;33m\u001b[0m\u001b[0m\n\u001b[0m\u001b[0;32m    151\u001b[0m     \u001b[1;32mexcept\u001b[0m \u001b[0mException\u001b[0m \u001b[1;32mas\u001b[0m \u001b[0me\u001b[0m\u001b[1;33m:\u001b[0m\u001b[1;33m\u001b[0m\u001b[1;33m\u001b[0m\u001b[0m\n\u001b[0;32m    152\u001b[0m       \u001b[0mfiltered_tb\u001b[0m \u001b[1;33m=\u001b[0m \u001b[0m_process_traceback_frames\u001b[0m\u001b[1;33m(\u001b[0m\u001b[0me\u001b[0m\u001b[1;33m.\u001b[0m\u001b[0m__traceback__\u001b[0m\u001b[1;33m)\u001b[0m\u001b[1;33m\u001b[0m\u001b[1;33m\u001b[0m\u001b[0m\n",
      "\u001b[1;32m~\\anaconda3\\lib\\site-packages\\tensorflow\\python\\eager\\def_function.py\u001b[0m in \u001b[0;36m__call__\u001b[1;34m(self, *args, **kwds)\u001b[0m\n\u001b[0;32m    908\u001b[0m \u001b[1;33m\u001b[0m\u001b[0m\n\u001b[0;32m    909\u001b[0m       \u001b[1;32mwith\u001b[0m \u001b[0mOptionalXlaContext\u001b[0m\u001b[1;33m(\u001b[0m\u001b[0mself\u001b[0m\u001b[1;33m.\u001b[0m\u001b[0m_jit_compile\u001b[0m\u001b[1;33m)\u001b[0m\u001b[1;33m:\u001b[0m\u001b[1;33m\u001b[0m\u001b[1;33m\u001b[0m\u001b[0m\n\u001b[1;32m--> 910\u001b[1;33m         \u001b[0mresult\u001b[0m \u001b[1;33m=\u001b[0m \u001b[0mself\u001b[0m\u001b[1;33m.\u001b[0m\u001b[0m_call\u001b[0m\u001b[1;33m(\u001b[0m\u001b[1;33m*\u001b[0m\u001b[0margs\u001b[0m\u001b[1;33m,\u001b[0m \u001b[1;33m**\u001b[0m\u001b[0mkwds\u001b[0m\u001b[1;33m)\u001b[0m\u001b[1;33m\u001b[0m\u001b[1;33m\u001b[0m\u001b[0m\n\u001b[0m\u001b[0;32m    911\u001b[0m \u001b[1;33m\u001b[0m\u001b[0m\n\u001b[0;32m    912\u001b[0m       \u001b[0mnew_tracing_count\u001b[0m \u001b[1;33m=\u001b[0m \u001b[0mself\u001b[0m\u001b[1;33m.\u001b[0m\u001b[0mexperimental_get_tracing_count\u001b[0m\u001b[1;33m(\u001b[0m\u001b[1;33m)\u001b[0m\u001b[1;33m\u001b[0m\u001b[1;33m\u001b[0m\u001b[0m\n",
      "\u001b[1;32m~\\anaconda3\\lib\\site-packages\\tensorflow\\python\\eager\\def_function.py\u001b[0m in \u001b[0;36m_call\u001b[1;34m(self, *args, **kwds)\u001b[0m\n\u001b[0;32m    940\u001b[0m       \u001b[1;31m# In this case we have created variables on the first call, so we run the\u001b[0m\u001b[1;33m\u001b[0m\u001b[1;33m\u001b[0m\u001b[0m\n\u001b[0;32m    941\u001b[0m       \u001b[1;31m# defunned version which is guaranteed to never create variables.\u001b[0m\u001b[1;33m\u001b[0m\u001b[1;33m\u001b[0m\u001b[0m\n\u001b[1;32m--> 942\u001b[1;33m       \u001b[1;32mreturn\u001b[0m \u001b[0mself\u001b[0m\u001b[1;33m.\u001b[0m\u001b[0m_stateless_fn\u001b[0m\u001b[1;33m(\u001b[0m\u001b[1;33m*\u001b[0m\u001b[0margs\u001b[0m\u001b[1;33m,\u001b[0m \u001b[1;33m**\u001b[0m\u001b[0mkwds\u001b[0m\u001b[1;33m)\u001b[0m  \u001b[1;31m# pylint: disable=not-callable\u001b[0m\u001b[1;33m\u001b[0m\u001b[1;33m\u001b[0m\u001b[0m\n\u001b[0m\u001b[0;32m    943\u001b[0m     \u001b[1;32melif\u001b[0m \u001b[0mself\u001b[0m\u001b[1;33m.\u001b[0m\u001b[0m_stateful_fn\u001b[0m \u001b[1;32mis\u001b[0m \u001b[1;32mnot\u001b[0m \u001b[1;32mNone\u001b[0m\u001b[1;33m:\u001b[0m\u001b[1;33m\u001b[0m\u001b[1;33m\u001b[0m\u001b[0m\n\u001b[0;32m    944\u001b[0m       \u001b[1;31m# Release the lock early so that multiple threads can perform the call\u001b[0m\u001b[1;33m\u001b[0m\u001b[1;33m\u001b[0m\u001b[0m\n",
      "\u001b[1;32m~\\anaconda3\\lib\\site-packages\\tensorflow\\python\\eager\\function.py\u001b[0m in \u001b[0;36m__call__\u001b[1;34m(self, *args, **kwargs)\u001b[0m\n\u001b[0;32m   3128\u001b[0m       (graph_function,\n\u001b[0;32m   3129\u001b[0m        filtered_flat_args) = self._maybe_define_function(args, kwargs)\n\u001b[1;32m-> 3130\u001b[1;33m     return graph_function._call_flat(\n\u001b[0m\u001b[0;32m   3131\u001b[0m         filtered_flat_args, captured_inputs=graph_function.captured_inputs)  # pylint: disable=protected-access\n\u001b[0;32m   3132\u001b[0m \u001b[1;33m\u001b[0m\u001b[0m\n",
      "\u001b[1;32m~\\anaconda3\\lib\\site-packages\\tensorflow\\python\\eager\\function.py\u001b[0m in \u001b[0;36m_call_flat\u001b[1;34m(self, args, captured_inputs, cancellation_manager)\u001b[0m\n\u001b[0;32m   1957\u001b[0m         and executing_eagerly):\n\u001b[0;32m   1958\u001b[0m       \u001b[1;31m# No tape is watching; skip to running the function.\u001b[0m\u001b[1;33m\u001b[0m\u001b[1;33m\u001b[0m\u001b[0m\n\u001b[1;32m-> 1959\u001b[1;33m       return self._build_call_outputs(self._inference_function.call(\n\u001b[0m\u001b[0;32m   1960\u001b[0m           ctx, args, cancellation_manager=cancellation_manager))\n\u001b[0;32m   1961\u001b[0m     forward_backward = self._select_forward_and_backward_functions(\n",
      "\u001b[1;32m~\\anaconda3\\lib\\site-packages\\tensorflow\\python\\eager\\function.py\u001b[0m in \u001b[0;36mcall\u001b[1;34m(self, ctx, args, cancellation_manager)\u001b[0m\n\u001b[0;32m    596\u001b[0m       \u001b[1;32mwith\u001b[0m \u001b[0m_InterpolateFunctionError\u001b[0m\u001b[1;33m(\u001b[0m\u001b[0mself\u001b[0m\u001b[1;33m)\u001b[0m\u001b[1;33m:\u001b[0m\u001b[1;33m\u001b[0m\u001b[1;33m\u001b[0m\u001b[0m\n\u001b[0;32m    597\u001b[0m         \u001b[1;32mif\u001b[0m \u001b[0mcancellation_manager\u001b[0m \u001b[1;32mis\u001b[0m \u001b[1;32mNone\u001b[0m\u001b[1;33m:\u001b[0m\u001b[1;33m\u001b[0m\u001b[1;33m\u001b[0m\u001b[0m\n\u001b[1;32m--> 598\u001b[1;33m           outputs = execute.execute(\n\u001b[0m\u001b[0;32m    599\u001b[0m               \u001b[0mstr\u001b[0m\u001b[1;33m(\u001b[0m\u001b[0mself\u001b[0m\u001b[1;33m.\u001b[0m\u001b[0msignature\u001b[0m\u001b[1;33m.\u001b[0m\u001b[0mname\u001b[0m\u001b[1;33m)\u001b[0m\u001b[1;33m,\u001b[0m\u001b[1;33m\u001b[0m\u001b[1;33m\u001b[0m\u001b[0m\n\u001b[0;32m    600\u001b[0m               \u001b[0mnum_outputs\u001b[0m\u001b[1;33m=\u001b[0m\u001b[0mself\u001b[0m\u001b[1;33m.\u001b[0m\u001b[0m_num_outputs\u001b[0m\u001b[1;33m,\u001b[0m\u001b[1;33m\u001b[0m\u001b[1;33m\u001b[0m\u001b[0m\n",
      "\u001b[1;32m~\\anaconda3\\lib\\site-packages\\tensorflow\\python\\eager\\execute.py\u001b[0m in \u001b[0;36mquick_execute\u001b[1;34m(op_name, num_outputs, inputs, attrs, ctx, name)\u001b[0m\n\u001b[0;32m     56\u001b[0m   \u001b[1;32mtry\u001b[0m\u001b[1;33m:\u001b[0m\u001b[1;33m\u001b[0m\u001b[1;33m\u001b[0m\u001b[0m\n\u001b[0;32m     57\u001b[0m     \u001b[0mctx\u001b[0m\u001b[1;33m.\u001b[0m\u001b[0mensure_initialized\u001b[0m\u001b[1;33m(\u001b[0m\u001b[1;33m)\u001b[0m\u001b[1;33m\u001b[0m\u001b[1;33m\u001b[0m\u001b[0m\n\u001b[1;32m---> 58\u001b[1;33m     tensors = pywrap_tfe.TFE_Py_Execute(ctx._handle, device_name, op_name,\n\u001b[0m\u001b[0;32m     59\u001b[0m                                         inputs, attrs, num_outputs)\n\u001b[0;32m     60\u001b[0m   \u001b[1;32mexcept\u001b[0m \u001b[0mcore\u001b[0m\u001b[1;33m.\u001b[0m\u001b[0m_NotOkStatusException\u001b[0m \u001b[1;32mas\u001b[0m \u001b[0me\u001b[0m\u001b[1;33m:\u001b[0m\u001b[1;33m\u001b[0m\u001b[1;33m\u001b[0m\u001b[0m\n",
      "\u001b[1;31mKeyboardInterrupt\u001b[0m: "
     ]
    },
    {
     "name": "stdout",
     "output_type": "stream",
     "text": [
      "time: 4min 51s (started: 2022-02-10 06:00:55 +01:00)\n"
     ]
    }
   ],
   "source": [
    "\n",
    "batch_size = 64\n",
    "model_incep.compile(optimizer = 'adam', loss = 'sparse_categorical_crossentropy', metrics = ['accuracy'])\n",
    "K.set_value(model_incep.optimizer.learning_rate, lr) #set learning rate \n",
    "\n",
    "\n",
    "\n",
    "training_history_model = model_incep.fit(train_generator,\n",
    "                                         epochs=10,\n",
    "                                         steps_per_epoch = len(df_train)//batch_size,\n",
    "                                          validation_data = train_generator,\n",
    "                                         validation_steps = len(df_test)//batch_size,\n",
    "                                         class_weight=class_weights,\n",
    "                                          callbacks=[\n",
    "                                                     early_stopping,reduce_learning_rate, #KERAS\n",
    "                                                      ])"
   ]
  },
  {
   "cell_type": "code",
   "execution_count": null,
   "id": "f4a4e64f",
   "metadata": {},
   "outputs": [],
   "source": [
    "history_incep = model_incep.fit_generator(generator=train_generator, \n",
    "                                epochs = 40,\n",
    "                                steps_per_epoch = len(df_train)//batch_size,\n",
    "                                validation_data = test_generator,\n",
    "                                validation_steps = len(df_test)//batch_size)"
   ]
  },
  {
   "cell_type": "code",
   "execution_count": 158,
   "id": "f0d21d2c",
   "metadata": {},
   "outputs": [
    {
     "name": "stdout",
     "output_type": "stream",
     "text": [
      "Found 4000 validated image filenames belonging to 7 classes.\n",
      "Found 1000 validated image filenames belonging to 7 classes.\n",
      "time: 422 ms (started: 2022-02-10 05:08:56 +01:00)\n"
     ]
    }
   ],
   "source": []
  },
  {
   "cell_type": "markdown",
   "id": "0836ada2",
   "metadata": {},
   "source": [
    "# Autre modèle"
   ]
  },
  {
   "cell_type": "code",
   "execution_count": 179,
   "id": "f47ea679",
   "metadata": {},
   "outputs": [
    {
     "name": "stdout",
     "output_type": "stream",
     "text": [
      "WARNING:tensorflow:`input_shape` is undefined or non-square, or `rows` is not 224. Weights for input shape (224, 224) will be loaded as the default.\n",
      "Downloading data from https://storage.googleapis.com/tensorflow/keras-applications/mobilenet_v3/weights_mobilenet_v3_small_224_1.0_float_no_top.h5\n",
      "6701056/6698480 [==============================] - 0s 0us/step\n",
      "6709248/6698480 [==============================] - 0s 0us/step\n",
      "Model: \"sequential_10\"\n",
      "_________________________________________________________________\n",
      " Layer (type)                Output Shape              Param #   \n",
      "=================================================================\n",
      " MobilenetV3small (Functiona  (None, 1, 1, 1024)       1529968   \n",
      " l)                                                              \n",
      "                                                                 \n",
      " global_average_pooling2d_11  (None, 1024)             0         \n",
      "  (GlobalAveragePooling2D)                                       \n",
      "                                                                 \n",
      " dense_28 (Dense)            (None, 1024)              1049600   \n",
      "                                                                 \n",
      " dropout_18 (Dropout)        (None, 1024)              0         \n",
      "                                                                 \n",
      " dense_29 (Dense)            (None, 512)               524800    \n",
      "                                                                 \n",
      " dropout_19 (Dropout)        (None, 512)               0         \n",
      "                                                                 \n",
      " dense_30 (Dense)            (None, 7)                 3591      \n",
      "                                                                 \n",
      "=================================================================\n",
      "Total params: 3,107,959\n",
      "Trainable params: 1,577,991\n",
      "Non-trainable params: 1,529,968\n",
      "_________________________________________________________________\n",
      "time: 2.11 s (started: 2022-02-10 05:44:44 +01:00)\n"
     ]
    }
   ],
   "source": [
    "from tensorflow.keras.applications import MobileNetV3Small\n",
    "base_model=MobileNetV3Small(weights='imagenet',include_top=False)\n",
    "for layer in base_model.layers: #freeze the base_model layers\n",
    "    layer.trainable = False\n",
    "model3=Sequential()\n",
    "model3.add(base_model)\n",
    "model3.add(GlobalAveragePooling2D()) \n",
    "model3.add(Dense(units = 1024, activation = 'relu'))\n",
    "model3.add(Dropout(0.3))\n",
    "model3.add(Dense(units = 512, activation = 'relu'))\n",
    "model3.add(Dropout(0.5))\n",
    "model3.add(Dense(units = 7, activation = 'softmax'))\n",
    "model3.summary()"
   ]
  },
  {
   "cell_type": "code",
   "execution_count": 180,
   "id": "49201bda",
   "metadata": {},
   "outputs": [
    {
     "name": "stdout",
     "output_type": "stream",
     "text": [
      "Epoch 1/10\n",
      "125/125 [==============================] - 18s 127ms/step - loss: 1.8210 - accuracy: 0.3220 - val_loss: 1.3954 - val_accuracy: 0.4919 - lr: 0.0010\n",
      "Epoch 2/10\n",
      "125/125 [==============================] - 16s 131ms/step - loss: 1.5199 - accuracy: 0.4670 - val_loss: 1.1891 - val_accuracy: 0.5968 - lr: 0.0010\n",
      "Epoch 3/10\n",
      "125/125 [==============================] - 19s 152ms/step - loss: 1.4548 - accuracy: 0.4750 - val_loss: 1.2205 - val_accuracy: 0.5323 - lr: 0.0010\n",
      "Epoch 4/10\n",
      "125/125 [==============================] - 17s 140ms/step - loss: 1.3516 - accuracy: 0.5290 - val_loss: 1.1735 - val_accuracy: 0.5685 - lr: 0.0010\n",
      "Epoch 5/10\n",
      "125/125 [==============================] - 17s 136ms/step - loss: 1.2022 - accuracy: 0.5550 - val_loss: 1.0336 - val_accuracy: 0.6492 - lr: 0.0010\n",
      "Epoch 6/10\n",
      "125/125 [==============================] - 17s 136ms/step - loss: 1.1708 - accuracy: 0.5840 - val_loss: 1.0975 - val_accuracy: 0.6048 - lr: 0.0010\n",
      "Epoch 7/10\n",
      "125/125 [==============================] - 18s 142ms/step - loss: 1.1474 - accuracy: 0.5990 - val_loss: 0.8788 - val_accuracy: 0.7137 - lr: 0.0010\n",
      "Epoch 8/10\n",
      "125/125 [==============================] - 17s 139ms/step - loss: 1.0787 - accuracy: 0.6240 - val_loss: 0.8754 - val_accuracy: 0.7137 - lr: 0.0010\n",
      "Epoch 9/10\n",
      "125/125 [==============================] - 17s 140ms/step - loss: 1.0648 - accuracy: 0.6340 - val_loss: 0.7960 - val_accuracy: 0.7379 - lr: 0.0010\n",
      "Epoch 10/10\n",
      "125/125 [==============================] - 17s 137ms/step - loss: 0.9833 - accuracy: 0.6590 - val_loss: 0.7393 - val_accuracy: 0.7419 - lr: 0.0010\n",
      "time: 2min 55s (started: 2022-02-10 05:45:24 +01:00)\n"
     ]
    }
   ],
   "source": [
    "model3.compile(optimizer = 'adam', loss = 'sparse_categorical_crossentropy', metrics = ['accuracy'])\n",
    "K.set_value(model_incep.optimizer.learning_rate, lr) #set learning rate \n",
    "\n",
    "\n",
    "\n",
    "training_history_model = model3.fit(train_generator,\n",
    "                                         epochs=10,\n",
    "                                         steps_per_epoch = len(df_train)//batch_size,\n",
    "                                          validation_data = train_generator,\n",
    "                                         validation_steps = len(df_test)//batch_size,\n",
    "                                         class_weight=class_weights,\n",
    "                                          callbacks=[\n",
    "                                                     early_stopping,reduce_learning_rate, #KERAS\n",
    "                                                      ])"
   ]
  }
 ],
 "metadata": {
  "kernelspec": {
   "display_name": "Python 3 (ipykernel)",
   "language": "python",
   "name": "python3"
  },
  "language_info": {
   "codemirror_mode": {
    "name": "ipython",
    "version": 3
   },
   "file_extension": ".py",
   "mimetype": "text/x-python",
   "name": "python",
   "nbconvert_exporter": "python",
   "pygments_lexer": "ipython3",
   "version": "3.9.7"
  }
 },
 "nbformat": 4,
 "nbformat_minor": 5
}
