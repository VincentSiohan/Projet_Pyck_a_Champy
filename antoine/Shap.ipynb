{
 "cells": [
  {
   "cell_type": "code",
   "execution_count": 1,
   "id": "2d807554",
   "metadata": {},
   "outputs": [
    {
     "name": "stdout",
     "output_type": "stream",
     "text": [
      "Requirement already satisfied: ipython-autotime in c:\\users\\antoine\\anaconda3\\lib\\site-packages (0.3.1)\n",
      "Requirement already satisfied: ipython in c:\\users\\antoine\\anaconda3\\lib\\site-packages (from ipython-autotime) (7.29.0)\n",
      "Requirement already satisfied: pickleshare in c:\\users\\antoine\\anaconda3\\lib\\site-packages (from ipython->ipython-autotime) (0.7.5)\n",
      "Requirement already satisfied: pygments in c:\\users\\antoine\\anaconda3\\lib\\site-packages (from ipython->ipython-autotime) (2.10.0)\n",
      "Requirement already satisfied: backcall in c:\\users\\antoine\\anaconda3\\lib\\site-packages (from ipython->ipython-autotime) (0.2.0)\n",
      "Requirement already satisfied: traitlets>=4.2 in c:\\users\\antoine\\anaconda3\\lib\\site-packages (from ipython->ipython-autotime) (5.1.0)\n",
      "Requirement already satisfied: setuptools>=18.5 in c:\\users\\antoine\\anaconda3\\lib\\site-packages (from ipython->ipython-autotime) (58.0.4)\n",
      "Requirement already satisfied: prompt-toolkit!=3.0.0,!=3.0.1,<3.1.0,>=2.0.0 in c:\\users\\antoine\\anaconda3\\lib\\site-packages (from ipython->ipython-autotime) (3.0.20)\n",
      "Requirement already satisfied: jedi>=0.16 in c:\\users\\antoine\\anaconda3\\lib\\site-packages (from ipython->ipython-autotime) (0.18.0)\n",
      "Requirement already satisfied: matplotlib-inline in c:\\users\\antoine\\anaconda3\\lib\\site-packages (from ipython->ipython-autotime) (0.1.2)\n",
      "Requirement already satisfied: colorama in c:\\users\\antoine\\anaconda3\\lib\\site-packages (from ipython->ipython-autotime) (0.4.4)\n",
      "Requirement already satisfied: decorator in c:\\users\\antoine\\anaconda3\\lib\\site-packages (from ipython->ipython-autotime) (5.1.0)\n",
      "Requirement already satisfied: parso<0.9.0,>=0.8.0 in c:\\users\\antoine\\anaconda3\\lib\\site-packages (from jedi>=0.16->ipython->ipython-autotime) (0.8.2)\n",
      "Requirement already satisfied: wcwidth in c:\\users\\antoine\\anaconda3\\lib\\site-packages (from prompt-toolkit!=3.0.0,!=3.0.1,<3.1.0,>=2.0.0->ipython->ipython-autotime) (0.2.5)\n",
      "time: 0 ns (started: 2022-02-17 11:24:26 +01:00)\n"
     ]
    }
   ],
   "source": [
    "!pip install ipython-autotime\n",
    "%load_ext autotime\n"
   ]
  },
  {
   "cell_type": "code",
   "execution_count": 232,
   "id": "2a767c3e",
   "metadata": {},
   "outputs": [
    {
     "name": "stdout",
     "output_type": "stream",
     "text": [
      "Requirement already satisfied: torch in c:\\users\\antoine\\anaconda3\\lib\\site-packages (1.10.2)Note: you may need to restart the kernel to use updated packages.\n",
      "time: 2.11 s (started: 2022-02-17 05:25:22 +01:00)\n",
      "\n",
      "Requirement already satisfied: typing-extensions in c:\\users\\antoine\\anaconda3\\lib\\site-packages (from torch) (3.10.0.2)\n"
     ]
    }
   ],
   "source": [
    "pip install torch\n"
   ]
  },
  {
   "cell_type": "code",
   "execution_count": 39,
   "id": "74460a8f",
   "metadata": {},
   "outputs": [
    {
     "name": "stdout",
     "output_type": "stream",
     "text": [
      "Collecting torchvision\n",
      "  Downloading torchvision-0.11.3-cp39-cp39-win_amd64.whl (947 kB)\n",
      "Requirement already satisfied: numpy in c:\\users\\antoine\\anaconda3\\lib\\site-packages (from torchvision) (1.20.3)\n",
      "Requirement already satisfied: torch==1.10.2 in c:\\users\\antoine\\anaconda3\\lib\\site-packages (from torchvision) (1.10.2)\n",
      "Requirement already satisfied: pillow!=8.3.0,>=5.3.0 in c:\\users\\antoine\\anaconda3\\lib\\site-packages (from torchvision) (8.4.0)\n",
      "Requirement already satisfied: typing-extensions in c:\\users\\antoine\\anaconda3\\lib\\site-packages (from torch==1.10.2->torchvision) (3.10.0.2)\n",
      "Installing collected packages: torchvision\n",
      "Successfully installed torchvision-0.11.3\n",
      "Note: you may need to restart the kernel to use updated packages.\n",
      "time: 2.78 s (started: 2022-02-17 02:57:46 +01:00)\n"
     ]
    }
   ],
   "source": [
    "pip install torchvision"
   ]
  },
  {
   "cell_type": "code",
   "execution_count": 41,
   "id": "394aa509",
   "metadata": {},
   "outputs": [
    {
     "name": "stdout",
     "output_type": "stream",
     "text": [
      "Collecting shap\n",
      "  Downloading shap-0.40.0-cp39-cp39-win_amd64.whl (432 kB)\n",
      "Requirement already satisfied: tqdm>4.25.0 in c:\\users\\antoine\\anaconda3\\lib\\site-packages (from shap) (4.62.3)\n",
      "Requirement already satisfied: numpy in c:\\users\\antoine\\anaconda3\\lib\\site-packages (from shap) (1.20.3)\n",
      "Requirement already satisfied: pandas in c:\\users\\antoine\\anaconda3\\lib\\site-packages (from shap) (1.3.4)\n",
      "Requirement already satisfied: numba in c:\\users\\antoine\\anaconda3\\lib\\site-packages (from shap) (0.54.1)\n",
      "Requirement already satisfied: cloudpickle in c:\\users\\antoine\\anaconda3\\lib\\site-packages (from shap) (2.0.0)\n",
      "Requirement already satisfied: scikit-learn in c:\\users\\antoine\\anaconda3\\lib\\site-packages (from shap) (0.24.2)\n",
      "Requirement already satisfied: packaging>20.9 in c:\\users\\antoine\\anaconda3\\lib\\site-packages (from shap) (21.0)\n",
      "Collecting slicer==0.0.7\n",
      "  Downloading slicer-0.0.7-py3-none-any.whl (14 kB)\n",
      "Requirement already satisfied: scipy in c:\\users\\antoine\\anaconda3\\lib\\site-packages (from shap) (1.7.1)\n",
      "Requirement already satisfied: pyparsing>=2.0.2 in c:\\users\\antoine\\anaconda3\\lib\\site-packages (from packaging>20.9->shap) (3.0.4)\n",
      "Requirement already satisfied: colorama in c:\\users\\antoine\\anaconda3\\lib\\site-packages (from tqdm>4.25.0->shap) (0.4.4)\n",
      "Requirement already satisfied: setuptools in c:\\users\\antoine\\anaconda3\\lib\\site-packages (from numba->shap) (58.0.4)\n",
      "Requirement already satisfied: llvmlite<0.38,>=0.37.0rc1 in c:\\users\\antoine\\anaconda3\\lib\\site-packages (from numba->shap) (0.37.0)\n",
      "Requirement already satisfied: pytz>=2017.3 in c:\\users\\antoine\\anaconda3\\lib\\site-packages (from pandas->shap) (2021.3)\n",
      "Requirement already satisfied: python-dateutil>=2.7.3 in c:\\users\\antoine\\anaconda3\\lib\\site-packages (from pandas->shap) (2.8.2)\n",
      "Requirement already satisfied: six>=1.5 in c:\\users\\antoine\\anaconda3\\lib\\site-packages (from python-dateutil>=2.7.3->pandas->shap) (1.16.0)\n",
      "Requirement already satisfied: joblib>=0.11 in c:\\users\\antoine\\anaconda3\\lib\\site-packages (from scikit-learn->shap) (1.1.0)\n",
      "Requirement already satisfied: threadpoolctl>=2.0.0 in c:\\users\\antoine\\anaconda3\\lib\\site-packages (from scikit-learn->shap) (2.2.0)\n",
      "Installing collected packages: slicer, shap\n",
      "Successfully installed shap-0.40.0 slicer-0.0.7\n",
      "Note: you may need to restart the kernel to use updated packages.\n",
      "time: 3.08 s (started: 2022-02-17 02:58:10 +01:00)\n"
     ]
    }
   ],
   "source": [
    "pip install shap"
   ]
  },
  {
   "cell_type": "code",
   "execution_count": 2,
   "id": "7c8b3dc0",
   "metadata": {},
   "outputs": [
    {
     "name": "stdout",
     "output_type": "stream",
     "text": [
      "time: 0 ns (started: 2022-02-17 11:24:31 +01:00)\n"
     ]
    }
   ],
   "source": [
    "# Load the TensorBoard notebook extension\n",
    "%load_ext tensorboard"
   ]
  },
  {
   "cell_type": "code",
   "execution_count": 3,
   "id": "3a79608b",
   "metadata": {},
   "outputs": [
    {
     "name": "stdout",
     "output_type": "stream",
     "text": [
      "time: 7.92 s (started: 2022-02-17 11:24:33 +01:00)\n"
     ]
    }
   ],
   "source": [
    "import os\n",
    "import pandas as pd\n",
    "import numpy as np\n",
    "import time\n",
    "import datetime\n",
    "import itertools\n",
    "import glob\n",
    "import re\n",
    "\n",
    "import matplotlib.pyplot as plt\n",
    "import seaborn as sns\n",
    "import matplotlib.style as style\n",
    "style.use('fivethirtyeight')\n",
    "\n",
    "from skimage import io\n",
    "\n",
    "from sklearn.model_selection import train_test_split\n",
    "from sklearn import metrics\n",
    "from sklearn.metrics import confusion_matrix\n",
    "from sklearn.utils import class_weight\n",
    "\n",
    "import tensorflow as tf\n",
    "from tensorflow.keras.models import Sequential, Model\n",
    "from tensorflow.keras.layers import Dense,Activation,Input,Dropout,Flatten,Conv2D,MaxPooling2D\n",
    "from tensorflow.keras.layers import GlobalAveragePooling2D\n",
    "\n",
    "from keras.preprocessing.image import ImageDataGenerator\n",
    "\n",
    "\n",
    "import torch, torchvision\n",
    "from torchvision import datasets, transforms\n",
    "from torch import nn, optim\n",
    "from torch.nn import functional as F\n",
    "import pandas as pd\n",
    "from sklearn.model_selection import train_test_split\n",
    "from torch.autograd import Variable\n",
    "import numpy as np\n",
    "import shap"
   ]
  },
  {
   "cell_type": "code",
   "execution_count": 4,
   "id": "dbaa7818",
   "metadata": {},
   "outputs": [
    {
     "name": "stdout",
     "output_type": "stream",
     "text": [
      "C:/Users/ANTOINE/Project_Mushroom/deep_learning/220217_11H24/\n",
      "time: 0 ns (started: 2022-02-17 11:24:41 +01:00)\n"
     ]
    }
   ],
   "source": [
    "#Directory path in my com\n",
    "root_dir ='C:/Users/ANTOINE/Project_Mushroom/' \n",
    "raw_data_dir = root_dir + 'raw_data/' #raw images folder\n",
    "DL_dir = root_dir + 'deep_learning/' #Deep Learning folder\n",
    "\n",
    "csv_file_paths = 'image_and_json_data.csv'\n",
    "\n",
    "# export dir with time stamp to save the results of the Deep Learning\n",
    "timestamp = datetime.datetime.now().strftime('%y%m%d_%HH%M')\n",
    "export_dir = DL_dir + timestamp + '/'\n",
    "os.makedirs(export_dir)\n",
    "print(str(export_dir))"
   ]
  },
  {
   "cell_type": "markdown",
   "id": "f7e3b176",
   "metadata": {},
   "source": [
    "# Variables"
   ]
  },
  {
   "cell_type": "code",
   "execution_count": 5,
   "id": "a3a079eb",
   "metadata": {},
   "outputs": [
    {
     "name": "stdout",
     "output_type": "stream",
     "text": [
      "time: 0 ns (started: 2022-02-17 11:24:54 +01:00)\n"
     ]
    }
   ],
   "source": [
    "family_number = 7\n",
    "number_of_images = 5000\n",
    "random_seed = 42\n",
    "resol = (240, 320)\n",
    "batch_size = 16"
   ]
  },
  {
   "cell_type": "markdown",
   "id": "9cbb98cf",
   "metadata": {},
   "source": [
    "# Dataframe creation and processing"
   ]
  },
  {
   "cell_type": "code",
   "execution_count": 8,
   "id": "4bbf2727",
   "metadata": {},
   "outputs": [
    {
     "name": "stdout",
     "output_type": "stream",
     "text": [
      "208774 rows in the file\n"
     ]
    },
    {
     "data": {
      "text/html": [
       "<div>\n",
       "<style scoped>\n",
       "    .dataframe tbody tr th:only-of-type {\n",
       "        vertical-align: middle;\n",
       "    }\n",
       "\n",
       "    .dataframe tbody tr th {\n",
       "        vertical-align: top;\n",
       "    }\n",
       "\n",
       "    .dataframe thead th {\n",
       "        text-align: right;\n",
       "    }\n",
       "</style>\n",
       "<table border=\"1\" class=\"dataframe\">\n",
       "  <thead>\n",
       "    <tr style=\"text-align: right;\">\n",
       "      <th></th>\n",
       "      <th>file_name</th>\n",
       "      <th>file_path</th>\n",
       "      <th>resolution</th>\n",
       "      <th>file_year</th>\n",
       "      <th>image_id</th>\n",
       "      <th>format</th>\n",
       "      <th>observation</th>\n",
       "      <th>label</th>\n",
       "      <th>image_url</th>\n",
       "      <th>user</th>\n",
       "      <th>...</th>\n",
       "      <th>gbif_info.canonicalName</th>\n",
       "      <th>gbif_info.phylumKey</th>\n",
       "      <th>gbif_info.class</th>\n",
       "      <th>gbif_info.synonym</th>\n",
       "      <th>gbif_info.scientificName</th>\n",
       "      <th>gbif_info.genus</th>\n",
       "      <th>gbif_info.order</th>\n",
       "      <th>gbif_info.note</th>\n",
       "      <th>gbif_info</th>\n",
       "      <th>json_file</th>\n",
       "    </tr>\n",
       "  </thead>\n",
       "  <tbody>\n",
       "    <tr>\n",
       "      <th>0</th>\n",
       "      <td>1208.jpg</td>\n",
       "      <td>C:/Users/ANTOINE/Project_Mushroom/row_data\\ima...</td>\n",
       "      <td>(243, 320)</td>\n",
       "      <td>ages</td>\n",
       "      <td>1208</td>\n",
       "      <td>jpg</td>\n",
       "      <td>1007</td>\n",
       "      <td>Agaricales</td>\n",
       "      <td>http://mushroomobserver.org/images/320/1208</td>\n",
       "      <td>25</td>\n",
       "      <td>...</td>\n",
       "      <td>Agaricales</td>\n",
       "      <td>34.0</td>\n",
       "      <td>Agaricomycetes</td>\n",
       "      <td>False</td>\n",
       "      <td>Agaricales</td>\n",
       "      <td>NaN</td>\n",
       "      <td>Agaricales</td>\n",
       "      <td>NaN</td>\n",
       "      <td>NaN</td>\n",
       "      <td>row_data\\json\\observations_0.json</td>\n",
       "    </tr>\n",
       "    <tr>\n",
       "      <th>1</th>\n",
       "      <td>1604.jpg</td>\n",
       "      <td>C:/Users/ANTOINE/Project_Mushroom/row_data\\ima...</td>\n",
       "      <td>(320, 164)</td>\n",
       "      <td>ages</td>\n",
       "      <td>1604</td>\n",
       "      <td>jpg</td>\n",
       "      <td>1535</td>\n",
       "      <td>Agaricales</td>\n",
       "      <td>http://mushroomobserver.org/images/320/1604</td>\n",
       "      <td>43</td>\n",
       "      <td>...</td>\n",
       "      <td>Agaricales</td>\n",
       "      <td>34.0</td>\n",
       "      <td>Agaricomycetes</td>\n",
       "      <td>False</td>\n",
       "      <td>Agaricales</td>\n",
       "      <td>NaN</td>\n",
       "      <td>Agaricales</td>\n",
       "      <td>NaN</td>\n",
       "      <td>NaN</td>\n",
       "      <td>row_data\\json\\observations_0.json</td>\n",
       "    </tr>\n",
       "    <tr>\n",
       "      <th>2</th>\n",
       "      <td>1608.jpg</td>\n",
       "      <td>C:/Users/ANTOINE/Project_Mushroom/row_data\\ima...</td>\n",
       "      <td>(320, 286)</td>\n",
       "      <td>ages</td>\n",
       "      <td>1608</td>\n",
       "      <td>jpg</td>\n",
       "      <td>1537</td>\n",
       "      <td>Agaricales</td>\n",
       "      <td>http://mushroomobserver.org/images/320/1608</td>\n",
       "      <td>43</td>\n",
       "      <td>...</td>\n",
       "      <td>Agaricales</td>\n",
       "      <td>34.0</td>\n",
       "      <td>Agaricomycetes</td>\n",
       "      <td>False</td>\n",
       "      <td>Agaricales</td>\n",
       "      <td>NaN</td>\n",
       "      <td>Agaricales</td>\n",
       "      <td>NaN</td>\n",
       "      <td>NaN</td>\n",
       "      <td>row_data\\json\\observations_0.json</td>\n",
       "    </tr>\n",
       "    <tr>\n",
       "      <th>3</th>\n",
       "      <td>29.jpg</td>\n",
       "      <td>C:/Users/ANTOINE/Project_Mushroom/row_data\\ima...</td>\n",
       "      <td>(240, 320)</td>\n",
       "      <td>ages</td>\n",
       "      <td>29</td>\n",
       "      <td>jpg</td>\n",
       "      <td>23</td>\n",
       "      <td>Agaricales</td>\n",
       "      <td>http://mushroomobserver.org/images/320/29</td>\n",
       "      <td>1</td>\n",
       "      <td>...</td>\n",
       "      <td>Agaricales</td>\n",
       "      <td>34.0</td>\n",
       "      <td>Agaricomycetes</td>\n",
       "      <td>False</td>\n",
       "      <td>Agaricales</td>\n",
       "      <td>NaN</td>\n",
       "      <td>Agaricales</td>\n",
       "      <td>NaN</td>\n",
       "      <td>NaN</td>\n",
       "      <td>row_data\\json\\observations_0.json</td>\n",
       "    </tr>\n",
       "    <tr>\n",
       "      <th>4</th>\n",
       "      <td>680.jpg</td>\n",
       "      <td>C:/Users/ANTOINE/Project_Mushroom/row_data\\ima...</td>\n",
       "      <td>(240, 320)</td>\n",
       "      <td>ages</td>\n",
       "      <td>680</td>\n",
       "      <td>jpg</td>\n",
       "      <td>536</td>\n",
       "      <td>Agaricus</td>\n",
       "      <td>http://mushroomobserver.org/images/320/680</td>\n",
       "      <td>1</td>\n",
       "      <td>...</td>\n",
       "      <td>Agaricus</td>\n",
       "      <td>34.0</td>\n",
       "      <td>Agaricomycetes</td>\n",
       "      <td>False</td>\n",
       "      <td>Agaricus</td>\n",
       "      <td>Agaricus</td>\n",
       "      <td>Agaricales</td>\n",
       "      <td>NaN</td>\n",
       "      <td>NaN</td>\n",
       "      <td>row_data\\json\\observations_0.json</td>\n",
       "    </tr>\n",
       "  </tbody>\n",
       "</table>\n",
       "<p>5 rows × 38 columns</p>\n",
       "</div>"
      ],
      "text/plain": [
       "  file_name                                          file_path  resolution  \\\n",
       "0  1208.jpg  C:/Users/ANTOINE/Project_Mushroom/row_data\\ima...  (243, 320)   \n",
       "1  1604.jpg  C:/Users/ANTOINE/Project_Mushroom/row_data\\ima...  (320, 164)   \n",
       "2  1608.jpg  C:/Users/ANTOINE/Project_Mushroom/row_data\\ima...  (320, 286)   \n",
       "3    29.jpg  C:/Users/ANTOINE/Project_Mushroom/row_data\\ima...  (240, 320)   \n",
       "4   680.jpg  C:/Users/ANTOINE/Project_Mushroom/row_data\\ima...  (240, 320)   \n",
       "\n",
       "  file_year  image_id format  observation       label  \\\n",
       "0      ages      1208    jpg         1007  Agaricales   \n",
       "1      ages      1604    jpg         1535  Agaricales   \n",
       "2      ages      1608    jpg         1537  Agaricales   \n",
       "3      ages        29    jpg           23  Agaricales   \n",
       "4      ages       680    jpg          536    Agaricus   \n",
       "\n",
       "                                     image_url  user  ...  \\\n",
       "0  http://mushroomobserver.org/images/320/1208    25  ...   \n",
       "1  http://mushroomobserver.org/images/320/1604    43  ...   \n",
       "2  http://mushroomobserver.org/images/320/1608    43  ...   \n",
       "3    http://mushroomobserver.org/images/320/29     1  ...   \n",
       "4   http://mushroomobserver.org/images/320/680     1  ...   \n",
       "\n",
       "  gbif_info.canonicalName  gbif_info.phylumKey  gbif_info.class  \\\n",
       "0              Agaricales                 34.0   Agaricomycetes   \n",
       "1              Agaricales                 34.0   Agaricomycetes   \n",
       "2              Agaricales                 34.0   Agaricomycetes   \n",
       "3              Agaricales                 34.0   Agaricomycetes   \n",
       "4                Agaricus                 34.0   Agaricomycetes   \n",
       "\n",
       "  gbif_info.synonym gbif_info.scientificName  gbif_info.genus gbif_info.order  \\\n",
       "0             False               Agaricales              NaN      Agaricales   \n",
       "1             False               Agaricales              NaN      Agaricales   \n",
       "2             False               Agaricales              NaN      Agaricales   \n",
       "3             False               Agaricales              NaN      Agaricales   \n",
       "4             False                 Agaricus         Agaricus      Agaricales   \n",
       "\n",
       "  gbif_info.note  gbif_info                          json_file  \n",
       "0            NaN        NaN  row_data\\json\\observations_0.json  \n",
       "1            NaN        NaN  row_data\\json\\observations_0.json  \n",
       "2            NaN        NaN  row_data\\json\\observations_0.json  \n",
       "3            NaN        NaN  row_data\\json\\observations_0.json  \n",
       "4            NaN        NaN  row_data\\json\\observations_0.json  \n",
       "\n",
       "[5 rows x 38 columns]"
      ]
     },
     "execution_count": 8,
     "metadata": {},
     "output_type": "execute_result"
    },
    {
     "name": "stdout",
     "output_type": "stream",
     "text": [
      "time: 1.33 s (started: 2022-02-17 11:25:36 +01:00)\n"
     ]
    }
   ],
   "source": [
    "# df with path & target \n",
    "df_paths = pd.read_csv(root_dir + csv_file_paths)\n",
    "print('{} rows in the file'.format(len(df_paths)))\n",
    "df_paths.head()"
   ]
  },
  {
   "cell_type": "code",
   "execution_count": 9,
   "id": "f6dd237c",
   "metadata": {},
   "outputs": [
    {
     "name": "stdout",
     "output_type": "stream",
     "text": [
      "time: 47 ms (started: 2022-02-17 11:25:41 +01:00)\n"
     ]
    }
   ],
   "source": [
    "#select only 320,240 images with family info\n",
    "df_paths = df_paths[df_paths['resolution']=='(320, 240)'] "
   ]
  },
  {
   "cell_type": "code",
   "execution_count": 10,
   "id": "9fdef1d2",
   "metadata": {},
   "outputs": [
    {
     "name": "stdout",
     "output_type": "stream",
     "text": [
      "time: 47 ms (started: 2022-02-17 11:25:43 +01:00)\n"
     ]
    }
   ],
   "source": [
    "# keep conf level over 90 \n",
    "df_paths = df_paths.loc[df_paths['gbif_info.confidence']>90]"
   ]
  },
  {
   "cell_type": "code",
   "execution_count": 11,
   "id": "9e85bdc1",
   "metadata": {},
   "outputs": [
    {
     "data": {
      "text/plain": [
       "Agaricomycetes    75164\n",
       "Name: gbif_info.class, dtype: int64"
      ]
     },
     "execution_count": 11,
     "metadata": {},
     "output_type": "execute_result"
    },
    {
     "name": "stdout",
     "output_type": "stream",
     "text": [
      "time: 47 ms (started: 2022-02-17 11:25:46 +01:00)\n"
     ]
    }
   ],
   "source": [
    "# keep only most common class\n",
    "top_class = df_paths['gbif_info.class'].value_counts().index[0]\n",
    "df_paths = df_paths[df_paths['gbif_info.class'] == top_class]\n",
    "df_paths['gbif_info.class'].value_counts()"
   ]
  },
  {
   "cell_type": "code",
   "execution_count": 12,
   "id": "80e1bda6",
   "metadata": {},
   "outputs": [
    {
     "name": "stdout",
     "output_type": "stream",
     "text": [
      "time: 31 ms (started: 2022-02-17 11:25:49 +01:00)\n"
     ]
    }
   ],
   "source": [
    "# drop na \n",
    "df_paths = df_paths[df_paths['gbif_info.family'].notna()]"
   ]
  },
  {
   "cell_type": "code",
   "execution_count": 13,
   "id": "0939d7cc",
   "metadata": {},
   "outputs": [
    {
     "data": {
      "text/html": [
       "<div>\n",
       "<style scoped>\n",
       "    .dataframe tbody tr th:only-of-type {\n",
       "        vertical-align: middle;\n",
       "    }\n",
       "\n",
       "    .dataframe tbody tr th {\n",
       "        vertical-align: top;\n",
       "    }\n",
       "\n",
       "    .dataframe thead th {\n",
       "        text-align: right;\n",
       "    }\n",
       "</style>\n",
       "<table border=\"1\" class=\"dataframe\">\n",
       "  <thead>\n",
       "    <tr style=\"text-align: right;\">\n",
       "      <th></th>\n",
       "      <th>gbif_info.family</th>\n",
       "      <th>size</th>\n",
       "    </tr>\n",
       "  </thead>\n",
       "  <tbody>\n",
       "    <tr>\n",
       "      <th>0</th>\n",
       "      <td>Agaricaceae</td>\n",
       "      <td>5090</td>\n",
       "    </tr>\n",
       "    <tr>\n",
       "      <th>1</th>\n",
       "      <td>Albatrellaceae</td>\n",
       "      <td>200</td>\n",
       "    </tr>\n",
       "    <tr>\n",
       "      <th>2</th>\n",
       "      <td>Amanitaceae</td>\n",
       "      <td>4679</td>\n",
       "    </tr>\n",
       "    <tr>\n",
       "      <th>3</th>\n",
       "      <td>Amylocorticiaceae</td>\n",
       "      <td>16</td>\n",
       "    </tr>\n",
       "    <tr>\n",
       "      <th>4</th>\n",
       "      <td>Amylostereaceae</td>\n",
       "      <td>6</td>\n",
       "    </tr>\n",
       "    <tr>\n",
       "      <th>...</th>\n",
       "      <td>...</td>\n",
       "      <td>...</td>\n",
       "    </tr>\n",
       "    <tr>\n",
       "      <th>99</th>\n",
       "      <td>Tubariaceae</td>\n",
       "      <td>212</td>\n",
       "    </tr>\n",
       "    <tr>\n",
       "      <th>100</th>\n",
       "      <td>Tulasnellaceae</td>\n",
       "      <td>37</td>\n",
       "    </tr>\n",
       "    <tr>\n",
       "      <th>101</th>\n",
       "      <td>Tulostomataceae</td>\n",
       "      <td>2</td>\n",
       "    </tr>\n",
       "    <tr>\n",
       "      <th>102</th>\n",
       "      <td>Typhulaceae</td>\n",
       "      <td>39</td>\n",
       "    </tr>\n",
       "    <tr>\n",
       "      <th>103</th>\n",
       "      <td>Xenasmataceae</td>\n",
       "      <td>30</td>\n",
       "    </tr>\n",
       "  </tbody>\n",
       "</table>\n",
       "<p>104 rows × 2 columns</p>\n",
       "</div>"
      ],
      "text/plain": [
       "      gbif_info.family  size\n",
       "0          Agaricaceae  5090\n",
       "1       Albatrellaceae   200\n",
       "2          Amanitaceae  4679\n",
       "3    Amylocorticiaceae    16\n",
       "4      Amylostereaceae     6\n",
       "..                 ...   ...\n",
       "99         Tubariaceae   212\n",
       "100     Tulasnellaceae    37\n",
       "101    Tulostomataceae     2\n",
       "102        Typhulaceae    39\n",
       "103      Xenasmataceae    30\n",
       "\n",
       "[104 rows x 2 columns]"
      ]
     },
     "execution_count": 13,
     "metadata": {},
     "output_type": "execute_result"
    },
    {
     "name": "stdout",
     "output_type": "stream",
     "text": [
      "time: 16 ms (started: 2022-02-17 11:25:51 +01:00)\n"
     ]
    }
   ],
   "source": [
    "# Check number of classes \n",
    "pd.DataFrame(df_paths.groupby(['gbif_info.family'], as_index=False).size())"
   ]
  },
  {
   "cell_type": "code",
   "execution_count": 14,
   "id": "df45c65d",
   "metadata": {},
   "outputs": [
    {
     "name": "stdout",
     "output_type": "stream",
     "text": [
      "time: 32 ms (started: 2022-02-17 11:25:56 +01:00)\n"
     ]
    }
   ],
   "source": [
    "# keep only top families \n",
    "\n",
    "top_fam = df_paths['gbif_info.family'].value_counts().index[:family_number].values\n",
    "df_paths = df_paths[df_paths['gbif_info.family'].isin(top_fam)]"
   ]
  },
  {
   "cell_type": "code",
   "execution_count": 15,
   "id": "ca253fd6",
   "metadata": {},
   "outputs": [
    {
     "data": {
      "text/html": [
       "<div>\n",
       "<style scoped>\n",
       "    .dataframe tbody tr th:only-of-type {\n",
       "        vertical-align: middle;\n",
       "    }\n",
       "\n",
       "    .dataframe tbody tr th {\n",
       "        vertical-align: top;\n",
       "    }\n",
       "\n",
       "    .dataframe thead th {\n",
       "        text-align: right;\n",
       "    }\n",
       "</style>\n",
       "<table border=\"1\" class=\"dataframe\">\n",
       "  <thead>\n",
       "    <tr style=\"text-align: right;\">\n",
       "      <th></th>\n",
       "      <th>gbif_info.family</th>\n",
       "      <th>size</th>\n",
       "    </tr>\n",
       "  </thead>\n",
       "  <tbody>\n",
       "    <tr>\n",
       "      <th>0</th>\n",
       "      <td>Agaricaceae</td>\n",
       "      <td>5090</td>\n",
       "    </tr>\n",
       "    <tr>\n",
       "      <th>1</th>\n",
       "      <td>Amanitaceae</td>\n",
       "      <td>4679</td>\n",
       "    </tr>\n",
       "    <tr>\n",
       "      <th>2</th>\n",
       "      <td>Boletaceae</td>\n",
       "      <td>5977</td>\n",
       "    </tr>\n",
       "    <tr>\n",
       "      <th>3</th>\n",
       "      <td>Cortinariaceae</td>\n",
       "      <td>3931</td>\n",
       "    </tr>\n",
       "    <tr>\n",
       "      <th>4</th>\n",
       "      <td>Russulaceae</td>\n",
       "      <td>5911</td>\n",
       "    </tr>\n",
       "    <tr>\n",
       "      <th>5</th>\n",
       "      <td>Strophariaceae</td>\n",
       "      <td>4369</td>\n",
       "    </tr>\n",
       "    <tr>\n",
       "      <th>6</th>\n",
       "      <td>Tricholomataceae</td>\n",
       "      <td>4601</td>\n",
       "    </tr>\n",
       "  </tbody>\n",
       "</table>\n",
       "</div>"
      ],
      "text/plain": [
       "   gbif_info.family  size\n",
       "0       Agaricaceae  5090\n",
       "1       Amanitaceae  4679\n",
       "2        Boletaceae  5977\n",
       "3    Cortinariaceae  3931\n",
       "4       Russulaceae  5911\n",
       "5    Strophariaceae  4369\n",
       "6  Tricholomataceae  4601"
      ]
     },
     "execution_count": 15,
     "metadata": {},
     "output_type": "execute_result"
    },
    {
     "name": "stdout",
     "output_type": "stream",
     "text": [
      "time: 15 ms (started: 2022-02-17 11:25:58 +01:00)\n"
     ]
    }
   ],
   "source": [
    "pd.DataFrame(df_paths.groupby(['gbif_info.family'], as_index=False).size())"
   ]
  },
  {
   "cell_type": "code",
   "execution_count": 16,
   "id": "977acd00",
   "metadata": {},
   "outputs": [
    {
     "data": {
      "text/html": [
       "<div>\n",
       "<style scoped>\n",
       "    .dataframe tbody tr th:only-of-type {\n",
       "        vertical-align: middle;\n",
       "    }\n",
       "\n",
       "    .dataframe tbody tr th {\n",
       "        vertical-align: top;\n",
       "    }\n",
       "\n",
       "    .dataframe thead th {\n",
       "        text-align: right;\n",
       "    }\n",
       "</style>\n",
       "<table border=\"1\" class=\"dataframe\">\n",
       "  <thead>\n",
       "    <tr style=\"text-align: right;\">\n",
       "      <th></th>\n",
       "      <th>file_path</th>\n",
       "      <th>gbif_info.family</th>\n",
       "      <th>label</th>\n",
       "    </tr>\n",
       "  </thead>\n",
       "  <tbody>\n",
       "    <tr>\n",
       "      <th>5</th>\n",
       "      <td>C:/Users/ANTOINE/Project_Mushroom/row_data\\ima...</td>\n",
       "      <td>Agaricaceae</td>\n",
       "      <td>0</td>\n",
       "    </tr>\n",
       "    <tr>\n",
       "      <th>6</th>\n",
       "      <td>C:/Users/ANTOINE/Project_Mushroom/row_data\\ima...</td>\n",
       "      <td>Agaricaceae</td>\n",
       "      <td>0</td>\n",
       "    </tr>\n",
       "    <tr>\n",
       "      <th>7</th>\n",
       "      <td>C:/Users/ANTOINE/Project_Mushroom/row_data\\ima...</td>\n",
       "      <td>Agaricaceae</td>\n",
       "      <td>0</td>\n",
       "    </tr>\n",
       "    <tr>\n",
       "      <th>8</th>\n",
       "      <td>C:/Users/ANTOINE/Project_Mushroom/row_data\\ima...</td>\n",
       "      <td>Agaricaceae</td>\n",
       "      <td>0</td>\n",
       "    </tr>\n",
       "    <tr>\n",
       "      <th>9</th>\n",
       "      <td>C:/Users/ANTOINE/Project_Mushroom/row_data\\ima...</td>\n",
       "      <td>Agaricaceae</td>\n",
       "      <td>0</td>\n",
       "    </tr>\n",
       "  </tbody>\n",
       "</table>\n",
       "</div>"
      ],
      "text/plain": [
       "                                           file_path gbif_info.family label\n",
       "5  C:/Users/ANTOINE/Project_Mushroom/row_data\\ima...      Agaricaceae     0\n",
       "6  C:/Users/ANTOINE/Project_Mushroom/row_data\\ima...      Agaricaceae     0\n",
       "7  C:/Users/ANTOINE/Project_Mushroom/row_data\\ima...      Agaricaceae     0\n",
       "8  C:/Users/ANTOINE/Project_Mushroom/row_data\\ima...      Agaricaceae     0\n",
       "9  C:/Users/ANTOINE/Project_Mushroom/row_data\\ima...      Agaricaceae     0"
      ]
     },
     "execution_count": 16,
     "metadata": {},
     "output_type": "execute_result"
    },
    {
     "name": "stdout",
     "output_type": "stream",
     "text": [
      "time: 47 ms (started: 2022-02-17 11:26:17 +01:00)\n"
     ]
    }
   ],
   "source": [
    "# subset col of interest + label encoding\n",
    "df = df_paths[['file_path','gbif_info.family']].copy()\n",
    "df['label'] = df['gbif_info.family'].replace(df['gbif_info.family'].unique(), [*range(len(df['gbif_info.family'].unique()))]).astype(str) # label encoding \n",
    "\n",
    "df.head()"
   ]
  },
  {
   "cell_type": "code",
   "execution_count": 17,
   "id": "b1a8d19c",
   "metadata": {},
   "outputs": [
    {
     "name": "stdout",
     "output_type": "stream",
     "text": [
      "5000 rows in the file\n",
      "time: 46 ms (started: 2022-02-17 11:26:20 +01:00)\n"
     ]
    }
   ],
   "source": [
    "df_paths,_ = train_test_split(df_paths,train_size=number_of_images,stratify=df_paths['gbif_info.family'],random_state=random_seed )\n",
    "print('{} rows in the file'.format(len(df_paths)))"
   ]
  },
  {
   "cell_type": "code",
   "execution_count": 18,
   "id": "c6044f17",
   "metadata": {},
   "outputs": [
    {
     "data": {
      "text/html": [
       "<div>\n",
       "<style scoped>\n",
       "    .dataframe tbody tr th:only-of-type {\n",
       "        vertical-align: middle;\n",
       "    }\n",
       "\n",
       "    .dataframe tbody tr th {\n",
       "        vertical-align: top;\n",
       "    }\n",
       "\n",
       "    .dataframe thead th {\n",
       "        text-align: right;\n",
       "    }\n",
       "</style>\n",
       "<table border=\"1\" class=\"dataframe\">\n",
       "  <thead>\n",
       "    <tr style=\"text-align: right;\">\n",
       "      <th></th>\n",
       "      <th>file_path</th>\n",
       "      <th>gbif_info.family</th>\n",
       "      <th>label</th>\n",
       "    </tr>\n",
       "  </thead>\n",
       "  <tbody>\n",
       "    <tr>\n",
       "      <th>123138</th>\n",
       "      <td>C:/Users/ANTOINE/Project_Mushroom/row_data\\ima...</td>\n",
       "      <td>Russulaceae</td>\n",
       "      <td>0</td>\n",
       "    </tr>\n",
       "    <tr>\n",
       "      <th>153128</th>\n",
       "      <td>C:/Users/ANTOINE/Project_Mushroom/row_data\\ima...</td>\n",
       "      <td>Russulaceae</td>\n",
       "      <td>0</td>\n",
       "    </tr>\n",
       "    <tr>\n",
       "      <th>16589</th>\n",
       "      <td>C:/Users/ANTOINE/Project_Mushroom/row_data\\ima...</td>\n",
       "      <td>Tricholomataceae</td>\n",
       "      <td>1</td>\n",
       "    </tr>\n",
       "    <tr>\n",
       "      <th>22151</th>\n",
       "      <td>C:/Users/ANTOINE/Project_Mushroom/row_data\\ima...</td>\n",
       "      <td>Agaricaceae</td>\n",
       "      <td>2</td>\n",
       "    </tr>\n",
       "    <tr>\n",
       "      <th>110231</th>\n",
       "      <td>C:/Users/ANTOINE/Project_Mushroom/row_data\\ima...</td>\n",
       "      <td>Strophariaceae</td>\n",
       "      <td>3</td>\n",
       "    </tr>\n",
       "  </tbody>\n",
       "</table>\n",
       "</div>"
      ],
      "text/plain": [
       "                                                file_path  gbif_info.family  \\\n",
       "123138  C:/Users/ANTOINE/Project_Mushroom/row_data\\ima...       Russulaceae   \n",
       "153128  C:/Users/ANTOINE/Project_Mushroom/row_data\\ima...       Russulaceae   \n",
       "16589   C:/Users/ANTOINE/Project_Mushroom/row_data\\ima...  Tricholomataceae   \n",
       "22151   C:/Users/ANTOINE/Project_Mushroom/row_data\\ima...       Agaricaceae   \n",
       "110231  C:/Users/ANTOINE/Project_Mushroom/row_data\\ima...    Strophariaceae   \n",
       "\n",
       "       label  \n",
       "123138     0  \n",
       "153128     0  \n",
       "16589      1  \n",
       "22151      2  \n",
       "110231     3  "
      ]
     },
     "execution_count": 18,
     "metadata": {},
     "output_type": "execute_result"
    },
    {
     "name": "stdout",
     "output_type": "stream",
     "text": [
      "time: 0 ns (started: 2022-02-17 11:26:22 +01:00)\n"
     ]
    }
   ],
   "source": [
    "# subset col of interest + label encoding\n",
    "df = df_paths[['file_path','gbif_info.family']].copy()\n",
    "df['label'] = df['gbif_info.family'].replace(df['gbif_info.family'].unique(), [*range(len(df['gbif_info.family'].unique()))]).astype(str) # label encoding \n",
    "\n",
    "df.head()"
   ]
  },
  {
   "cell_type": "markdown",
   "id": "dce232a5",
   "metadata": {},
   "source": [
    "# Data for model "
   ]
  },
  {
   "cell_type": "code",
   "execution_count": 20,
   "id": "01382fa4",
   "metadata": {},
   "outputs": [
    {
     "name": "stdout",
     "output_type": "stream",
     "text": [
      "(4000, 3) (1000, 3)\n",
      "time: 31 ms (started: 2022-02-17 11:27:52 +01:00)\n"
     ]
    }
   ],
   "source": [
    "df_train, df_test= train_test_split(df, train_size=0.8, stratify =df['label'], random_state=random_seed)\n",
    "print(df_train.shape,df_test.shape)"
   ]
  },
  {
   "cell_type": "code",
   "execution_count": 21,
   "id": "d83bae6d",
   "metadata": {},
   "outputs": [
    {
     "name": "stdout",
     "output_type": "stream",
     "text": [
      "time: 0 ns (started: 2022-02-17 11:27:52 +01:00)\n"
     ]
    }
   ],
   "source": [
    "# compute a class weigts dict for unbalanced loss computation\n",
    "# { cf https://qastack.fr/datascience/13490/how-to-set-class-weights-for-imbalanced-classes-in-keras}\n",
    "class_weights = class_weight.compute_class_weight(class_weight='balanced',classes =np.unique(df_train['label']),y =df_train['label'])\n",
    "class_weights = dict(enumerate(class_weights))"
   ]
  },
  {
   "cell_type": "code",
   "execution_count": 22,
   "id": "7a7eb792",
   "metadata": {},
   "outputs": [
    {
     "name": "stdout",
     "output_type": "stream",
     "text": [
      "Found 4000 validated image filenames belonging to 7 classes.\n",
      "Found 1000 validated image filenames belonging to 7 classes.\n",
      "time: 2.05 s (started: 2022-02-17 11:27:52 +01:00)\n"
     ]
    }
   ],
   "source": [
    "# train \n",
    "train_data_generator = ImageDataGenerator(\n",
    "                                          # rotation_range=rotation_range,\n",
    "                                          # width_shift_range=width_shift_range,\n",
    "                                          # height_shift_range=height_shift_range,\n",
    "                                          # shear_range=shear_range,\n",
    "                                          # zoom_range=zoom_range,\n",
    "                                          # horizontal_flip=horizontal_flip,\n",
    "                                          # vertical_flip=vertical_flip\n",
    "                                          # fill_mode='nearest',\n",
    "                                        ) \n",
    "train_generator = train_data_generator.flow_from_dataframe(dataframe = df_train, \n",
    "                                                          x_col = \"file_path\",y_col=\"label\", \n",
    "                                                          shuffle = False,\n",
    "                                                          target_size=resol,batch_size=batch_size,class_mode='sparse')\n",
    "\n",
    "#test \n",
    "test_generator = ImageDataGenerator().flow_from_dataframe(dataframe = df_test,\n",
    "                                                        x_col = \"file_path\",y_col=\"label\", \n",
    "                                                          shuffle = False,\n",
    "                                                          target_size=resol,batch_size=batch_size,class_mode='sparse')\n",
    "\n"
   ]
  },
  {
   "cell_type": "markdown",
   "id": "0b59c0bb",
   "metadata": {},
   "source": [
    "# Chargement du modèle"
   ]
  },
  {
   "cell_type": "code",
   "execution_count": 36,
   "id": "b340075c",
   "metadata": {},
   "outputs": [
    {
     "name": "stdout",
     "output_type": "stream",
     "text": [
      "time: 15.8 s (started: 2022-02-17 11:38:40 +01:00)\n"
     ]
    }
   ],
   "source": [
    "efficientnet = tf.keras.models.load_model(root_dir + 'EFB1_final_model')"
   ]
  },
  {
   "cell_type": "code",
   "execution_count": 37,
   "id": "63874096",
   "metadata": {},
   "outputs": [
    {
     "name": "stdout",
     "output_type": "stream",
     "text": [
      "Model: \"EFB1\"\n",
      "_________________________________________________________________\n",
      " Layer (type)                Output Shape              Param #   \n",
      "=================================================================\n",
      " efficientnetb1 (Functional)  (None, 8, 10, 1280)      6575239   \n",
      "                                                                 \n",
      " global_average_pooling2d (G  (None, 1280)             0         \n",
      " lobalAveragePooling2D)                                          \n",
      "                                                                 \n",
      " dense (Dense)               (None, 1024)              1311744   \n",
      "                                                                 \n",
      " dropout (Dropout)           (None, 1024)              0         \n",
      "                                                                 \n",
      " dense_1 (Dense)             (None, 512)               524800    \n",
      "                                                                 \n",
      " dropout_1 (Dropout)         (None, 512)               0         \n",
      "                                                                 \n",
      " dense_2 (Dense)             (None, 7)                 3591      \n",
      "                                                                 \n",
      "=================================================================\n",
      "Total params: 8,415,374\n",
      "Trainable params: 8,291,271\n",
      "Non-trainable params: 124,103\n",
      "_________________________________________________________________\n",
      "time: 16 ms (started: 2022-02-17 11:39:13 +01:00)\n"
     ]
    }
   ],
   "source": [
    "efficientnet.summary()"
   ]
  },
  {
   "cell_type": "code",
   "execution_count": 38,
   "id": "aa410a5a",
   "metadata": {},
   "outputs": [
    {
     "data": {
      "text/plain": [
       "[<keras.engine.functional.Functional at 0x2d4d8d9ffd0>,\n",
       " <keras.layers.pooling.GlobalAveragePooling2D at 0x2d4d8d9f280>,\n",
       " <keras.layers.core.dense.Dense at 0x2d4db2e68e0>,\n",
       " <keras.layers.core.dropout.Dropout at 0x2d4d8d6edc0>,\n",
       " <keras.layers.core.dense.Dense at 0x2d4d8d40cd0>,\n",
       " <keras.layers.core.dropout.Dropout at 0x2d48e27d9a0>,\n",
       " <keras.layers.core.dense.Dense at 0x2d4dc5b3c70>]"
      ]
     },
     "execution_count": 38,
     "metadata": {},
     "output_type": "execute_result"
    },
    {
     "name": "stdout",
     "output_type": "stream",
     "text": [
      "time: 0 ns (started: 2022-02-17 11:39:18 +01:00)\n"
     ]
    }
   ],
   "source": [
    "efficientnet.layers"
   ]
  },
  {
   "cell_type": "code",
   "execution_count": 39,
   "id": "e68ce5b1",
   "metadata": {},
   "outputs": [
    {
     "name": "stdout",
     "output_type": "stream",
     "text": [
      "Found 1000 validated image filenames belonging to 7 classes.\n",
      "time: 125 ms (started: 2022-02-17 11:39:20 +01:00)\n"
     ]
    }
   ],
   "source": [
    "test_generator = ImageDataGenerator().flow_from_dataframe(dataframe = df_test,\n",
    "                                                        x_col = \"file_path\",y_col=\"label\",\n",
    "                                                          shuffle = False,\n",
    "                                                        # to match df_test order \n",
    "                                                          target_size=resol,batch_size=batch_size,class_mode='sparse')\n"
   ]
  },
  {
   "cell_type": "code",
   "execution_count": 40,
   "id": "0b00bf3c",
   "metadata": {},
   "outputs": [
    {
     "name": "stdout",
     "output_type": "stream",
     "text": [
      "time: 1min 15s (started: 2022-02-17 11:39:23 +01:00)\n"
     ]
    }
   ],
   "source": [
    "y_prob = efficientnet.predict(test_generator,len(df_test)//batch_size)\n",
    "test_pred_class= np.argmax(y_prob , axis=1)"
   ]
  },
  {
   "cell_type": "code",
   "execution_count": 41,
   "id": "aba513ce",
   "metadata": {},
   "outputs": [
    {
     "name": "stdout",
     "output_type": "stream",
     "text": [
      "[1 3 2 2 1 1 6 1 0 1 0 3 5 2 1 4 5 5 0 4 2 1 5 5 4 6 1 0 3 5 3 3 1 6 4 2 1\n",
      " 5 5 6 4 0 6 5 2 4 0 0 4 0 0 6 1 2 4 1 4 6 3 1 2 3 0 6 6 4 5 2 2 1 2 4 0 0\n",
      " 5 1 4 5 2 1 3 6 1 1 2 3 4 0 1 1 0 4 6 0 2 3 0 2 4 2 3 3 0 0 5 0 5 5 3 3 2\n",
      " 4 6 3 5 6 6 1 4 2 2 6 6 6 0 2 0 1 0 4 5 3 1 4 6 6 3 3 1 5 4 5 4 4 6 3 0 2\n",
      " 3 4 2 5 4 1 3 3 0 4 6 0 2 6 0 4 2 5 5 0 1 2 0 4 3 5 3 2 3 6 3 2 0 3 3 0 6\n",
      " 1 4 3 6 6 5 4 5 4 5 6 3 1 0 4 1 6 1 3 6 1 5 0 6 4 0 4 3 6 1 3 3 6 6 6 2 6\n",
      " 5 6 0 2 6 3 4 1 5 2 3 2 5 0 3 5 3 1 6 1 0 2 4 0 6 0 3 4 4 5 4 1 3 3 0 4 3\n",
      " 4 0 4 3 6 5 1 3 0 0 2 4 4 4 3 4 3 2 2 4 2 3 5 6 6 2 3 3 0 6 3 1 5 0 3 4 4\n",
      " 2 2 0 6 3 3 4 1 6 5 3 1 5 2 3 2 3 2 4 3 6 5 2 1 4 0 4 5 1 2 4 4 6 5 2 6 3\n",
      " 6 3 3 0 0 3 4 3 5 2 0 4 6 0 0 3 3 4 2 5 2 0 2 3 6 4 5 1 0 5 3 3 1 0 2 6 2\n",
      " 6 3 3 5 6 3 0 3 5 6 5 1 0 0 6 6 1 3 2 3 6 0 2 2 3 4 3 3 2 5 0 5 2 4 4 5 3\n",
      " 3 0 2 6 3 0 4 6 4 2 6 6 0 2 0 6 1 5 4 3 0 1 2 4 5 6 2 3 6 6 6 0 3 5 6 0 6\n",
      " 6 1 0 0 3 4 6 3 0 3 6 4 5 1 4 3 4 0 6 2 2 1 1 1 4 2 2 0 6 5 6 2 3 2 1 2 6\n",
      " 5 3 1 6 2 4 0 3 4 3 6 3 1 1 6 2 5 6 1 6 1 4 4 3 0 0 1 5 6 6 6 1 0 1 5 5 4\n",
      " 1 0 0 0 5 6 2 0 4 2 4 2 1 6 2 6 1 2 0 6 3 0 6 6 0 0 6 6 5 3 6 6 4 6 2 4 2\n",
      " 4 1 3 1 3 2 6 3 1 1 4 5 1 5 0 6 1 1 1 6 2 1 3 2 0 0 1 4 4 0 5 2 4 1 1 3 2\n",
      " 1 6 4 6 6 4 5 4 6 3 1 1 5 1 3 2 1 6 1 0 5 0 3 6 5 2 3 0 0 6 2 0 4 1 0 4 5\n",
      " 5 4 6 3 1 3 1 6 2 1 1 3 0 3 0 0 1 3 6 1 3 5 0 4 2 6 0 3 3 6 5 1 3 6 3 1 0\n",
      " 3 6 0 6 5 5 6 6 5 5 2 0 3 6 1 4 0 3 3 3 2 3 5 3 5 0 4 4 0 5 4 3 3 4 3 0 6\n",
      " 5 5 4 2 3 1 6 4 1 4 0 3 6 4 4 4 6 1 6 2 2 6 0 0 0 6 4 4 4 3 1 4 1 1 3 0 3\n",
      " 5 2 2 4 0 6 0 3 5 1 2 6 3 1 3 1 2 0 1 3 5 4 0 4 0 3 5 4 6 6 3 3 2 4 3 5 6\n",
      " 6 3 4 1 0 3 1 5 0 3 2 3 5 6 4 6 3 4 4 6 1 2 2 2 1 3 5 2 1 6 3 5 1 1 3 1 2\n",
      " 3 3 0 0 1 5 5 1 2 6 0 0 0 1 6 6 6 1 1 2 2 6 5 6 3 5 2 3 4 5 2 6 2 0 3 3 3\n",
      " 2 0 0 2 2 1 1 5 1 4 3 6 2 1 0 0 0 5 0 0 6 2 4 3 4 3 2 6 0 1 0 1 3 3 2 3 1\n",
      " 3 3 0 6 0 4 2 1 2 0 5 5 4 0 6 6 0 6 5 3 4 0 6 2 4 4 2 3 1 0 0 2 5 5 2 6 6\n",
      " 5 3 3 6 5 0 3 2 3 5 2 2 3 4 4 5 4 4 6 0 1 0 1 0 5 1 5 4 3 3 5 2 0 3 2 2 1\n",
      " 1 3 3 4 3 2 2 4 4 0 3 0 4 6 6 3 1 3 3 0 5 1 6 3 6 3 6 0 4 3 2 6 3 6 2 5 1\n",
      " 0]\n",
      "time: 0 ns (started: 2022-02-17 11:40:46 +01:00)\n"
     ]
    }
   ],
   "source": [
    "print(test_pred_class)"
   ]
  },
  {
   "cell_type": "code",
   "execution_count": 27,
   "id": "87c55c90",
   "metadata": {},
   "outputs": [
    {
     "data": {
      "text/plain": [
       "{'0': 0, '1': 1, '2': 2, '3': 3, '4': 4, '5': 5, '6': 6}"
      ]
     },
     "execution_count": 27,
     "metadata": {},
     "output_type": "execute_result"
    },
    {
     "name": "stdout",
     "output_type": "stream",
     "text": [
      "time: 0 ns (started: 2022-02-17 11:30:16 +01:00)\n"
     ]
    }
   ],
   "source": [
    "test_generator.class_indices"
   ]
  },
  {
   "cell_type": "code",
   "execution_count": 54,
   "id": "6adfeeb9",
   "metadata": {},
   "outputs": [
    {
     "name": "stdout",
     "output_type": "stream",
     "text": [
      "              precision    recall  f1-score   support\n",
      "\n",
      "           0       0.01      0.01      0.01       171\n",
      "           1       0.03      0.03      0.03       133\n",
      "           2       0.00      0.00      0.00       147\n",
      "           3       0.00      0.00      0.00       126\n",
      "           4       0.00      0.00      0.00       136\n",
      "           5       0.89      0.88      0.88       114\n",
      "           6       0.01      0.01      0.01       173\n",
      "\n",
      "    accuracy                           0.11      1000\n",
      "   macro avg       0.13      0.13      0.13      1000\n",
      "weighted avg       0.11      0.11      0.11      1000\n",
      "\n",
      "time: 0 ns (started: 2022-02-17 11:40:52 +01:00)\n"
     ]
    }
   ],
   "source": [
    "y_test_class= df_test['label'].values.astype(int)\n",
    "print(metrics.classification_report(y_test_class, test_pred_class))\n"
   ]
  },
  {
   "cell_type": "markdown",
   "id": "d24f3771",
   "metadata": {},
   "source": [
    "# Shap"
   ]
  },
  {
   "cell_type": "code",
   "execution_count": 47,
   "id": "1786d0ec",
   "metadata": {},
   "outputs": [
    {
     "name": "stdout",
     "output_type": "stream",
     "text": [
      "time: 0 ns (started: 2022-02-17 03:07:06 +01:00)\n"
     ]
    }
   ],
   "source": [
    "model = efficientnet"
   ]
  },
  {
   "cell_type": "code",
   "execution_count": 87,
   "id": "2a1c3750",
   "metadata": {},
   "outputs": [
    {
     "ename": "NameError",
     "evalue": "name 'X_test' is not defined",
     "output_type": "error",
     "traceback": [
      "\u001b[1;31m---------------------------------------------------------------------------\u001b[0m",
      "\u001b[1;31mNameError\u001b[0m                                 Traceback (most recent call last)",
      "\u001b[1;32m~\\AppData\\Local\\Temp/ipykernel_8256/3457586112.py\u001b[0m in \u001b[0;36m<module>\u001b[1;34m\u001b[0m\n\u001b[1;32m----> 1\u001b[1;33m \u001b[0mtest\u001b[0m \u001b[1;33m=\u001b[0m \u001b[0mtorch\u001b[0m\u001b[1;33m.\u001b[0m\u001b[0mutils\u001b[0m\u001b[1;33m.\u001b[0m\u001b[0mdata\u001b[0m\u001b[1;33m.\u001b[0m\u001b[0mTensorDataset\u001b[0m\u001b[1;33m(\u001b[0m\u001b[0mX_test\u001b[0m\u001b[1;33m,\u001b[0m \u001b[0my_test\u001b[0m\u001b[1;33m)\u001b[0m\u001b[1;33m\u001b[0m\u001b[1;33m\u001b[0m\u001b[0m\n\u001b[0m\u001b[0;32m      2\u001b[0m \u001b[0mtest_loader\u001b[0m \u001b[1;33m=\u001b[0m \u001b[0mtorch\u001b[0m\u001b[1;33m.\u001b[0m\u001b[0mutils\u001b[0m\u001b[1;33m.\u001b[0m\u001b[0mdata\u001b[0m\u001b[1;33m.\u001b[0m\u001b[0mDataLoader\u001b[0m\u001b[1;33m(\u001b[0m\u001b[0mdf_test\u001b[0m\u001b[1;33m,\u001b[0m \u001b[0mbatch_size\u001b[0m \u001b[1;33m=\u001b[0m \u001b[1;36m110\u001b[0m\u001b[1;33m,\u001b[0m \u001b[0mshuffle\u001b[0m \u001b[1;33m=\u001b[0m \u001b[1;32mFalse\u001b[0m\u001b[1;33m)\u001b[0m\u001b[1;33m\u001b[0m\u001b[1;33m\u001b[0m\u001b[0m\n\u001b[0;32m      3\u001b[0m \u001b[1;33m\u001b[0m\u001b[0m\n\u001b[0;32m      4\u001b[0m \u001b[1;33m\u001b[0m\u001b[0m\n\u001b[0;32m      5\u001b[0m \u001b[0mbatch\u001b[0m \u001b[1;33m=\u001b[0m \u001b[0mnext\u001b[0m\u001b[1;33m(\u001b[0m\u001b[0miter\u001b[0m\u001b[1;33m(\u001b[0m\u001b[0mtest_loader\u001b[0m\u001b[1;33m)\u001b[0m\u001b[1;33m)\u001b[0m\u001b[1;33m\u001b[0m\u001b[1;33m\u001b[0m\u001b[0m\n",
      "\u001b[1;31mNameError\u001b[0m: name 'X_test' is not defined"
     ]
    },
    {
     "name": "stdout",
     "output_type": "stream",
     "text": [
      "time: 16 ms (started: 2022-02-17 03:26:38 +01:00)\n"
     ]
    }
   ],
   "source": [
    "test = torch.utils.data.TensorDataset(X_test, y_test)\n",
    "test_loader = torch.utils.data.DataLoader(df_test, batch_size = 110, shuffle = False)\n",
    "\n",
    "\n",
    "batch = next(iter(test_loader))"
   ]
  },
  {
   "cell_type": "code",
   "execution_count": 56,
   "id": "cecdd9b8",
   "metadata": {},
   "outputs": [
    {
     "name": "stdout",
     "output_type": "stream",
     "text": [
      "Found 1000 validated image filenames belonging to 7 classes.\n",
      "(16, 240, 320, 3)\n"
     ]
    },
    {
     "name": "stderr",
     "output_type": "stream",
     "text": [
      "keras is no longer supported, please use tf.keras instead.\n",
      "Your TensorFlow version is newer than 2.4.0 and so graph support has been removed in eager mode and some static graphs may not be supported. See PR #1483 for discussion.\n"
     ]
    },
    {
     "name": "stdout",
     "output_type": "stream",
     "text": [
      "time: 2.58 s (started: 2022-02-17 12:41:51 +01:00)\n"
     ]
    }
   ],
   "source": [
    "test_generator = ImageDataGenerator().flow_from_dataframe(dataframe = df_test,\n",
    "                                                        x_col = \"file_path\",y_col=\"label\", \n",
    "                                                          shuffle = False,\n",
    "                                                          target_size=resol,batch_size=batch_size,class_mode='sparse')\n",
    "\n",
    "\n",
    "batch = next(iter(test_generator))\n",
    "images, _ = batch\n",
    "print(images.shape)\n",
    "background = images[:10]\n",
    "test_images= images[10:16]\n",
    "explainer = shap.DeepExplainer(efficientnet, images)\n"
   ]
  },
  {
   "cell_type": "code",
   "execution_count": 237,
   "id": "4588f128",
   "metadata": {},
   "outputs": [
    {
     "data": {
      "text/plain": [
       "array([[[[ 85.,  77.,  74.],\n",
       "         [ 80.,  70.,  68.],\n",
       "         [ 55.,  44.,  42.],\n",
       "         ...,\n",
       "         [ 11.,   9.,  10.],\n",
       "         [ 11.,   9.,  10.],\n",
       "         [ 10.,   8.,   9.]],\n",
       "\n",
       "        [[ 68.,  60.,  57.],\n",
       "         [ 68.,  58.,  56.],\n",
       "         [ 47.,  36.,  34.],\n",
       "         ...,\n",
       "         [  9.,   7.,   8.],\n",
       "         [ 10.,   8.,   9.],\n",
       "         [ 11.,   9.,  10.]],\n",
       "\n",
       "        [[ 60.,  50.,  48.],\n",
       "         [ 83.,  73.,  71.],\n",
       "         [ 83.,  72.,  70.],\n",
       "         ...,\n",
       "         [ 12.,  10.,  11.],\n",
       "         [ 15.,  13.,  14.],\n",
       "         [ 18.,  16.,  17.]],\n",
       "\n",
       "        ...,\n",
       "\n",
       "        [[ 79.,  80.,  75.],\n",
       "         [ 63.,  64.,  59.],\n",
       "         [ 55.,  56.,  51.],\n",
       "         ...,\n",
       "         [ 26.,  17.,  18.],\n",
       "         [ 16.,   7.,   8.],\n",
       "         [ 21.,  12.,  13.]],\n",
       "\n",
       "        [[ 79.,  80.,  75.],\n",
       "         [ 78.,  79.,  74.],\n",
       "         [ 67.,  68.,  63.],\n",
       "         ...,\n",
       "         [ 28.,  19.,  20.],\n",
       "         [ 23.,  14.,  15.],\n",
       "         [ 42.,  32.,  33.]],\n",
       "\n",
       "        [[ 64.,  65.,  60.],\n",
       "         [ 86.,  87.,  82.],\n",
       "         [ 80.,  81.,  76.],\n",
       "         ...,\n",
       "         [ 30.,  21.,  22.],\n",
       "         [ 33.,  23.,  24.],\n",
       "         [ 63.,  53.,  54.]]],\n",
       "\n",
       "\n",
       "       [[[ 94.,  90.,  89.],\n",
       "         [110., 106., 105.],\n",
       "         [119., 114., 110.],\n",
       "         ...,\n",
       "         [ 93., 145.,  44.],\n",
       "         [ 82., 135.,  31.],\n",
       "         [ 65., 121.,  14.]],\n",
       "\n",
       "        [[ 91.,  90.,  88.],\n",
       "         [ 99.,  95.,  94.],\n",
       "         [ 97.,  92.,  89.],\n",
       "         ...,\n",
       "         [ 89., 139.,  40.],\n",
       "         [ 70., 122.,  21.],\n",
       "         [ 66., 119.,  15.]],\n",
       "\n",
       "        [[ 66.,  65.,  63.],\n",
       "         [ 70.,  69.,  67.],\n",
       "         [ 68.,  64.,  61.],\n",
       "         ...,\n",
       "         [101., 148.,  52.],\n",
       "         [ 75., 125.,  26.],\n",
       "         [ 70., 120.,  21.]],\n",
       "\n",
       "        ...,\n",
       "\n",
       "        [[ 28.,  17.,  13.],\n",
       "         [ 30.,  19.,  15.],\n",
       "         [ 25.,  16.,  11.],\n",
       "         ...,\n",
       "         [ 58.,  55.,  50.],\n",
       "         [ 47.,  46.,  42.],\n",
       "         [ 43.,  42.,  38.]],\n",
       "\n",
       "        [[ 27.,  16.,  12.],\n",
       "         [ 37.,  26.,  22.],\n",
       "         [ 24.,  13.,   9.],\n",
       "         ...,\n",
       "         [ 57.,  54.,  49.],\n",
       "         [ 51.,  50.,  46.],\n",
       "         [ 56.,  55.,  51.]],\n",
       "\n",
       "        [[ 22.,  11.,   7.],\n",
       "         [ 40.,  29.,  25.],\n",
       "         [ 23.,  12.,   8.],\n",
       "         ...,\n",
       "         [ 50.,  47.,  42.],\n",
       "         [ 51.,  47.,  44.],\n",
       "         [ 61.,  60.,  56.]]],\n",
       "\n",
       "\n",
       "       [[[178., 176., 177.],\n",
       "         [177., 176., 174.],\n",
       "         [168., 168., 166.],\n",
       "         ...,\n",
       "         [132., 132., 134.],\n",
       "         [121., 121., 123.],\n",
       "         [104., 104., 104.]],\n",
       "\n",
       "        [[180., 176., 175.],\n",
       "         [192., 188., 187.],\n",
       "         [190., 189., 185.],\n",
       "         ...,\n",
       "         [118., 118., 120.],\n",
       "         [ 93.,  93.,  93.],\n",
       "         [ 66.,  66.,  66.]],\n",
       "\n",
       "        [[161., 153., 151.],\n",
       "         [118., 110., 108.],\n",
       "         [ 62.,  57.,  53.],\n",
       "         ...,\n",
       "         [120., 120., 120.],\n",
       "         [ 90.,  90.,  90.],\n",
       "         [ 48.,  48.,  46.]],\n",
       "\n",
       "        ...,\n",
       "\n",
       "        [[  0.,   0.,   2.],\n",
       "         [ 13.,  13.,  15.],\n",
       "         [ 15.,  13.,  14.],\n",
       "         ...,\n",
       "         [101.,  95.,  99.],\n",
       "         [ 32.,  25.,  32.],\n",
       "         [ 51.,  44.,  52.]],\n",
       "\n",
       "        [[ 14.,  13.,  11.],\n",
       "         [ 17.,  16.,  14.],\n",
       "         [ 10.,   9.,   7.],\n",
       "         ...,\n",
       "         [ 70.,  63.,  70.],\n",
       "         [ 33.,  26.,  34.],\n",
       "         [ 36.,  28.,  39.]],\n",
       "\n",
       "        [[ 17.,  16.,  12.],\n",
       "         [ 15.,  14.,  10.],\n",
       "         [ 12.,   8.,   5.],\n",
       "         ...,\n",
       "         [ 80.,  73.,  80.],\n",
       "         [ 81.,  73.,  84.],\n",
       "         [ 77.,  69.,  82.]]],\n",
       "\n",
       "\n",
       "       [[[ 96., 108.,  62.],\n",
       "         [ 89., 101.,  55.],\n",
       "         [ 85.,  97.,  49.],\n",
       "         ...,\n",
       "         [126., 139.,  96.],\n",
       "         [127., 139.,  99.],\n",
       "         [121., 133.,  95.]],\n",
       "\n",
       "        [[ 96., 108.,  60.],\n",
       "         [ 89., 101.,  53.],\n",
       "         [ 85.,  97.,  49.],\n",
       "         ...,\n",
       "         [112., 125.,  82.],\n",
       "         [111., 123.,  83.],\n",
       "         [101., 113.,  75.]],\n",
       "\n",
       "        [[102., 114.,  66.],\n",
       "         [ 95., 107.,  57.],\n",
       "         [ 91., 103.,  53.],\n",
       "         ...,\n",
       "         [ 95., 107.,  67.],\n",
       "         [ 94., 106.,  68.],\n",
       "         [ 86.,  98.,  62.]],\n",
       "\n",
       "        ...,\n",
       "\n",
       "        [[ 62.,  57.,  37.],\n",
       "         [ 78.,  72.,  48.],\n",
       "         [ 84.,  69.,  46.],\n",
       "         ...,\n",
       "         [179., 189., 178.],\n",
       "         [199., 205., 205.],\n",
       "         [219., 224., 230.]],\n",
       "\n",
       "        [[ 88.,  62.,  45.],\n",
       "         [100.,  75.,  55.],\n",
       "         [101.,  73.,  51.],\n",
       "         ...,\n",
       "         [190., 200., 192.],\n",
       "         [203., 211., 214.],\n",
       "         [216., 220., 231.]],\n",
       "\n",
       "        [[127.,  90.,  74.],\n",
       "         [128.,  91.,  73.],\n",
       "         [120.,  84.,  60.],\n",
       "         ...,\n",
       "         [190., 201., 195.],\n",
       "         [201., 208., 214.],\n",
       "         [205., 211., 223.]]],\n",
       "\n",
       "\n",
       "       [[[103., 136., 115.],\n",
       "         [110., 143., 122.],\n",
       "         [114., 147., 126.],\n",
       "         ...,\n",
       "         [100., 139., 118.],\n",
       "         [ 98., 137., 116.],\n",
       "         [ 95., 134., 113.]],\n",
       "\n",
       "        [[105., 138., 117.],\n",
       "         [108., 141., 120.],\n",
       "         [110., 143., 122.],\n",
       "         ...,\n",
       "         [ 98., 137., 116.],\n",
       "         [ 97., 136., 115.],\n",
       "         [ 95., 134., 113.]],\n",
       "\n",
       "        [[109., 142., 121.],\n",
       "         [107., 140., 119.],\n",
       "         [107., 140., 119.],\n",
       "         ...,\n",
       "         [ 98., 137., 116.],\n",
       "         [ 97., 136., 115.],\n",
       "         [ 97., 136., 115.]],\n",
       "\n",
       "        ...,\n",
       "\n",
       "        [[121., 156., 136.],\n",
       "         [127., 162., 142.],\n",
       "         [129., 164., 144.],\n",
       "         ...,\n",
       "         [113., 153., 129.],\n",
       "         [114., 154., 130.],\n",
       "         [118., 158., 134.]],\n",
       "\n",
       "        [[121., 156., 136.],\n",
       "         [132., 167., 147.],\n",
       "         [134., 169., 149.],\n",
       "         ...,\n",
       "         [115., 153., 130.],\n",
       "         [117., 155., 132.],\n",
       "         [118., 156., 133.]],\n",
       "\n",
       "        [[124., 159., 139.],\n",
       "         [138., 173., 153.],\n",
       "         [140., 175., 155.],\n",
       "         ...,\n",
       "         [116., 151., 129.],\n",
       "         [119., 154., 132.],\n",
       "         [117., 152., 130.]]],\n",
       "\n",
       "\n",
       "       [[[ 59.,  62.,  53.],\n",
       "         [ 61.,  64.,  55.],\n",
       "         [ 63.,  66.,  57.],\n",
       "         ...,\n",
       "         [185., 181., 172.],\n",
       "         [183., 179., 170.],\n",
       "         [181., 177., 168.]],\n",
       "\n",
       "        [[ 93.,  96.,  87.],\n",
       "         [ 72.,  75.,  66.],\n",
       "         [ 54.,  57.,  48.],\n",
       "         ...,\n",
       "         [183., 179., 170.],\n",
       "         [181., 177., 168.],\n",
       "         [180., 176., 167.]],\n",
       "\n",
       "        [[119., 122., 113.],\n",
       "         [ 87.,  90.,  81.],\n",
       "         [ 60.,  63.,  54.],\n",
       "         ...,\n",
       "         [182., 178., 169.],\n",
       "         [180., 176., 167.],\n",
       "         [178., 174., 165.]],\n",
       "\n",
       "        ...,\n",
       "\n",
       "        [[164., 159., 130.],\n",
       "         [169., 162., 134.],\n",
       "         [173., 166., 138.],\n",
       "         ...,\n",
       "         [170., 159., 127.],\n",
       "         [173., 162., 130.],\n",
       "         [176., 165., 133.]],\n",
       "\n",
       "        [[164., 159., 130.],\n",
       "         [171., 164., 136.],\n",
       "         [177., 170., 142.],\n",
       "         ...,\n",
       "         [175., 164., 132.],\n",
       "         [175., 164., 132.],\n",
       "         [175., 164., 132.]],\n",
       "\n",
       "        [[164., 159., 130.],\n",
       "         [173., 166., 138.],\n",
       "         [180., 173., 145.],\n",
       "         ...,\n",
       "         [181., 170., 138.],\n",
       "         [179., 168., 136.],\n",
       "         [176., 165., 133.]]]], dtype=float32)"
      ]
     },
     "execution_count": 237,
     "metadata": {},
     "output_type": "execute_result"
    },
    {
     "name": "stdout",
     "output_type": "stream",
     "text": [
      "time: 16 ms (started: 2022-02-17 05:26:10 +01:00)\n"
     ]
    }
   ],
   "source": [
    "test_images"
   ]
  },
  {
   "cell_type": "code",
   "execution_count": 57,
   "id": "dc16475d",
   "metadata": {},
   "outputs": [
    {
     "name": "stderr",
     "output_type": "stream",
     "text": [
      "`tf.keras.backend.set_learning_phase` is deprecated and will be removed after 2020-10-11. To update it, simply pass a True/False value to the `training` argument of the `__call__` method of your layer or model.\n"
     ]
    },
    {
     "ename": "AttributeError",
     "evalue": "in user code:\n\n    File \"C:\\Users\\ANTOINE\\anaconda3\\lib\\site-packages\\shap\\explainers\\_deep\\deep_tf.py\", line 243, in grad_graph  *\n        out = self.model(shap_rAnD)\n    File \"C:\\Users\\ANTOINE\\anaconda3\\lib\\site-packages\\keras\\utils\\traceback_utils.py\", line 67, in error_handler  **\n        raise e.with_traceback(filtered_tb) from None\n    File \"C:\\Users\\ANTOINE\\anaconda3\\lib\\site-packages\\shap\\explainers\\_deep\\deep_tf.py\", line 26, in custom_record_gradient\n        out = tf_backprop._record_gradient(\"shap_\"+op_name, inputs, attrs, results)\n\n    AttributeError: Exception encountered when calling layer \"rescaling_1\" (type Rescaling).\n    \n    module 'tensorflow.python.eager.backprop' has no attribute '_record_gradient'\n    \n    Call arguments received:\n      • inputs=tf.Tensor(shape=(32, 240, 320, 3), dtype=float32)\n",
     "output_type": "error",
     "traceback": [
      "\u001b[1;31m---------------------------------------------------------------------------\u001b[0m",
      "\u001b[1;31mAttributeError\u001b[0m                            Traceback (most recent call last)",
      "\u001b[1;32m~\\AppData\\Local\\Temp/ipykernel_9212/320457619.py\u001b[0m in \u001b[0;36m<module>\u001b[1;34m\u001b[0m\n\u001b[1;32m----> 1\u001b[1;33m \u001b[0mshap_values\u001b[0m \u001b[1;33m=\u001b[0m \u001b[0mexplainer\u001b[0m\u001b[1;33m.\u001b[0m\u001b[0mshap_values\u001b[0m\u001b[1;33m(\u001b[0m\u001b[0mimages\u001b[0m\u001b[1;33m)\u001b[0m\u001b[1;33m\u001b[0m\u001b[1;33m\u001b[0m\u001b[0m\n\u001b[0m",
      "\u001b[1;32m~\\anaconda3\\lib\\site-packages\\shap\\explainers\\_deep\\__init__.py\u001b[0m in \u001b[0;36mshap_values\u001b[1;34m(self, X, ranked_outputs, output_rank_order, check_additivity)\u001b[0m\n\u001b[0;32m    122\u001b[0m             \u001b[0mwere\u001b[0m \u001b[0mchosen\u001b[0m \u001b[1;32mas\u001b[0m \u001b[1;34m\"top\"\u001b[0m\u001b[1;33m.\u001b[0m\u001b[1;33m\u001b[0m\u001b[1;33m\u001b[0m\u001b[0m\n\u001b[0;32m    123\u001b[0m         \"\"\"\n\u001b[1;32m--> 124\u001b[1;33m         \u001b[1;32mreturn\u001b[0m \u001b[0mself\u001b[0m\u001b[1;33m.\u001b[0m\u001b[0mexplainer\u001b[0m\u001b[1;33m.\u001b[0m\u001b[0mshap_values\u001b[0m\u001b[1;33m(\u001b[0m\u001b[0mX\u001b[0m\u001b[1;33m,\u001b[0m \u001b[0mranked_outputs\u001b[0m\u001b[1;33m,\u001b[0m \u001b[0moutput_rank_order\u001b[0m\u001b[1;33m,\u001b[0m \u001b[0mcheck_additivity\u001b[0m\u001b[1;33m=\u001b[0m\u001b[0mcheck_additivity\u001b[0m\u001b[1;33m)\u001b[0m\u001b[1;33m\u001b[0m\u001b[1;33m\u001b[0m\u001b[0m\n\u001b[0m",
      "\u001b[1;32m~\\anaconda3\\lib\\site-packages\\shap\\explainers\\_deep\\deep_tf.py\u001b[0m in \u001b[0;36mshap_values\u001b[1;34m(self, X, ranked_outputs, output_rank_order, check_additivity)\u001b[0m\n\u001b[0;32m    306\u001b[0m                 \u001b[1;31m# run attribution computation graph\u001b[0m\u001b[1;33m\u001b[0m\u001b[1;33m\u001b[0m\u001b[0m\n\u001b[0;32m    307\u001b[0m                 \u001b[0mfeature_ind\u001b[0m \u001b[1;33m=\u001b[0m \u001b[0mmodel_output_ranks\u001b[0m\u001b[1;33m[\u001b[0m\u001b[0mj\u001b[0m\u001b[1;33m,\u001b[0m\u001b[0mi\u001b[0m\u001b[1;33m]\u001b[0m\u001b[1;33m\u001b[0m\u001b[1;33m\u001b[0m\u001b[0m\n\u001b[1;32m--> 308\u001b[1;33m                 \u001b[0msample_phis\u001b[0m \u001b[1;33m=\u001b[0m \u001b[0mself\u001b[0m\u001b[1;33m.\u001b[0m\u001b[0mrun\u001b[0m\u001b[1;33m(\u001b[0m\u001b[0mself\u001b[0m\u001b[1;33m.\u001b[0m\u001b[0mphi_symbolic\u001b[0m\u001b[1;33m(\u001b[0m\u001b[0mfeature_ind\u001b[0m\u001b[1;33m)\u001b[0m\u001b[1;33m,\u001b[0m \u001b[0mself\u001b[0m\u001b[1;33m.\u001b[0m\u001b[0mmodel_inputs\u001b[0m\u001b[1;33m,\u001b[0m \u001b[0mjoint_input\u001b[0m\u001b[1;33m)\u001b[0m\u001b[1;33m\u001b[0m\u001b[1;33m\u001b[0m\u001b[0m\n\u001b[0m\u001b[0;32m    309\u001b[0m \u001b[1;33m\u001b[0m\u001b[0m\n\u001b[0;32m    310\u001b[0m                 \u001b[1;31m# assign the attributions to the right part of the output arrays\u001b[0m\u001b[1;33m\u001b[0m\u001b[1;33m\u001b[0m\u001b[0m\n",
      "\u001b[1;32m~\\anaconda3\\lib\\site-packages\\shap\\explainers\\_deep\\deep_tf.py\u001b[0m in \u001b[0;36mrun\u001b[1;34m(self, out, model_inputs, X)\u001b[0m\n\u001b[0;32m    363\u001b[0m \u001b[1;33m\u001b[0m\u001b[0m\n\u001b[0;32m    364\u001b[0m                 \u001b[1;32mreturn\u001b[0m \u001b[0mfinal_out\u001b[0m\u001b[1;33m\u001b[0m\u001b[1;33m\u001b[0m\u001b[0m\n\u001b[1;32m--> 365\u001b[1;33m             \u001b[1;32mreturn\u001b[0m \u001b[0mself\u001b[0m\u001b[1;33m.\u001b[0m\u001b[0mexecute_with_overridden_gradients\u001b[0m\u001b[1;33m(\u001b[0m\u001b[0manon\u001b[0m\u001b[1;33m)\u001b[0m\u001b[1;33m\u001b[0m\u001b[1;33m\u001b[0m\u001b[0m\n\u001b[0m\u001b[0;32m    366\u001b[0m \u001b[1;33m\u001b[0m\u001b[0m\n\u001b[0;32m    367\u001b[0m     \u001b[1;32mdef\u001b[0m \u001b[0mcustom_grad\u001b[0m\u001b[1;33m(\u001b[0m\u001b[0mself\u001b[0m\u001b[1;33m,\u001b[0m \u001b[0mop\u001b[0m\u001b[1;33m,\u001b[0m \u001b[1;33m*\u001b[0m\u001b[0mgrads\u001b[0m\u001b[1;33m)\u001b[0m\u001b[1;33m:\u001b[0m\u001b[1;33m\u001b[0m\u001b[1;33m\u001b[0m\u001b[0m\n",
      "\u001b[1;32m~\\anaconda3\\lib\\site-packages\\shap\\explainers\\_deep\\deep_tf.py\u001b[0m in \u001b[0;36mexecute_with_overridden_gradients\u001b[1;34m(self, f)\u001b[0m\n\u001b[0;32m    399\u001b[0m         \u001b[1;31m# define the computation graph for the attribution values using a custom gradient-like computation\u001b[0m\u001b[1;33m\u001b[0m\u001b[1;33m\u001b[0m\u001b[0m\n\u001b[0;32m    400\u001b[0m         \u001b[1;32mtry\u001b[0m\u001b[1;33m:\u001b[0m\u001b[1;33m\u001b[0m\u001b[1;33m\u001b[0m\u001b[0m\n\u001b[1;32m--> 401\u001b[1;33m             \u001b[0mout\u001b[0m \u001b[1;33m=\u001b[0m \u001b[0mf\u001b[0m\u001b[1;33m(\u001b[0m\u001b[1;33m)\u001b[0m\u001b[1;33m\u001b[0m\u001b[1;33m\u001b[0m\u001b[0m\n\u001b[0m\u001b[0;32m    402\u001b[0m         \u001b[1;32mfinally\u001b[0m\u001b[1;33m:\u001b[0m\u001b[1;33m\u001b[0m\u001b[1;33m\u001b[0m\u001b[0m\n\u001b[0;32m    403\u001b[0m             \u001b[1;31m# reinstate the backpropagatable check\u001b[0m\u001b[1;33m\u001b[0m\u001b[1;33m\u001b[0m\u001b[0m\n",
      "\u001b[1;32m~\\anaconda3\\lib\\site-packages\\shap\\explainers\\_deep\\deep_tf.py\u001b[0m in \u001b[0;36manon\u001b[1;34m()\u001b[0m\n\u001b[0;32m    359\u001b[0m                     \u001b[0mv\u001b[0m \u001b[1;33m=\u001b[0m \u001b[0mtf\u001b[0m\u001b[1;33m.\u001b[0m\u001b[0mconstant\u001b[0m\u001b[1;33m(\u001b[0m\u001b[0mdata\u001b[0m\u001b[1;33m,\u001b[0m \u001b[0mdtype\u001b[0m\u001b[1;33m=\u001b[0m\u001b[0mself\u001b[0m\u001b[1;33m.\u001b[0m\u001b[0mmodel_inputs\u001b[0m\u001b[1;33m[\u001b[0m\u001b[0mi\u001b[0m\u001b[1;33m]\u001b[0m\u001b[1;33m.\u001b[0m\u001b[0mdtype\u001b[0m\u001b[1;33m)\u001b[0m\u001b[1;33m\u001b[0m\u001b[1;33m\u001b[0m\u001b[0m\n\u001b[0;32m    360\u001b[0m                     \u001b[0minputs\u001b[0m\u001b[1;33m.\u001b[0m\u001b[0mappend\u001b[0m\u001b[1;33m(\u001b[0m\u001b[0mv\u001b[0m\u001b[1;33m)\u001b[0m\u001b[1;33m\u001b[0m\u001b[1;33m\u001b[0m\u001b[0m\n\u001b[1;32m--> 361\u001b[1;33m                 \u001b[0mfinal_out\u001b[0m \u001b[1;33m=\u001b[0m \u001b[0mout\u001b[0m\u001b[1;33m(\u001b[0m\u001b[0minputs\u001b[0m\u001b[1;33m)\u001b[0m\u001b[1;33m\u001b[0m\u001b[1;33m\u001b[0m\u001b[0m\n\u001b[0m\u001b[0;32m    362\u001b[0m                 \u001b[0mtf_execute\u001b[0m\u001b[1;33m.\u001b[0m\u001b[0mrecord_gradient\u001b[0m \u001b[1;33m=\u001b[0m \u001b[0mtf_backprop\u001b[0m\u001b[1;33m.\u001b[0m\u001b[0m_record_gradient\u001b[0m\u001b[1;33m\u001b[0m\u001b[1;33m\u001b[0m\u001b[0m\n\u001b[0;32m    363\u001b[0m \u001b[1;33m\u001b[0m\u001b[0m\n",
      "\u001b[1;32m~\\anaconda3\\lib\\site-packages\\tensorflow\\python\\util\\traceback_utils.py\u001b[0m in \u001b[0;36merror_handler\u001b[1;34m(*args, **kwargs)\u001b[0m\n\u001b[0;32m    151\u001b[0m     \u001b[1;32mexcept\u001b[0m \u001b[0mException\u001b[0m \u001b[1;32mas\u001b[0m \u001b[0me\u001b[0m\u001b[1;33m:\u001b[0m\u001b[1;33m\u001b[0m\u001b[1;33m\u001b[0m\u001b[0m\n\u001b[0;32m    152\u001b[0m       \u001b[0mfiltered_tb\u001b[0m \u001b[1;33m=\u001b[0m \u001b[0m_process_traceback_frames\u001b[0m\u001b[1;33m(\u001b[0m\u001b[0me\u001b[0m\u001b[1;33m.\u001b[0m\u001b[0m__traceback__\u001b[0m\u001b[1;33m)\u001b[0m\u001b[1;33m\u001b[0m\u001b[1;33m\u001b[0m\u001b[0m\n\u001b[1;32m--> 153\u001b[1;33m       \u001b[1;32mraise\u001b[0m \u001b[0me\u001b[0m\u001b[1;33m.\u001b[0m\u001b[0mwith_traceback\u001b[0m\u001b[1;33m(\u001b[0m\u001b[0mfiltered_tb\u001b[0m\u001b[1;33m)\u001b[0m \u001b[1;32mfrom\u001b[0m \u001b[1;32mNone\u001b[0m\u001b[1;33m\u001b[0m\u001b[1;33m\u001b[0m\u001b[0m\n\u001b[0m\u001b[0;32m    154\u001b[0m     \u001b[1;32mfinally\u001b[0m\u001b[1;33m:\u001b[0m\u001b[1;33m\u001b[0m\u001b[1;33m\u001b[0m\u001b[0m\n\u001b[0;32m    155\u001b[0m       \u001b[1;32mdel\u001b[0m \u001b[0mfiltered_tb\u001b[0m\u001b[1;33m\u001b[0m\u001b[1;33m\u001b[0m\u001b[0m\n",
      "\u001b[1;32m~\\anaconda3\\lib\\site-packages\\tensorflow\\python\\framework\\func_graph.py\u001b[0m in \u001b[0;36mautograph_handler\u001b[1;34m(*args, **kwargs)\u001b[0m\n\u001b[0;32m   1127\u001b[0m           \u001b[1;32mexcept\u001b[0m \u001b[0mException\u001b[0m \u001b[1;32mas\u001b[0m \u001b[0me\u001b[0m\u001b[1;33m:\u001b[0m  \u001b[1;31m# pylint:disable=broad-except\u001b[0m\u001b[1;33m\u001b[0m\u001b[1;33m\u001b[0m\u001b[0m\n\u001b[0;32m   1128\u001b[0m             \u001b[1;32mif\u001b[0m \u001b[0mhasattr\u001b[0m\u001b[1;33m(\u001b[0m\u001b[0me\u001b[0m\u001b[1;33m,\u001b[0m \u001b[1;34m\"ag_error_metadata\"\u001b[0m\u001b[1;33m)\u001b[0m\u001b[1;33m:\u001b[0m\u001b[1;33m\u001b[0m\u001b[1;33m\u001b[0m\u001b[0m\n\u001b[1;32m-> 1129\u001b[1;33m               \u001b[1;32mraise\u001b[0m \u001b[0me\u001b[0m\u001b[1;33m.\u001b[0m\u001b[0mag_error_metadata\u001b[0m\u001b[1;33m.\u001b[0m\u001b[0mto_exception\u001b[0m\u001b[1;33m(\u001b[0m\u001b[0me\u001b[0m\u001b[1;33m)\u001b[0m\u001b[1;33m\u001b[0m\u001b[1;33m\u001b[0m\u001b[0m\n\u001b[0m\u001b[0;32m   1130\u001b[0m             \u001b[1;32melse\u001b[0m\u001b[1;33m:\u001b[0m\u001b[1;33m\u001b[0m\u001b[1;33m\u001b[0m\u001b[0m\n\u001b[0;32m   1131\u001b[0m               \u001b[1;32mraise\u001b[0m\u001b[1;33m\u001b[0m\u001b[1;33m\u001b[0m\u001b[0m\n",
      "\u001b[1;31mAttributeError\u001b[0m: in user code:\n\n    File \"C:\\Users\\ANTOINE\\anaconda3\\lib\\site-packages\\shap\\explainers\\_deep\\deep_tf.py\", line 243, in grad_graph  *\n        out = self.model(shap_rAnD)\n    File \"C:\\Users\\ANTOINE\\anaconda3\\lib\\site-packages\\keras\\utils\\traceback_utils.py\", line 67, in error_handler  **\n        raise e.with_traceback(filtered_tb) from None\n    File \"C:\\Users\\ANTOINE\\anaconda3\\lib\\site-packages\\shap\\explainers\\_deep\\deep_tf.py\", line 26, in custom_record_gradient\n        out = tf_backprop._record_gradient(\"shap_\"+op_name, inputs, attrs, results)\n\n    AttributeError: Exception encountered when calling layer \"rescaling_1\" (type Rescaling).\n    \n    module 'tensorflow.python.eager.backprop' has no attribute '_record_gradient'\n    \n    Call arguments received:\n      • inputs=tf.Tensor(shape=(32, 240, 320, 3), dtype=float32)\n"
     ]
    },
    {
     "name": "stdout",
     "output_type": "stream",
     "text": [
      "time: 218 ms (started: 2022-02-17 12:41:56 +01:00)\n"
     ]
    }
   ],
   "source": [
    "shap_values = explainer.shap_values(images)"
   ]
  },
  {
   "cell_type": "code",
   "execution_count": null,
   "id": "4496240e",
   "metadata": {},
   "outputs": [],
   "source": []
  },
  {
   "cell_type": "code",
   "execution_count": 77,
   "id": "4faf0432",
   "metadata": {},
   "outputs": [
    {
     "ename": "NameError",
     "evalue": "name 'shap_values' is not defined",
     "output_type": "error",
     "traceback": [
      "\u001b[1;31m---------------------------------------------------------------------------\u001b[0m",
      "\u001b[1;31mNameError\u001b[0m                                 Traceback (most recent call last)",
      "\u001b[1;32m~\\AppData\\Local\\Temp/ipykernel_8256/3285231213.py\u001b[0m in \u001b[0;36m<module>\u001b[1;34m\u001b[0m\n\u001b[1;32m----> 1\u001b[1;33m \u001b[0mshap_numpy\u001b[0m \u001b[1;33m=\u001b[0m \u001b[1;33m[\u001b[0m\u001b[0mnp\u001b[0m\u001b[1;33m.\u001b[0m\u001b[0mswapaxes\u001b[0m\u001b[1;33m(\u001b[0m\u001b[0mnp\u001b[0m\u001b[1;33m.\u001b[0m\u001b[0mswapaxes\u001b[0m\u001b[1;33m(\u001b[0m\u001b[0ms\u001b[0m\u001b[1;33m,\u001b[0m \u001b[1;36m1\u001b[0m\u001b[1;33m,\u001b[0m \u001b[1;33m-\u001b[0m\u001b[1;36m1\u001b[0m\u001b[1;33m)\u001b[0m\u001b[1;33m,\u001b[0m \u001b[1;36m1\u001b[0m\u001b[1;33m,\u001b[0m \u001b[1;36m2\u001b[0m\u001b[1;33m)\u001b[0m \u001b[1;32mfor\u001b[0m \u001b[0ms\u001b[0m \u001b[1;32min\u001b[0m \u001b[0mshap_values\u001b[0m\u001b[1;33m]\u001b[0m\u001b[1;33m\u001b[0m\u001b[1;33m\u001b[0m\u001b[0m\n\u001b[0m",
      "\u001b[1;31mNameError\u001b[0m: name 'shap_values' is not defined"
     ]
    },
    {
     "name": "stdout",
     "output_type": "stream",
     "text": [
      "time: 16 ms (started: 2022-02-17 03:21:39 +01:00)\n"
     ]
    }
   ],
   "source": [
    "shap_numpy = [np.swapaxes(np.swapaxes(s, 1, -1), 1, 2) for s in shap_values]"
   ]
  },
  {
   "cell_type": "code",
   "execution_count": 62,
   "id": "07b0a5f3",
   "metadata": {},
   "outputs": [
    {
     "name": "stderr",
     "output_type": "stream",
     "text": [
      "Your TensorFlow version is newer than 2.4.0 and so graph support has been removed in eager mode and some static graphs may not be supported. See PR #1483 for discussion.\n"
     ]
    },
    {
     "ename": "AttributeError",
     "evalue": "'tuple' object has no attribute 'as_list'",
     "output_type": "error",
     "traceback": [
      "\u001b[1;31m---------------------------------------------------------------------------\u001b[0m",
      "\u001b[1;31mAttributeError\u001b[0m                            Traceback (most recent call last)",
      "\u001b[1;32m~\\AppData\\Local\\Temp/ipykernel_8256/2724260701.py\u001b[0m in \u001b[0;36m<module>\u001b[1;34m\u001b[0m\n\u001b[1;32m----> 1\u001b[1;33m \u001b[0mexplainer\u001b[0m \u001b[1;33m=\u001b[0m \u001b[0mshap\u001b[0m\u001b[1;33m.\u001b[0m\u001b[0mDeepExplainer\u001b[0m\u001b[1;33m(\u001b[0m\u001b[0mefficientnet\u001b[0m\u001b[1;33m,\u001b[0m\u001b[0mdf_train\u001b[0m\u001b[1;33m)\u001b[0m\u001b[1;33m\u001b[0m\u001b[1;33m\u001b[0m\u001b[0m\n\u001b[0m",
      "\u001b[1;32m~\\anaconda3\\lib\\site-packages\\shap\\explainers\\_deep\\__init__.py\u001b[0m in \u001b[0;36m__init__\u001b[1;34m(self, model, data, session, learning_phase_flags)\u001b[0m\n\u001b[0;32m     82\u001b[0m \u001b[1;33m\u001b[0m\u001b[0m\n\u001b[0;32m     83\u001b[0m         \u001b[1;32mif\u001b[0m \u001b[0mframework\u001b[0m \u001b[1;33m==\u001b[0m \u001b[1;34m'tensorflow'\u001b[0m\u001b[1;33m:\u001b[0m\u001b[1;33m\u001b[0m\u001b[1;33m\u001b[0m\u001b[0m\n\u001b[1;32m---> 84\u001b[1;33m             \u001b[0mself\u001b[0m\u001b[1;33m.\u001b[0m\u001b[0mexplainer\u001b[0m \u001b[1;33m=\u001b[0m \u001b[0mTFDeep\u001b[0m\u001b[1;33m(\u001b[0m\u001b[0mmodel\u001b[0m\u001b[1;33m,\u001b[0m \u001b[0mdata\u001b[0m\u001b[1;33m,\u001b[0m \u001b[0msession\u001b[0m\u001b[1;33m,\u001b[0m \u001b[0mlearning_phase_flags\u001b[0m\u001b[1;33m)\u001b[0m\u001b[1;33m\u001b[0m\u001b[1;33m\u001b[0m\u001b[0m\n\u001b[0m\u001b[0;32m     85\u001b[0m         \u001b[1;32melif\u001b[0m \u001b[0mframework\u001b[0m \u001b[1;33m==\u001b[0m \u001b[1;34m'pytorch'\u001b[0m\u001b[1;33m:\u001b[0m\u001b[1;33m\u001b[0m\u001b[1;33m\u001b[0m\u001b[0m\n\u001b[0;32m     86\u001b[0m             \u001b[0mself\u001b[0m\u001b[1;33m.\u001b[0m\u001b[0mexplainer\u001b[0m \u001b[1;33m=\u001b[0m \u001b[0mPyTorchDeep\u001b[0m\u001b[1;33m(\u001b[0m\u001b[0mmodel\u001b[0m\u001b[1;33m,\u001b[0m \u001b[0mdata\u001b[0m\u001b[1;33m)\u001b[0m\u001b[1;33m\u001b[0m\u001b[1;33m\u001b[0m\u001b[0m\n",
      "\u001b[1;32m~\\anaconda3\\lib\\site-packages\\shap\\explainers\\_deep\\deep_tf.py\u001b[0m in \u001b[0;36m__init__\u001b[1;34m(self, model, data, session, learning_phase_flags)\u001b[0m\n\u001b[0;32m    156\u001b[0m                 \u001b[1;32mif\u001b[0m \u001b[0mtype\u001b[0m\u001b[1;33m(\u001b[0m\u001b[0mself\u001b[0m\u001b[1;33m.\u001b[0m\u001b[0mmodel\u001b[0m\u001b[1;33m)\u001b[0m\u001b[1;32mis\u001b[0m \u001b[0mtuple\u001b[0m\u001b[1;33m:\u001b[0m\u001b[1;33m\u001b[0m\u001b[1;33m\u001b[0m\u001b[0m\n\u001b[0;32m    157\u001b[0m                     \u001b[0msel\u001b[0m\u001b[1;33m.\u001b[0m\u001b[0mfModel\u001b[0m\u001b[1;33m(\u001b[0m\u001b[0mcnn\u001b[0m\u001b[1;33m.\u001b[0m\u001b[0minputs\u001b[0m\u001b[1;33m,\u001b[0m \u001b[0mcnn\u001b[0m\u001b[1;33m.\u001b[0m\u001b[0mget_layer\u001b[0m\u001b[1;33m(\u001b[0m\u001b[0mtheNameYouWant\u001b[0m\u001b[1;33m)\u001b[0m\u001b[1;33m.\u001b[0m\u001b[0moutputs\u001b[0m\u001b[1;33m)\u001b[0m\u001b[1;33m\u001b[0m\u001b[1;33m\u001b[0m\u001b[0m\n\u001b[1;32m--> 158\u001b[1;33m                 \u001b[0mself\u001b[0m\u001b[1;33m.\u001b[0m\u001b[0mexpected_value\u001b[0m \u001b[1;33m=\u001b[0m \u001b[0mtf\u001b[0m\u001b[1;33m.\u001b[0m\u001b[0mreduce_mean\u001b[0m\u001b[1;33m(\u001b[0m\u001b[0mself\u001b[0m\u001b[1;33m.\u001b[0m\u001b[0mmodel\u001b[0m\u001b[1;33m(\u001b[0m\u001b[0mself\u001b[0m\u001b[1;33m.\u001b[0m\u001b[0mdata\u001b[0m\u001b[1;33m)\u001b[0m\u001b[1;33m,\u001b[0m \u001b[1;36m0\u001b[0m\u001b[1;33m)\u001b[0m\u001b[1;33m\u001b[0m\u001b[1;33m\u001b[0m\u001b[0m\n\u001b[0m\u001b[0;32m    159\u001b[0m \u001b[1;33m\u001b[0m\u001b[0m\n\u001b[0;32m    160\u001b[0m         \u001b[1;32mif\u001b[0m \u001b[1;32mnot\u001b[0m \u001b[0mtf\u001b[0m\u001b[1;33m.\u001b[0m\u001b[0mexecuting_eagerly\u001b[0m\u001b[1;33m(\u001b[0m\u001b[1;33m)\u001b[0m\u001b[1;33m:\u001b[0m\u001b[1;33m\u001b[0m\u001b[1;33m\u001b[0m\u001b[0m\n",
      "\u001b[1;32m~\\anaconda3\\lib\\site-packages\\keras\\utils\\traceback_utils.py\u001b[0m in \u001b[0;36merror_handler\u001b[1;34m(*args, **kwargs)\u001b[0m\n\u001b[0;32m     65\u001b[0m     \u001b[1;32mexcept\u001b[0m \u001b[0mException\u001b[0m \u001b[1;32mas\u001b[0m \u001b[0me\u001b[0m\u001b[1;33m:\u001b[0m  \u001b[1;31m# pylint: disable=broad-except\u001b[0m\u001b[1;33m\u001b[0m\u001b[1;33m\u001b[0m\u001b[0m\n\u001b[0;32m     66\u001b[0m       \u001b[0mfiltered_tb\u001b[0m \u001b[1;33m=\u001b[0m \u001b[0m_process_traceback_frames\u001b[0m\u001b[1;33m(\u001b[0m\u001b[0me\u001b[0m\u001b[1;33m.\u001b[0m\u001b[0m__traceback__\u001b[0m\u001b[1;33m)\u001b[0m\u001b[1;33m\u001b[0m\u001b[1;33m\u001b[0m\u001b[0m\n\u001b[1;32m---> 67\u001b[1;33m       \u001b[1;32mraise\u001b[0m \u001b[0me\u001b[0m\u001b[1;33m.\u001b[0m\u001b[0mwith_traceback\u001b[0m\u001b[1;33m(\u001b[0m\u001b[0mfiltered_tb\u001b[0m\u001b[1;33m)\u001b[0m \u001b[1;32mfrom\u001b[0m \u001b[1;32mNone\u001b[0m\u001b[1;33m\u001b[0m\u001b[1;33m\u001b[0m\u001b[0m\n\u001b[0m\u001b[0;32m     68\u001b[0m     \u001b[1;32mfinally\u001b[0m\u001b[1;33m:\u001b[0m\u001b[1;33m\u001b[0m\u001b[1;33m\u001b[0m\u001b[0m\n\u001b[0;32m     69\u001b[0m       \u001b[1;32mdel\u001b[0m \u001b[0mfiltered_tb\u001b[0m\u001b[1;33m\u001b[0m\u001b[1;33m\u001b[0m\u001b[0m\n",
      "\u001b[1;32m~\\anaconda3\\lib\\site-packages\\keras\\engine\\input_spec.py\u001b[0m in \u001b[0;36mdisplay_shape\u001b[1;34m(shape)\u001b[0m\n\u001b[0;32m    268\u001b[0m \u001b[1;33m\u001b[0m\u001b[0m\n\u001b[0;32m    269\u001b[0m \u001b[1;32mdef\u001b[0m \u001b[0mdisplay_shape\u001b[0m\u001b[1;33m(\u001b[0m\u001b[0mshape\u001b[0m\u001b[1;33m)\u001b[0m\u001b[1;33m:\u001b[0m\u001b[1;33m\u001b[0m\u001b[1;33m\u001b[0m\u001b[0m\n\u001b[1;32m--> 270\u001b[1;33m   \u001b[1;32mreturn\u001b[0m \u001b[0mstr\u001b[0m\u001b[1;33m(\u001b[0m\u001b[0mtuple\u001b[0m\u001b[1;33m(\u001b[0m\u001b[0mshape\u001b[0m\u001b[1;33m.\u001b[0m\u001b[0mas_list\u001b[0m\u001b[1;33m(\u001b[0m\u001b[1;33m)\u001b[0m\u001b[1;33m)\u001b[0m\u001b[1;33m)\u001b[0m\u001b[1;33m\u001b[0m\u001b[1;33m\u001b[0m\u001b[0m\n\u001b[0m\u001b[0;32m    271\u001b[0m \u001b[1;33m\u001b[0m\u001b[0m\n\u001b[0;32m    272\u001b[0m \u001b[1;33m\u001b[0m\u001b[0m\n",
      "\u001b[1;31mAttributeError\u001b[0m: 'tuple' object has no attribute 'as_list'"
     ]
    },
    {
     "name": "stdout",
     "output_type": "stream",
     "text": [
      "time: 16 ms (started: 2022-02-17 03:16:20 +01:00)\n"
     ]
    }
   ],
   "source": [
    "explainer = shap.DeepExplainer(efficientnet,df_train)\n"
   ]
  },
  {
   "cell_type": "code",
   "execution_count": 96,
   "id": "12121307",
   "metadata": {},
   "outputs": [
    {
     "name": "stdout",
     "output_type": "stream",
     "text": [
      "<keras.engine.functional.Functional object at 0x0000024584800850>\n",
      "<keras.layers.pooling.GlobalAveragePooling2D object at 0x0000024584800820>\n",
      "<keras.layers.core.dense.Dense object at 0x0000024584800BB0>\n",
      "<keras.layers.core.dropout.Dropout object at 0x0000024584CD0340>\n",
      "<keras.layers.core.dense.Dense object at 0x0000024584CD03A0>\n",
      "<keras.layers.core.dropout.Dropout object at 0x0000024584CD0AC0>\n",
      "<keras.layers.core.dense.Dense object at 0x0000024584CD0B20>\n",
      "time: 0 ns (started: 2022-02-17 03:32:34 +01:00)\n"
     ]
    }
   ],
   "source": [
    "for layer in range(7):\n",
    "    print(efficientnet.layers[layer])\n",
    "    \n",
    "    \n",
    "    "
   ]
  },
  {
   "cell_type": "markdown",
   "id": "158d72c2",
   "metadata": {},
   "source": [
    "# Test Shap"
   ]
  },
  {
   "cell_type": "code",
   "execution_count": 159,
   "id": "8713d3fe",
   "metadata": {},
   "outputs": [
    {
     "name": "stdout",
     "output_type": "stream",
     "text": [
      "time: 31 ms (started: 2022-02-17 04:46:04 +01:00)\n"
     ]
    }
   ],
   "source": [
    "from keras.preprocessing.image import img_to_array\n",
    "\n",
    "def get_img_array(img):\n",
    "    array = img_to_array(img)\n",
    "    array = np.expand_dims(array, axis=0)\n",
    "    return array\n",
    "\n",
    "# Prepare image\n",
    "lot_img = next(iter(test_generator))[0]\n",
    "img = lot_img[0]\n",
    "#img_array.shapeb\n"
   ]
  },
  {
   "cell_type": "code",
   "execution_count": 162,
   "id": "b64478f8",
   "metadata": {},
   "outputs": [
    {
     "name": "stdout",
     "output_type": "stream",
     "text": [
      "time: 2.42 s (started: 2022-02-17 04:47:52 +01:00)\n"
     ]
    }
   ],
   "source": [
    "masker = shap.maskers.Image(img, img.shape)\n"
   ]
  },
  {
   "cell_type": "code",
   "execution_count": 164,
   "id": "e977f559",
   "metadata": {},
   "outputs": [
    {
     "data": {
      "text/plain": [
       "(240, 320, 3)"
      ]
     },
     "execution_count": 164,
     "metadata": {},
     "output_type": "execute_result"
    },
    {
     "name": "stdout",
     "output_type": "stream",
     "text": [
      "time: 0 ns (started: 2022-02-17 04:48:11 +01:00)\n"
     ]
    }
   ],
   "source": [
    "img.shape"
   ]
  },
  {
   "cell_type": "code",
   "execution_count": null,
   "id": "058a1c1c",
   "metadata": {},
   "outputs": [],
   "source": []
  },
  {
   "cell_type": "code",
   "execution_count": 234,
   "id": "c8eba5af",
   "metadata": {},
   "outputs": [
    {
     "name": "stdout",
     "output_type": "stream",
     "text": [
      "time: 1.27 s (started: 2022-02-17 05:25:46 +01:00)\n"
     ]
    }
   ],
   "source": [
    "explainer = shap.Explainer(efficientnet, masker, output_names='famille')\n"
   ]
  },
  {
   "cell_type": "code",
   "execution_count": 235,
   "id": "e6e3556a",
   "metadata": {},
   "outputs": [
    {
     "ename": "Exception",
     "evalue": "The length of the image to be masked must match the shape given in the ImageMasker contructor: 320 * 3 != 240 * 320 * 3",
     "output_type": "error",
     "traceback": [
      "\u001b[1;31m---------------------------------------------------------------------------\u001b[0m",
      "\u001b[1;31mException\u001b[0m                                 Traceback (most recent call last)",
      "\u001b[1;32m~\\AppData\\Local\\Temp/ipykernel_8256/773876178.py\u001b[0m in \u001b[0;36m<module>\u001b[1;34m\u001b[0m\n\u001b[1;32m----> 1\u001b[1;33m \u001b[0mshap_values\u001b[0m \u001b[1;33m=\u001b[0m \u001b[0mexplainer\u001b[0m\u001b[1;33m(\u001b[0m\u001b[0mimg\u001b[0m\u001b[1;33m[\u001b[0m\u001b[1;36m1\u001b[0m\u001b[1;33m:\u001b[0m\u001b[1;36m3\u001b[0m\u001b[1;33m]\u001b[0m\u001b[1;33m,\u001b[0m \u001b[0mmax_evals\u001b[0m\u001b[1;33m=\u001b[0m\u001b[1;36m100\u001b[0m\u001b[1;33m,\u001b[0m \u001b[0mbatch_size\u001b[0m\u001b[1;33m=\u001b[0m\u001b[1;36m16\u001b[0m\u001b[1;33m,\u001b[0m \u001b[0moutputs\u001b[0m\u001b[1;33m=\u001b[0m\u001b[0mshap\u001b[0m\u001b[1;33m.\u001b[0m\u001b[0mExplanation\u001b[0m\u001b[1;33m)\u001b[0m\u001b[1;33m\u001b[0m\u001b[1;33m\u001b[0m\u001b[0m\n\u001b[0m",
      "\u001b[1;32m~\\anaconda3\\lib\\site-packages\\shap\\explainers\\_partition.py\u001b[0m in \u001b[0;36m__call__\u001b[1;34m(self, max_evals, fixed_context, main_effects, error_bounds, batch_size, outputs, silent, *args)\u001b[0m\n\u001b[0;32m    133\u001b[0m         \"\"\" Explain the output of the model on the given arguments.\n\u001b[0;32m    134\u001b[0m         \"\"\"\n\u001b[1;32m--> 135\u001b[1;33m         return super().__call__(\n\u001b[0m\u001b[0;32m    136\u001b[0m             \u001b[1;33m*\u001b[0m\u001b[0margs\u001b[0m\u001b[1;33m,\u001b[0m \u001b[0mmax_evals\u001b[0m\u001b[1;33m=\u001b[0m\u001b[0mmax_evals\u001b[0m\u001b[1;33m,\u001b[0m \u001b[0mfixed_context\u001b[0m\u001b[1;33m=\u001b[0m\u001b[0mfixed_context\u001b[0m\u001b[1;33m,\u001b[0m \u001b[0mmain_effects\u001b[0m\u001b[1;33m=\u001b[0m\u001b[0mmain_effects\u001b[0m\u001b[1;33m,\u001b[0m \u001b[0merror_bounds\u001b[0m\u001b[1;33m=\u001b[0m\u001b[0merror_bounds\u001b[0m\u001b[1;33m,\u001b[0m \u001b[0mbatch_size\u001b[0m\u001b[1;33m=\u001b[0m\u001b[0mbatch_size\u001b[0m\u001b[1;33m,\u001b[0m\u001b[1;33m\u001b[0m\u001b[1;33m\u001b[0m\u001b[0m\n\u001b[0;32m    137\u001b[0m             \u001b[0moutputs\u001b[0m\u001b[1;33m=\u001b[0m\u001b[0moutputs\u001b[0m\u001b[1;33m,\u001b[0m \u001b[0msilent\u001b[0m\u001b[1;33m=\u001b[0m\u001b[0msilent\u001b[0m\u001b[1;33m\u001b[0m\u001b[1;33m\u001b[0m\u001b[0m\n",
      "\u001b[1;32m~\\anaconda3\\lib\\site-packages\\shap\\explainers\\_explainer.py\u001b[0m in \u001b[0;36m__call__\u001b[1;34m(self, max_evals, main_effects, error_bounds, batch_size, outputs, silent, *args, **kwargs)\u001b[0m\n\u001b[0;32m    256\u001b[0m             \u001b[0mfeature_names\u001b[0m \u001b[1;33m=\u001b[0m \u001b[1;33m[\u001b[0m\u001b[1;33m[\u001b[0m\u001b[1;33m]\u001b[0m \u001b[1;32mfor\u001b[0m \u001b[0m_\u001b[0m \u001b[1;32min\u001b[0m \u001b[0mrange\u001b[0m\u001b[1;33m(\u001b[0m\u001b[0mlen\u001b[0m\u001b[1;33m(\u001b[0m\u001b[0margs\u001b[0m\u001b[1;33m)\u001b[0m\u001b[1;33m)\u001b[0m\u001b[1;33m]\u001b[0m\u001b[1;33m\u001b[0m\u001b[1;33m\u001b[0m\u001b[0m\n\u001b[0;32m    257\u001b[0m         \u001b[1;32mfor\u001b[0m \u001b[0mrow_args\u001b[0m \u001b[1;32min\u001b[0m \u001b[0mshow_progress\u001b[0m\u001b[1;33m(\u001b[0m\u001b[0mzip\u001b[0m\u001b[1;33m(\u001b[0m\u001b[1;33m*\u001b[0m\u001b[0margs\u001b[0m\u001b[1;33m)\u001b[0m\u001b[1;33m,\u001b[0m \u001b[0mnum_rows\u001b[0m\u001b[1;33m,\u001b[0m \u001b[0mself\u001b[0m\u001b[1;33m.\u001b[0m\u001b[0m__class__\u001b[0m\u001b[1;33m.\u001b[0m\u001b[0m__name__\u001b[0m\u001b[1;33m+\u001b[0m\u001b[1;34m\" explainer\"\u001b[0m\u001b[1;33m,\u001b[0m \u001b[0msilent\u001b[0m\u001b[1;33m)\u001b[0m\u001b[1;33m:\u001b[0m\u001b[1;33m\u001b[0m\u001b[1;33m\u001b[0m\u001b[0m\n\u001b[1;32m--> 258\u001b[1;33m             row_result = self.explain_row(\n\u001b[0m\u001b[0;32m    259\u001b[0m                 \u001b[1;33m*\u001b[0m\u001b[0mrow_args\u001b[0m\u001b[1;33m,\u001b[0m \u001b[0mmax_evals\u001b[0m\u001b[1;33m=\u001b[0m\u001b[0mmax_evals\u001b[0m\u001b[1;33m,\u001b[0m \u001b[0mmain_effects\u001b[0m\u001b[1;33m=\u001b[0m\u001b[0mmain_effects\u001b[0m\u001b[1;33m,\u001b[0m \u001b[0merror_bounds\u001b[0m\u001b[1;33m=\u001b[0m\u001b[0merror_bounds\u001b[0m\u001b[1;33m,\u001b[0m\u001b[1;33m\u001b[0m\u001b[1;33m\u001b[0m\u001b[0m\n\u001b[0;32m    260\u001b[0m                 \u001b[0mbatch_size\u001b[0m\u001b[1;33m=\u001b[0m\u001b[0mbatch_size\u001b[0m\u001b[1;33m,\u001b[0m \u001b[0moutputs\u001b[0m\u001b[1;33m=\u001b[0m\u001b[0moutputs\u001b[0m\u001b[1;33m,\u001b[0m \u001b[0msilent\u001b[0m\u001b[1;33m=\u001b[0m\u001b[0msilent\u001b[0m\u001b[1;33m,\u001b[0m \u001b[1;33m**\u001b[0m\u001b[0mkwargs\u001b[0m\u001b[1;33m\u001b[0m\u001b[1;33m\u001b[0m\u001b[0m\n",
      "\u001b[1;32m~\\anaconda3\\lib\\site-packages\\shap\\explainers\\_partition.py\u001b[0m in \u001b[0;36mexplain_row\u001b[1;34m(self, max_evals, main_effects, error_bounds, batch_size, outputs, silent, fixed_context, *row_args)\u001b[0m\n\u001b[0;32m    158\u001b[0m         \u001b[1;31m# if not fixed background or no base value assigned then compute base value for a row\u001b[0m\u001b[1;33m\u001b[0m\u001b[1;33m\u001b[0m\u001b[0m\n\u001b[0;32m    159\u001b[0m         \u001b[1;32mif\u001b[0m \u001b[0mself\u001b[0m\u001b[1;33m.\u001b[0m\u001b[0m_curr_base_value\u001b[0m \u001b[1;32mis\u001b[0m \u001b[1;32mNone\u001b[0m \u001b[1;32mor\u001b[0m \u001b[1;32mnot\u001b[0m \u001b[0mgetattr\u001b[0m\u001b[1;33m(\u001b[0m\u001b[0mself\u001b[0m\u001b[1;33m.\u001b[0m\u001b[0mmasker\u001b[0m\u001b[1;33m,\u001b[0m \u001b[1;34m\"fixed_background\"\u001b[0m\u001b[1;33m,\u001b[0m \u001b[1;32mFalse\u001b[0m\u001b[1;33m)\u001b[0m\u001b[1;33m:\u001b[0m\u001b[1;33m\u001b[0m\u001b[1;33m\u001b[0m\u001b[0m\n\u001b[1;32m--> 160\u001b[1;33m             \u001b[0mself\u001b[0m\u001b[1;33m.\u001b[0m\u001b[0m_curr_base_value\u001b[0m \u001b[1;33m=\u001b[0m \u001b[0mfm\u001b[0m\u001b[1;33m(\u001b[0m\u001b[0mm00\u001b[0m\u001b[1;33m.\u001b[0m\u001b[0mreshape\u001b[0m\u001b[1;33m(\u001b[0m\u001b[1;36m1\u001b[0m\u001b[1;33m,\u001b[0m \u001b[1;33m-\u001b[0m\u001b[1;36m1\u001b[0m\u001b[1;33m)\u001b[0m\u001b[1;33m,\u001b[0m \u001b[0mzero_index\u001b[0m\u001b[1;33m=\u001b[0m\u001b[1;36m0\u001b[0m\u001b[1;33m)\u001b[0m\u001b[1;33m[\u001b[0m\u001b[1;36m0\u001b[0m\u001b[1;33m]\u001b[0m \u001b[1;31m# the zero index param tells the masked model what the baseline is\u001b[0m\u001b[1;33m\u001b[0m\u001b[1;33m\u001b[0m\u001b[0m\n\u001b[0m\u001b[0;32m    161\u001b[0m         \u001b[0mf11\u001b[0m \u001b[1;33m=\u001b[0m \u001b[0mfm\u001b[0m\u001b[1;33m(\u001b[0m\u001b[1;33m~\u001b[0m\u001b[0mm00\u001b[0m\u001b[1;33m.\u001b[0m\u001b[0mreshape\u001b[0m\u001b[1;33m(\u001b[0m\u001b[1;36m1\u001b[0m\u001b[1;33m,\u001b[0m \u001b[1;33m-\u001b[0m\u001b[1;36m1\u001b[0m\u001b[1;33m)\u001b[0m\u001b[1;33m)\u001b[0m\u001b[1;33m[\u001b[0m\u001b[1;36m0\u001b[0m\u001b[1;33m]\u001b[0m\u001b[1;33m\u001b[0m\u001b[1;33m\u001b[0m\u001b[0m\n\u001b[0;32m    162\u001b[0m \u001b[1;33m\u001b[0m\u001b[0m\n",
      "\u001b[1;32m~\\anaconda3\\lib\\site-packages\\shap\\utils\\_masked_model.py\u001b[0m in \u001b[0;36m__call__\u001b[1;34m(self, masks, zero_index, batch_size)\u001b[0m\n\u001b[0;32m     65\u001b[0m \u001b[1;33m\u001b[0m\u001b[0m\n\u001b[0;32m     66\u001b[0m         \u001b[1;32melse\u001b[0m\u001b[1;33m:\u001b[0m\u001b[1;33m\u001b[0m\u001b[1;33m\u001b[0m\u001b[0m\n\u001b[1;32m---> 67\u001b[1;33m             \u001b[1;32mreturn\u001b[0m \u001b[0mself\u001b[0m\u001b[1;33m.\u001b[0m\u001b[0m_full_masking_call\u001b[0m\u001b[1;33m(\u001b[0m\u001b[0mmasks\u001b[0m\u001b[1;33m,\u001b[0m \u001b[0mbatch_size\u001b[0m\u001b[1;33m=\u001b[0m\u001b[0mbatch_size\u001b[0m\u001b[1;33m)\u001b[0m\u001b[1;33m\u001b[0m\u001b[1;33m\u001b[0m\u001b[0m\n\u001b[0m\u001b[0;32m     68\u001b[0m \u001b[1;33m\u001b[0m\u001b[0m\n\u001b[0;32m     69\u001b[0m     \u001b[1;32mdef\u001b[0m \u001b[0m_full_masking_call\u001b[0m\u001b[1;33m(\u001b[0m\u001b[0mself\u001b[0m\u001b[1;33m,\u001b[0m \u001b[0mmasks\u001b[0m\u001b[1;33m,\u001b[0m \u001b[0mzero_index\u001b[0m\u001b[1;33m=\u001b[0m\u001b[1;32mNone\u001b[0m\u001b[1;33m,\u001b[0m \u001b[0mbatch_size\u001b[0m\u001b[1;33m=\u001b[0m\u001b[1;32mNone\u001b[0m\u001b[1;33m)\u001b[0m\u001b[1;33m:\u001b[0m\u001b[1;33m\u001b[0m\u001b[1;33m\u001b[0m\u001b[0m\n",
      "\u001b[1;32m~\\anaconda3\\lib\\site-packages\\shap\\utils\\_masked_model.py\u001b[0m in \u001b[0;36m_full_masking_call\u001b[1;34m(self, masks, zero_index, batch_size)\u001b[0m\n\u001b[0;32m     91\u001b[0m                     \u001b[0mmasked_inputs\u001b[0m \u001b[1;33m=\u001b[0m \u001b[0mself\u001b[0m\u001b[1;33m.\u001b[0m\u001b[0mmasker\u001b[0m\u001b[1;33m(\u001b[0m\u001b[0mdelta_ind\u001b[0m\u001b[1;33m,\u001b[0m \u001b[1;33m*\u001b[0m\u001b[0mself\u001b[0m\u001b[1;33m.\u001b[0m\u001b[0margs\u001b[0m\u001b[1;33m)\u001b[0m\u001b[1;33m.\u001b[0m\u001b[0mcopy\u001b[0m\u001b[1;33m(\u001b[0m\u001b[1;33m)\u001b[0m\u001b[1;33m\u001b[0m\u001b[1;33m\u001b[0m\u001b[0m\n\u001b[0;32m     92\u001b[0m                 \u001b[1;32melse\u001b[0m\u001b[1;33m:\u001b[0m\u001b[1;33m\u001b[0m\u001b[1;33m\u001b[0m\u001b[0m\n\u001b[1;32m---> 93\u001b[1;33m                     \u001b[0mmasked_inputs\u001b[0m \u001b[1;33m=\u001b[0m \u001b[0mself\u001b[0m\u001b[1;33m.\u001b[0m\u001b[0mmasker\u001b[0m\u001b[1;33m(\u001b[0m\u001b[0mmask\u001b[0m\u001b[1;33m,\u001b[0m \u001b[1;33m*\u001b[0m\u001b[0mself\u001b[0m\u001b[1;33m.\u001b[0m\u001b[0margs\u001b[0m\u001b[1;33m)\u001b[0m\u001b[1;33m\u001b[0m\u001b[1;33m\u001b[0m\u001b[0m\n\u001b[0m\u001b[0;32m     94\u001b[0m \u001b[1;33m\u001b[0m\u001b[0m\n\u001b[0;32m     95\u001b[0m                 \u001b[1;31m# wrap the masked inputs if they are not already in a tuple\u001b[0m\u001b[1;33m\u001b[0m\u001b[1;33m\u001b[0m\u001b[0m\n",
      "\u001b[1;32m~\\anaconda3\\lib\\site-packages\\shap\\maskers\\_image.py\u001b[0m in \u001b[0;36m__call__\u001b[1;34m(self, mask, x)\u001b[0m\n\u001b[0;32m     62\u001b[0m     \u001b[1;32mdef\u001b[0m \u001b[0m__call__\u001b[0m\u001b[1;33m(\u001b[0m\u001b[0mself\u001b[0m\u001b[1;33m,\u001b[0m \u001b[0mmask\u001b[0m\u001b[1;33m,\u001b[0m \u001b[0mx\u001b[0m\u001b[1;33m)\u001b[0m\u001b[1;33m:\u001b[0m\u001b[1;33m\u001b[0m\u001b[1;33m\u001b[0m\u001b[0m\n\u001b[0;32m     63\u001b[0m         \u001b[1;32mif\u001b[0m \u001b[0mnp\u001b[0m\u001b[1;33m.\u001b[0m\u001b[0mprod\u001b[0m\u001b[1;33m(\u001b[0m\u001b[0mx\u001b[0m\u001b[1;33m.\u001b[0m\u001b[0mshape\u001b[0m\u001b[1;33m)\u001b[0m \u001b[1;33m!=\u001b[0m \u001b[0mnp\u001b[0m\u001b[1;33m.\u001b[0m\u001b[0mprod\u001b[0m\u001b[1;33m(\u001b[0m\u001b[0mself\u001b[0m\u001b[1;33m.\u001b[0m\u001b[0minput_shape\u001b[0m\u001b[1;33m)\u001b[0m\u001b[1;33m:\u001b[0m\u001b[1;33m\u001b[0m\u001b[1;33m\u001b[0m\u001b[0m\n\u001b[1;32m---> 64\u001b[1;33m             raise Exception(\"The length of the image to be masked must match the shape given in the \" + \\\n\u001b[0m\u001b[0;32m     65\u001b[0m                             \u001b[1;34m\"ImageMasker contructor: \"\u001b[0m\u001b[1;33m+\u001b[0m\u001b[1;34m\" * \"\u001b[0m\u001b[1;33m.\u001b[0m\u001b[0mjoin\u001b[0m\u001b[1;33m(\u001b[0m\u001b[1;33m[\u001b[0m\u001b[0mstr\u001b[0m\u001b[1;33m(\u001b[0m\u001b[0mi\u001b[0m\u001b[1;33m)\u001b[0m \u001b[1;32mfor\u001b[0m \u001b[0mi\u001b[0m \u001b[1;32min\u001b[0m \u001b[0mx\u001b[0m\u001b[1;33m.\u001b[0m\u001b[0mshape\u001b[0m\u001b[1;33m]\u001b[0m\u001b[1;33m)\u001b[0m\u001b[1;33m+\u001b[0m\u001b[0;31m \u001b[0m\u001b[0;31m\\\u001b[0m\u001b[1;33m\u001b[0m\u001b[1;33m\u001b[0m\u001b[0m\n\u001b[0;32m     66\u001b[0m                             \" != \"+\" * \".join([str(i) for i in self.input_shape]))\n",
      "\u001b[1;31mException\u001b[0m: The length of the image to be masked must match the shape given in the ImageMasker contructor: 320 * 3 != 240 * 320 * 3"
     ]
    },
    {
     "name": "stdout",
     "output_type": "stream",
     "text": [
      "time: 15 ms (started: 2022-02-17 05:25:48 +01:00)\n"
     ]
    }
   ],
   "source": [
    "shap_values = explainer(img[1:3], max_evals=100, batch_size=16, outputs=shap.Explanation)\n"
   ]
  },
  {
   "cell_type": "code",
   "execution_count": 167,
   "id": "b3ca9d74",
   "metadata": {},
   "outputs": [
    {
     "ename": "ValueError",
     "evalue": "too many values to unpack (expected 2)",
     "output_type": "error",
     "traceback": [
      "\u001b[1;31m---------------------------------------------------------------------------\u001b[0m",
      "\u001b[1;31mValueError\u001b[0m                                Traceback (most recent call last)",
      "\u001b[1;32m~\\AppData\\Local\\Temp/ipykernel_8256/3696211723.py\u001b[0m in \u001b[0;36m<module>\u001b[1;34m\u001b[0m\n\u001b[1;32m----> 1\u001b[1;33m \u001b[0mimg\u001b[0m\u001b[1;33m,\u001b[0m \u001b[0m_\u001b[0m \u001b[1;33m=\u001b[0m \u001b[0mimg\u001b[0m\u001b[1;33m\u001b[0m\u001b[1;33m\u001b[0m\u001b[0m\n\u001b[0m\u001b[0;32m      2\u001b[0m \u001b[0me\u001b[0m \u001b[1;33m=\u001b[0m \u001b[0mshap\u001b[0m\u001b[1;33m.\u001b[0m\u001b[0mDeepExplainer\u001b[0m\u001b[1;33m(\u001b[0m\u001b[0mefficientnet\u001b[0m\u001b[1;33m,\u001b[0m\u001b[0mimg\u001b[0m\u001b[1;33m)\u001b[0m\u001b[1;33m\u001b[0m\u001b[1;33m\u001b[0m\u001b[0m\n",
      "\u001b[1;31mValueError\u001b[0m: too many values to unpack (expected 2)"
     ]
    },
    {
     "name": "stdout",
     "output_type": "stream",
     "text": [
      "time: 16 ms (started: 2022-02-17 04:51:36 +01:00)\n"
     ]
    }
   ],
   "source": [
    "img2, _ = img\n",
    "e = shap.DeepExplainer(efficientnet,img)"
   ]
  },
  {
   "cell_type": "code",
   "execution_count": 217,
   "id": "02e33978",
   "metadata": {},
   "outputs": [
    {
     "ename": "ValueError",
     "evalue": "too many values to unpack (expected 2)",
     "output_type": "error",
     "traceback": [
      "\u001b[1;31m---------------------------------------------------------------------------\u001b[0m",
      "\u001b[1;31mValueError\u001b[0m                                Traceback (most recent call last)",
      "\u001b[1;32m~\\AppData\\Local\\Temp/ipykernel_8256/1651967448.py\u001b[0m in \u001b[0;36m<module>\u001b[1;34m\u001b[0m\n\u001b[1;32m----> 1\u001b[1;33m \u001b[0mimages\u001b[0m\u001b[1;33m,\u001b[0m \u001b[0m_\u001b[0m \u001b[1;33m=\u001b[0m \u001b[0mimg\u001b[0m\u001b[1;33m\u001b[0m\u001b[1;33m\u001b[0m\u001b[0m\n\u001b[0m",
      "\u001b[1;31mValueError\u001b[0m: too many values to unpack (expected 2)"
     ]
    },
    {
     "name": "stdout",
     "output_type": "stream",
     "text": [
      "time: 0 ns (started: 2022-02-17 05:19:25 +01:00)\n"
     ]
    }
   ],
   "source": [
    "images, _ = img"
   ]
  },
  {
   "cell_type": "code",
   "execution_count": 216,
   "id": "c9fc8d3e",
   "metadata": {},
   "outputs": [
    {
     "name": "stdout",
     "output_type": "stream",
     "text": [
      "<keras.preprocessing.image.DataFrameIterator object at 0x000002466DD5C940>\n",
      "time: 0 ns (started: 2022-02-17 05:19:22 +01:00)\n"
     ]
    }
   ],
   "source": [
    "print(test_generator)"
   ]
  },
  {
   "cell_type": "code",
   "execution_count": 219,
   "id": "58630817",
   "metadata": {},
   "outputs": [
    {
     "name": "stdout",
     "output_type": "stream",
     "text": [
      "tf.Tensor(\n",
      "[[1.7714177e-07 9.9999964e-01 2.3903851e-10 4.7328325e-10 3.5835065e-08\n",
      "  1.9377333e-07 3.5398692e-10]\n",
      " [6.7183962e-08 7.9368689e-09 2.5274496e-09 9.9999392e-01 6.2614568e-08\n",
      "  7.4697910e-09 5.9049312e-06]\n",
      " [1.0106406e-03 1.2401410e-02 5.6906176e-01 7.9432838e-03 7.9705557e-03\n",
      "  1.6424773e-02 3.8518748e-01]\n",
      " [6.8007448e-06 1.7221743e-06 9.8019272e-01 5.7126329e-07 4.5061774e-06\n",
      "  4.3645206e-05 1.9749960e-02]\n",
      " [3.7015723e-06 9.9953198e-01 8.6120463e-06 1.7986417e-07 1.0990243e-05\n",
      "  4.4279470e-04 1.7852650e-06]\n",
      " [4.7032256e-05 9.9089491e-01 4.5072581e-03 4.0401119e-06 9.2530652e-05\n",
      "  4.4468176e-03 7.4334116e-06]\n",
      " [4.9502882e-14 5.3860744e-19 3.4043135e-13 1.6888526e-12 2.4279724e-11\n",
      "  8.9699324e-15 1.0000000e+00]\n",
      " [2.8178529e-06 9.9999607e-01 4.1154666e-09 2.5181749e-11 1.1299085e-08\n",
      "  1.1152324e-06 5.1284055e-10]\n",
      " [9.9999940e-01 1.0253363e-10 6.0569727e-07 1.0121954e-13 2.0717348e-13\n",
      "  7.4533955e-16 5.7478883e-14]\n",
      " [2.5681778e-05 6.6493005e-01 3.3328988e-07 1.1889185e-04 3.1267035e-01\n",
      "  2.2209678e-02 4.4989185e-05]\n",
      " [9.9851948e-01 1.5534113e-05 1.0140213e-04 4.2463117e-08 3.0911085e-04\n",
      "  5.3141147e-08 1.0544119e-03]\n",
      " [4.3708714e-11 1.0755424e-10 1.2380380e-11 1.0000000e+00 1.7362712e-09\n",
      "  1.8248847e-11 1.7258346e-09]\n",
      " [1.3618070e-09 5.8783775e-05 7.3867548e-09 4.7631930e-09 7.4885013e-03\n",
      "  9.9245089e-01 1.7981366e-06]\n",
      " [5.4344931e-03 8.2113940e-05 9.9448317e-01 2.1541503e-07 8.1844626e-10\n",
      "  1.2293888e-08 1.2553130e-09]\n",
      " [6.8914414e-06 9.9987102e-01 1.1365819e-08 7.4676940e-08 3.7584839e-05\n",
      "  8.4285144e-05 1.1702417e-07]\n",
      " [1.7997243e-06 7.3102908e-03 3.9090185e-08 3.1932304e-06 9.8992646e-01\n",
      "  2.7328585e-03 2.5425254e-05]], shape=(16, 7), dtype=float32)\n",
      "time: 1.75 s (started: 2022-02-17 05:19:38 +01:00)\n"
     ]
    }
   ],
   "source": [
    "print(efficientnet(images))"
   ]
  },
  {
   "cell_type": "markdown",
   "id": "380801bb",
   "metadata": {},
   "source": [
    "# Shap training"
   ]
  },
  {
   "cell_type": "code",
   "execution_count": 98,
   "id": "5f8057e4",
   "metadata": {},
   "outputs": [
    {
     "name": "stdout",
     "output_type": "stream",
     "text": [
      "Downloading data from https://storage.googleapis.com/tensorflow/keras-applications/resnet/resnet50_weights_tf_dim_ordering_tf_kernels.h5\n",
      "102973440/102967424 [==============================] - 3s 0us/step\n",
      "102981632/102967424 [==============================] - 3s 0us/step\n",
      "time: 5.7 s (started: 2022-02-17 03:46:09 +01:00)\n"
     ]
    }
   ],
   "source": [
    "import json\n",
    "import numpy as np\n",
    "import tensorflow as tf\n",
    "from tensorflow.keras.applications.resnet50 import ResNet50, preprocess_input\n",
    "import shap\n",
    "\n",
    "model = ResNet50(weights='imagenet')\n",
    "X, y = shap.datasets.imagenet50()"
   ]
  },
  {
   "cell_type": "code",
   "execution_count": 142,
   "id": "c9ab37d2",
   "metadata": {},
   "outputs": [
    {
     "data": {
      "text/plain": [
       "array([[[ 33.,  23.,  24.],\n",
       "        [ 72.,  64.,  61.],\n",
       "        [ 68.,  61.,  53.],\n",
       "        ...,\n",
       "        [ 86., 113., 158.],\n",
       "        [124., 148., 182.],\n",
       "        [ 41.,  65., 103.]],\n",
       "\n",
       "       [[ 63.,  51.,  51.],\n",
       "        [ 23.,  13.,  11.],\n",
       "        [ 38.,  29.,  22.],\n",
       "        ...,\n",
       "        [ 77., 106., 150.],\n",
       "        [ 94., 123., 163.],\n",
       "        [ 72.,  95., 137.]],\n",
       "\n",
       "       [[ 29.,  20.,  13.],\n",
       "        [ 37.,  28.,  19.],\n",
       "        [ 64.,  55.,  46.],\n",
       "        ...,\n",
       "        [ 83., 110., 153.],\n",
       "        [ 94., 127., 170.],\n",
       "        [131., 153., 194.]],\n",
       "\n",
       "       ...,\n",
       "\n",
       "       [[ 98., 153., 122.],\n",
       "        [ 72., 140., 103.],\n",
       "        [ 49.,  79.,  53.],\n",
       "        ...,\n",
       "        [207., 171.,  75.],\n",
       "        [ 78.,  61.,  15.],\n",
       "        [ 56.,  96.,  72.]],\n",
       "\n",
       "       [[ 92., 142., 113.],\n",
       "        [ 72., 143., 103.],\n",
       "        [ 53.,  79.,  52.],\n",
       "        ...,\n",
       "        [249., 209., 114.],\n",
       "        [116.,  91.,  35.],\n",
       "        [ 62.,  96.,  71.]],\n",
       "\n",
       "       [[ 96., 151., 122.],\n",
       "        [ 67., 137., 101.],\n",
       "        [ 58.,  82.,  58.],\n",
       "        ...,\n",
       "        [250., 210., 114.],\n",
       "        [124.,  98.,  41.],\n",
       "        [ 47.,  80.,  53.]]], dtype=float32)"
      ]
     },
     "execution_count": 142,
     "metadata": {},
     "output_type": "execute_result"
    },
    {
     "name": "stdout",
     "output_type": "stream",
     "text": [
      "time: 16 ms (started: 2022-02-17 04:37:56 +01:00)\n"
     ]
    }
   ],
   "source": [
    "X[0]"
   ]
  },
  {
   "cell_type": "code",
   "execution_count": 99,
   "id": "f584f668",
   "metadata": {},
   "outputs": [
    {
     "name": "stdout",
     "output_type": "stream",
     "text": [
      "time: 469 ms (started: 2022-02-17 03:46:37 +01:00)\n"
     ]
    }
   ],
   "source": [
    "# getting ImageNet 1000 class names\n",
    "url = \"https://s3.amazonaws.com/deep-learning-models/image-models/imagenet_class_index.json\"\n",
    "with open(shap.datasets.cache(url)) as file:\n",
    "    class_names = [v[1] for v in json.load(file).values()]\n",
    "#print(\"Number of ImageNet classes:\", len(class_names))\n",
    "#print(\"Class nbames:\", class_names)"
   ]
  },
  {
   "cell_type": "code",
   "execution_count": 199,
   "id": "5fcf0a79",
   "metadata": {},
   "outputs": [
    {
     "name": "stdout",
     "output_type": "stream",
     "text": [
      "cv2 could not be imported!\n"
     ]
    },
    {
     "ename": "ModuleNotFoundError",
     "evalue": "No module named 'cv2'",
     "output_type": "error",
     "traceback": [
      "\u001b[1;31m---------------------------------------------------------------------------\u001b[0m",
      "\u001b[1;31mModuleNotFoundError\u001b[0m                       Traceback (most recent call last)",
      "\u001b[1;32m~\\AppData\\Local\\Temp/ipykernel_8256/901898801.py\u001b[0m in \u001b[0;36m<module>\u001b[1;34m\u001b[0m\n\u001b[0;32m      7\u001b[0m \u001b[1;33m\u001b[0m\u001b[0m\n\u001b[0;32m      8\u001b[0m \u001b[1;31m# define a masker that is used to mask out partitions of the input image.\u001b[0m\u001b[1;33m\u001b[0m\u001b[1;33m\u001b[0m\u001b[0m\n\u001b[1;32m----> 9\u001b[1;33m \u001b[0mmasker\u001b[0m \u001b[1;33m=\u001b[0m \u001b[0mshap\u001b[0m\u001b[1;33m.\u001b[0m\u001b[0mmaskers\u001b[0m\u001b[1;33m.\u001b[0m\u001b[0mImage\u001b[0m\u001b[1;33m(\u001b[0m\u001b[1;34m\"inpaint_telea\"\u001b[0m\u001b[1;33m,\u001b[0m \u001b[0mX\u001b[0m\u001b[1;33m[\u001b[0m\u001b[1;36m0\u001b[0m\u001b[1;33m]\u001b[0m\u001b[1;33m.\u001b[0m\u001b[0mshape\u001b[0m\u001b[1;33m)\u001b[0m\u001b[1;33m\u001b[0m\u001b[1;33m\u001b[0m\u001b[0m\n\u001b[0m\u001b[0;32m     10\u001b[0m \u001b[1;33m\u001b[0m\u001b[0m\n\u001b[0;32m     11\u001b[0m \u001b[1;31m# create an explainer with model and image masker\u001b[0m\u001b[1;33m\u001b[0m\u001b[1;33m\u001b[0m\u001b[0m\n",
      "\u001b[1;32m~\\anaconda3\\lib\\site-packages\\shap\\maskers\\_image.py\u001b[0m in \u001b[0;36m__init__\u001b[1;34m(self, mask_value, shape)\u001b[0m\n\u001b[0;32m     46\u001b[0m             \u001b[0mself\u001b[0m\u001b[1;33m.\u001b[0m\u001b[0mmask_value\u001b[0m \u001b[1;33m=\u001b[0m \u001b[0mmask_value\u001b[0m\u001b[1;33m.\u001b[0m\u001b[0mflatten\u001b[0m\u001b[1;33m(\u001b[0m\u001b[1;33m)\u001b[0m\u001b[1;33m\u001b[0m\u001b[1;33m\u001b[0m\u001b[0m\n\u001b[0;32m     47\u001b[0m         \u001b[1;32melif\u001b[0m \u001b[0misinstance\u001b[0m\u001b[1;33m(\u001b[0m\u001b[0mmask_value\u001b[0m\u001b[1;33m,\u001b[0m \u001b[0mstr\u001b[0m\u001b[1;33m)\u001b[0m\u001b[1;33m:\u001b[0m\u001b[1;33m\u001b[0m\u001b[1;33m\u001b[0m\u001b[0m\n\u001b[1;32m---> 48\u001b[1;33m             \u001b[0massert_import\u001b[0m\u001b[1;33m(\u001b[0m\u001b[1;34m\"cv2\"\u001b[0m\u001b[1;33m)\u001b[0m\u001b[1;33m\u001b[0m\u001b[1;33m\u001b[0m\u001b[0m\n\u001b[0m\u001b[0;32m     49\u001b[0m             \u001b[0mself\u001b[0m\u001b[1;33m.\u001b[0m\u001b[0mmask_value\u001b[0m \u001b[1;33m=\u001b[0m \u001b[0mmask_value\u001b[0m\u001b[1;33m\u001b[0m\u001b[1;33m\u001b[0m\u001b[0m\n\u001b[0;32m     50\u001b[0m             \u001b[1;32mif\u001b[0m \u001b[0mmask_value\u001b[0m\u001b[1;33m.\u001b[0m\u001b[0mstartswith\u001b[0m\u001b[1;33m(\u001b[0m\u001b[1;34m\"blur(\"\u001b[0m\u001b[1;33m)\u001b[0m\u001b[1;33m:\u001b[0m\u001b[1;33m\u001b[0m\u001b[1;33m\u001b[0m\u001b[0m\n",
      "\u001b[1;32m~\\anaconda3\\lib\\site-packages\\shap\\utils\\_general.py\u001b[0m in \u001b[0;36massert_import\u001b[1;34m(package_name)\u001b[0m\n\u001b[0;32m     23\u001b[0m         \u001b[0mmsg\u001b[0m\u001b[1;33m,\u001b[0m\u001b[0me\u001b[0m \u001b[1;33m=\u001b[0m \u001b[0mimport_errors\u001b[0m\u001b[1;33m[\u001b[0m\u001b[0mpackage_name\u001b[0m\u001b[1;33m]\u001b[0m\u001b[1;33m\u001b[0m\u001b[1;33m\u001b[0m\u001b[0m\n\u001b[0;32m     24\u001b[0m         \u001b[0mprint\u001b[0m\u001b[1;33m(\u001b[0m\u001b[0mmsg\u001b[0m\u001b[1;33m)\u001b[0m\u001b[1;33m\u001b[0m\u001b[1;33m\u001b[0m\u001b[0m\n\u001b[1;32m---> 25\u001b[1;33m         \u001b[1;32mraise\u001b[0m \u001b[0me\u001b[0m\u001b[1;33m\u001b[0m\u001b[1;33m\u001b[0m\u001b[0m\n\u001b[0m\u001b[0;32m     26\u001b[0m \u001b[1;33m\u001b[0m\u001b[0m\n\u001b[0;32m     27\u001b[0m \u001b[1;32mdef\u001b[0m \u001b[0mrecord_import_error\u001b[0m\u001b[1;33m(\u001b[0m\u001b[0mpackage_name\u001b[0m\u001b[1;33m,\u001b[0m \u001b[0mmsg\u001b[0m\u001b[1;33m,\u001b[0m \u001b[0me\u001b[0m\u001b[1;33m)\u001b[0m\u001b[1;33m:\u001b[0m\u001b[1;33m\u001b[0m\u001b[1;33m\u001b[0m\u001b[0m\n",
      "    \u001b[1;31m[... skipping hidden 1 frame]\u001b[0m\n",
      "\u001b[1;32m~\\AppData\\Local\\Temp/ipykernel_8256/901898801.py\u001b[0m in \u001b[0;36m<module>\u001b[1;34m\u001b[0m\n\u001b[0;32m      7\u001b[0m \u001b[1;33m\u001b[0m\u001b[0m\n\u001b[0;32m      8\u001b[0m \u001b[1;31m# define a masker that is used to mask out partitions of the input image.\u001b[0m\u001b[1;33m\u001b[0m\u001b[1;33m\u001b[0m\u001b[0m\n\u001b[1;32m----> 9\u001b[1;33m \u001b[0mmasker\u001b[0m \u001b[1;33m=\u001b[0m \u001b[0mshap\u001b[0m\u001b[1;33m.\u001b[0m\u001b[0mmaskers\u001b[0m\u001b[1;33m.\u001b[0m\u001b[0mImage\u001b[0m\u001b[1;33m(\u001b[0m\u001b[1;34m\"inpaint_telea\"\u001b[0m\u001b[1;33m,\u001b[0m \u001b[0mX\u001b[0m\u001b[1;33m[\u001b[0m\u001b[1;36m0\u001b[0m\u001b[1;33m]\u001b[0m\u001b[1;33m.\u001b[0m\u001b[0mshape\u001b[0m\u001b[1;33m)\u001b[0m\u001b[1;33m\u001b[0m\u001b[1;33m\u001b[0m\u001b[0m\n\u001b[0m\u001b[0;32m     10\u001b[0m \u001b[1;33m\u001b[0m\u001b[0m\n\u001b[0;32m     11\u001b[0m \u001b[1;31m# create an explainer with model and image masker\u001b[0m\u001b[1;33m\u001b[0m\u001b[1;33m\u001b[0m\u001b[0m\n",
      "\u001b[1;32m~\\anaconda3\\lib\\site-packages\\shap\\maskers\\_image.py\u001b[0m in \u001b[0;36m__init__\u001b[1;34m(self, mask_value, shape)\u001b[0m\n\u001b[0;32m     46\u001b[0m             \u001b[0mself\u001b[0m\u001b[1;33m.\u001b[0m\u001b[0mmask_value\u001b[0m \u001b[1;33m=\u001b[0m \u001b[0mmask_value\u001b[0m\u001b[1;33m.\u001b[0m\u001b[0mflatten\u001b[0m\u001b[1;33m(\u001b[0m\u001b[1;33m)\u001b[0m\u001b[1;33m\u001b[0m\u001b[1;33m\u001b[0m\u001b[0m\n\u001b[0;32m     47\u001b[0m         \u001b[1;32melif\u001b[0m \u001b[0misinstance\u001b[0m\u001b[1;33m(\u001b[0m\u001b[0mmask_value\u001b[0m\u001b[1;33m,\u001b[0m \u001b[0mstr\u001b[0m\u001b[1;33m)\u001b[0m\u001b[1;33m:\u001b[0m\u001b[1;33m\u001b[0m\u001b[1;33m\u001b[0m\u001b[0m\n\u001b[1;32m---> 48\u001b[1;33m             \u001b[0massert_import\u001b[0m\u001b[1;33m(\u001b[0m\u001b[1;34m\"cv2\"\u001b[0m\u001b[1;33m)\u001b[0m\u001b[1;33m\u001b[0m\u001b[1;33m\u001b[0m\u001b[0m\n\u001b[0m\u001b[0;32m     49\u001b[0m             \u001b[0mself\u001b[0m\u001b[1;33m.\u001b[0m\u001b[0mmask_value\u001b[0m \u001b[1;33m=\u001b[0m \u001b[0mmask_value\u001b[0m\u001b[1;33m\u001b[0m\u001b[1;33m\u001b[0m\u001b[0m\n\u001b[0;32m     50\u001b[0m             \u001b[1;32mif\u001b[0m \u001b[0mmask_value\u001b[0m\u001b[1;33m.\u001b[0m\u001b[0mstartswith\u001b[0m\u001b[1;33m(\u001b[0m\u001b[1;34m\"blur(\"\u001b[0m\u001b[1;33m)\u001b[0m\u001b[1;33m:\u001b[0m\u001b[1;33m\u001b[0m\u001b[1;33m\u001b[0m\u001b[0m\n",
      "\u001b[1;32m~\\anaconda3\\lib\\site-packages\\shap\\utils\\_general.py\u001b[0m in \u001b[0;36massert_import\u001b[1;34m(package_name)\u001b[0m\n\u001b[0;32m     23\u001b[0m         \u001b[0mmsg\u001b[0m\u001b[1;33m,\u001b[0m\u001b[0me\u001b[0m \u001b[1;33m=\u001b[0m \u001b[0mimport_errors\u001b[0m\u001b[1;33m[\u001b[0m\u001b[0mpackage_name\u001b[0m\u001b[1;33m]\u001b[0m\u001b[1;33m\u001b[0m\u001b[1;33m\u001b[0m\u001b[0m\n\u001b[0;32m     24\u001b[0m         \u001b[0mprint\u001b[0m\u001b[1;33m(\u001b[0m\u001b[0mmsg\u001b[0m\u001b[1;33m)\u001b[0m\u001b[1;33m\u001b[0m\u001b[1;33m\u001b[0m\u001b[0m\n\u001b[1;32m---> 25\u001b[1;33m         \u001b[1;32mraise\u001b[0m \u001b[0me\u001b[0m\u001b[1;33m\u001b[0m\u001b[1;33m\u001b[0m\u001b[0m\n\u001b[0m\u001b[0;32m     26\u001b[0m \u001b[1;33m\u001b[0m\u001b[0m\n\u001b[0;32m     27\u001b[0m \u001b[1;32mdef\u001b[0m \u001b[0mrecord_import_error\u001b[0m\u001b[1;33m(\u001b[0m\u001b[0mpackage_name\u001b[0m\u001b[1;33m,\u001b[0m \u001b[0mmsg\u001b[0m\u001b[1;33m,\u001b[0m \u001b[0me\u001b[0m\u001b[1;33m)\u001b[0m\u001b[1;33m:\u001b[0m\u001b[1;33m\u001b[0m\u001b[1;33m\u001b[0m\u001b[0m\n",
      "    \u001b[1;31m[... skipping hidden 1 frame]\u001b[0m\n",
      "\u001b[1;32m~\\AppData\\Local\\Temp/ipykernel_8256/1261004625.py\u001b[0m in \u001b[0;36m<module>\u001b[1;34m\u001b[0m\n\u001b[1;32m----> 1\u001b[1;33m \u001b[0mmasker\u001b[0m \u001b[1;33m=\u001b[0m \u001b[0mshap\u001b[0m\u001b[1;33m.\u001b[0m\u001b[0mmaskers\u001b[0m\u001b[1;33m.\u001b[0m\u001b[0mImage\u001b[0m\u001b[1;33m(\u001b[0m\u001b[1;34m\"blur(320,240)\"\u001b[0m\u001b[1;33m,\u001b[0m \u001b[0mimg\u001b[0m\u001b[1;33m.\u001b[0m\u001b[0mshape\u001b[0m\u001b[1;33m)\u001b[0m\u001b[1;33m\u001b[0m\u001b[1;33m\u001b[0m\u001b[0m\n\u001b[0m",
      "\u001b[1;32m~\\anaconda3\\lib\\site-packages\\shap\\maskers\\_image.py\u001b[0m in \u001b[0;36m__init__\u001b[1;34m(self, mask_value, shape)\u001b[0m\n\u001b[0;32m     46\u001b[0m             \u001b[0mself\u001b[0m\u001b[1;33m.\u001b[0m\u001b[0mmask_value\u001b[0m \u001b[1;33m=\u001b[0m \u001b[0mmask_value\u001b[0m\u001b[1;33m.\u001b[0m\u001b[0mflatten\u001b[0m\u001b[1;33m(\u001b[0m\u001b[1;33m)\u001b[0m\u001b[1;33m\u001b[0m\u001b[1;33m\u001b[0m\u001b[0m\n\u001b[0;32m     47\u001b[0m         \u001b[1;32melif\u001b[0m \u001b[0misinstance\u001b[0m\u001b[1;33m(\u001b[0m\u001b[0mmask_value\u001b[0m\u001b[1;33m,\u001b[0m \u001b[0mstr\u001b[0m\u001b[1;33m)\u001b[0m\u001b[1;33m:\u001b[0m\u001b[1;33m\u001b[0m\u001b[1;33m\u001b[0m\u001b[0m\n\u001b[1;32m---> 48\u001b[1;33m             \u001b[0massert_import\u001b[0m\u001b[1;33m(\u001b[0m\u001b[1;34m\"cv2\"\u001b[0m\u001b[1;33m)\u001b[0m\u001b[1;33m\u001b[0m\u001b[1;33m\u001b[0m\u001b[0m\n\u001b[0m\u001b[0;32m     49\u001b[0m             \u001b[0mself\u001b[0m\u001b[1;33m.\u001b[0m\u001b[0mmask_value\u001b[0m \u001b[1;33m=\u001b[0m \u001b[0mmask_value\u001b[0m\u001b[1;33m\u001b[0m\u001b[1;33m\u001b[0m\u001b[0m\n\u001b[0;32m     50\u001b[0m             \u001b[1;32mif\u001b[0m \u001b[0mmask_value\u001b[0m\u001b[1;33m.\u001b[0m\u001b[0mstartswith\u001b[0m\u001b[1;33m(\u001b[0m\u001b[1;34m\"blur(\"\u001b[0m\u001b[1;33m)\u001b[0m\u001b[1;33m:\u001b[0m\u001b[1;33m\u001b[0m\u001b[1;33m\u001b[0m\u001b[0m\n",
      "\u001b[1;32m~\\anaconda3\\lib\\site-packages\\shap\\utils\\_general.py\u001b[0m in \u001b[0;36massert_import\u001b[1;34m(package_name)\u001b[0m\n\u001b[0;32m     23\u001b[0m         \u001b[0mmsg\u001b[0m\u001b[1;33m,\u001b[0m\u001b[0me\u001b[0m \u001b[1;33m=\u001b[0m \u001b[0mimport_errors\u001b[0m\u001b[1;33m[\u001b[0m\u001b[0mpackage_name\u001b[0m\u001b[1;33m]\u001b[0m\u001b[1;33m\u001b[0m\u001b[1;33m\u001b[0m\u001b[0m\n\u001b[0;32m     24\u001b[0m         \u001b[0mprint\u001b[0m\u001b[1;33m(\u001b[0m\u001b[0mmsg\u001b[0m\u001b[1;33m)\u001b[0m\u001b[1;33m\u001b[0m\u001b[1;33m\u001b[0m\u001b[0m\n\u001b[1;32m---> 25\u001b[1;33m         \u001b[1;32mraise\u001b[0m \u001b[0me\u001b[0m\u001b[1;33m\u001b[0m\u001b[1;33m\u001b[0m\u001b[0m\n\u001b[0m\u001b[0;32m     26\u001b[0m \u001b[1;33m\u001b[0m\u001b[0m\n\u001b[0;32m     27\u001b[0m \u001b[1;32mdef\u001b[0m \u001b[0mrecord_import_error\u001b[0m\u001b[1;33m(\u001b[0m\u001b[0mpackage_name\u001b[0m\u001b[1;33m,\u001b[0m \u001b[0mmsg\u001b[0m\u001b[1;33m,\u001b[0m \u001b[0me\u001b[0m\u001b[1;33m)\u001b[0m\u001b[1;33m:\u001b[0m\u001b[1;33m\u001b[0m\u001b[1;33m\u001b[0m\u001b[0m\n",
      "    \u001b[1;31m[... skipping hidden 1 frame]\u001b[0m\n",
      "\u001b[1;32m~\\AppData\\Local\\Temp/ipykernel_8256/1278718806.py\u001b[0m in \u001b[0;36m<module>\u001b[1;34m\u001b[0m\n\u001b[0;32m      6\u001b[0m \u001b[1;33m\u001b[0m\u001b[0m\n\u001b[0;32m      7\u001b[0m \u001b[1;31m# define a masker that is used to mask out partitions of the input image.\u001b[0m\u001b[1;33m\u001b[0m\u001b[1;33m\u001b[0m\u001b[0m\n\u001b[1;32m----> 8\u001b[1;33m \u001b[0mmasker\u001b[0m \u001b[1;33m=\u001b[0m \u001b[0mshap\u001b[0m\u001b[1;33m.\u001b[0m\u001b[0mmaskers\u001b[0m\u001b[1;33m.\u001b[0m\u001b[0mImage\u001b[0m\u001b[1;33m(\u001b[0m\u001b[1;34m\"inpaint_telea\"\u001b[0m\u001b[1;33m,\u001b[0m \u001b[0mX\u001b[0m\u001b[1;33m[\u001b[0m\u001b[1;36m0\u001b[0m\u001b[1;33m]\u001b[0m\u001b[1;33m.\u001b[0m\u001b[0mshape\u001b[0m\u001b[1;33m)\u001b[0m\u001b[1;33m\u001b[0m\u001b[1;33m\u001b[0m\u001b[0m\n\u001b[0m\u001b[0;32m      9\u001b[0m \u001b[1;33m\u001b[0m\u001b[0m\n\u001b[0;32m     10\u001b[0m \u001b[1;31m# create an explainer with model and image masker\u001b[0m\u001b[1;33m\u001b[0m\u001b[1;33m\u001b[0m\u001b[0m\n",
      "\u001b[1;32m~\\anaconda3\\lib\\site-packages\\shap\\maskers\\_image.py\u001b[0m in \u001b[0;36m__init__\u001b[1;34m(self, mask_value, shape)\u001b[0m\n\u001b[0;32m     46\u001b[0m             \u001b[0mself\u001b[0m\u001b[1;33m.\u001b[0m\u001b[0mmask_value\u001b[0m \u001b[1;33m=\u001b[0m \u001b[0mmask_value\u001b[0m\u001b[1;33m.\u001b[0m\u001b[0mflatten\u001b[0m\u001b[1;33m(\u001b[0m\u001b[1;33m)\u001b[0m\u001b[1;33m\u001b[0m\u001b[1;33m\u001b[0m\u001b[0m\n\u001b[0;32m     47\u001b[0m         \u001b[1;32melif\u001b[0m \u001b[0misinstance\u001b[0m\u001b[1;33m(\u001b[0m\u001b[0mmask_value\u001b[0m\u001b[1;33m,\u001b[0m \u001b[0mstr\u001b[0m\u001b[1;33m)\u001b[0m\u001b[1;33m:\u001b[0m\u001b[1;33m\u001b[0m\u001b[1;33m\u001b[0m\u001b[0m\n\u001b[1;32m---> 48\u001b[1;33m             \u001b[0massert_import\u001b[0m\u001b[1;33m(\u001b[0m\u001b[1;34m\"cv2\"\u001b[0m\u001b[1;33m)\u001b[0m\u001b[1;33m\u001b[0m\u001b[1;33m\u001b[0m\u001b[0m\n\u001b[0m\u001b[0;32m     49\u001b[0m             \u001b[0mself\u001b[0m\u001b[1;33m.\u001b[0m\u001b[0mmask_value\u001b[0m \u001b[1;33m=\u001b[0m \u001b[0mmask_value\u001b[0m\u001b[1;33m\u001b[0m\u001b[1;33m\u001b[0m\u001b[0m\n\u001b[0;32m     50\u001b[0m             \u001b[1;32mif\u001b[0m \u001b[0mmask_value\u001b[0m\u001b[1;33m.\u001b[0m\u001b[0mstartswith\u001b[0m\u001b[1;33m(\u001b[0m\u001b[1;34m\"blur(\"\u001b[0m\u001b[1;33m)\u001b[0m\u001b[1;33m:\u001b[0m\u001b[1;33m\u001b[0m\u001b[1;33m\u001b[0m\u001b[0m\n",
      "\u001b[1;32m~\\anaconda3\\lib\\site-packages\\shap\\utils\\_general.py\u001b[0m in \u001b[0;36massert_import\u001b[1;34m(package_name)\u001b[0m\n\u001b[0;32m     23\u001b[0m         \u001b[0mmsg\u001b[0m\u001b[1;33m,\u001b[0m\u001b[0me\u001b[0m \u001b[1;33m=\u001b[0m \u001b[0mimport_errors\u001b[0m\u001b[1;33m[\u001b[0m\u001b[0mpackage_name\u001b[0m\u001b[1;33m]\u001b[0m\u001b[1;33m\u001b[0m\u001b[1;33m\u001b[0m\u001b[0m\n\u001b[0;32m     24\u001b[0m         \u001b[0mprint\u001b[0m\u001b[1;33m(\u001b[0m\u001b[0mmsg\u001b[0m\u001b[1;33m)\u001b[0m\u001b[1;33m\u001b[0m\u001b[1;33m\u001b[0m\u001b[0m\n\u001b[1;32m---> 25\u001b[1;33m         \u001b[1;32mraise\u001b[0m \u001b[0me\u001b[0m\u001b[1;33m\u001b[0m\u001b[1;33m\u001b[0m\u001b[0m\n\u001b[0m\u001b[0;32m     26\u001b[0m \u001b[1;33m\u001b[0m\u001b[0m\n\u001b[0;32m     27\u001b[0m \u001b[1;32mdef\u001b[0m \u001b[0mrecord_import_error\u001b[0m\u001b[1;33m(\u001b[0m\u001b[0mpackage_name\u001b[0m\u001b[1;33m,\u001b[0m \u001b[0mmsg\u001b[0m\u001b[1;33m,\u001b[0m \u001b[0me\u001b[0m\u001b[1;33m)\u001b[0m\u001b[1;33m:\u001b[0m\u001b[1;33m\u001b[0m\u001b[1;33m\u001b[0m\u001b[0m\n",
      "    \u001b[1;31m[... skipping hidden 1 frame]\u001b[0m\n",
      "\u001b[1;32m~\\AppData\\Local\\Temp/ipykernel_8256/1795340649.py\u001b[0m in \u001b[0;36m<module>\u001b[1;34m\u001b[0m\n\u001b[0;32m      3\u001b[0m \u001b[1;33m\u001b[0m\u001b[0m\n\u001b[0;32m      4\u001b[0m \u001b[1;31m# define a masker that is used to mask out partitions of the input image.\u001b[0m\u001b[1;33m\u001b[0m\u001b[1;33m\u001b[0m\u001b[0m\n\u001b[1;32m----> 5\u001b[1;33m \u001b[0mmasker\u001b[0m \u001b[1;33m=\u001b[0m \u001b[0mshap\u001b[0m\u001b[1;33m.\u001b[0m\u001b[0mmaskers\u001b[0m\u001b[1;33m.\u001b[0m\u001b[0mImage\u001b[0m\u001b[1;33m(\u001b[0m\u001b[1;34m\"inpaint_telea\"\u001b[0m\u001b[1;33m,\u001b[0m \u001b[0mX\u001b[0m\u001b[1;33m[\u001b[0m\u001b[1;36m0\u001b[0m\u001b[1;33m]\u001b[0m\u001b[1;33m.\u001b[0m\u001b[0mshape\u001b[0m\u001b[1;33m)\u001b[0m\u001b[1;33m\u001b[0m\u001b[1;33m\u001b[0m\u001b[0m\n\u001b[0m\u001b[0;32m      6\u001b[0m \u001b[1;33m\u001b[0m\u001b[0m\n\u001b[0;32m      7\u001b[0m \u001b[1;31m# create an explainer with model and image masker\u001b[0m\u001b[1;33m\u001b[0m\u001b[1;33m\u001b[0m\u001b[0m\n",
      "\u001b[1;32m~\\anaconda3\\lib\\site-packages\\shap\\maskers\\_image.py\u001b[0m in \u001b[0;36m__init__\u001b[1;34m(self, mask_value, shape)\u001b[0m\n\u001b[0;32m     46\u001b[0m             \u001b[0mself\u001b[0m\u001b[1;33m.\u001b[0m\u001b[0mmask_value\u001b[0m \u001b[1;33m=\u001b[0m \u001b[0mmask_value\u001b[0m\u001b[1;33m.\u001b[0m\u001b[0mflatten\u001b[0m\u001b[1;33m(\u001b[0m\u001b[1;33m)\u001b[0m\u001b[1;33m\u001b[0m\u001b[1;33m\u001b[0m\u001b[0m\n\u001b[0;32m     47\u001b[0m         \u001b[1;32melif\u001b[0m \u001b[0misinstance\u001b[0m\u001b[1;33m(\u001b[0m\u001b[0mmask_value\u001b[0m\u001b[1;33m,\u001b[0m \u001b[0mstr\u001b[0m\u001b[1;33m)\u001b[0m\u001b[1;33m:\u001b[0m\u001b[1;33m\u001b[0m\u001b[1;33m\u001b[0m\u001b[0m\n\u001b[1;32m---> 48\u001b[1;33m             \u001b[0massert_import\u001b[0m\u001b[1;33m(\u001b[0m\u001b[1;34m\"cv2\"\u001b[0m\u001b[1;33m)\u001b[0m\u001b[1;33m\u001b[0m\u001b[1;33m\u001b[0m\u001b[0m\n\u001b[0m\u001b[0;32m     49\u001b[0m             \u001b[0mself\u001b[0m\u001b[1;33m.\u001b[0m\u001b[0mmask_value\u001b[0m \u001b[1;33m=\u001b[0m \u001b[0mmask_value\u001b[0m\u001b[1;33m\u001b[0m\u001b[1;33m\u001b[0m\u001b[0m\n\u001b[0;32m     50\u001b[0m             \u001b[1;32mif\u001b[0m \u001b[0mmask_value\u001b[0m\u001b[1;33m.\u001b[0m\u001b[0mstartswith\u001b[0m\u001b[1;33m(\u001b[0m\u001b[1;34m\"blur(\"\u001b[0m\u001b[1;33m)\u001b[0m\u001b[1;33m:\u001b[0m\u001b[1;33m\u001b[0m\u001b[1;33m\u001b[0m\u001b[0m\n",
      "\u001b[1;32m~\\anaconda3\\lib\\site-packages\\shap\\utils\\_general.py\u001b[0m in \u001b[0;36massert_import\u001b[1;34m(package_name)\u001b[0m\n\u001b[0;32m     23\u001b[0m         \u001b[0mmsg\u001b[0m\u001b[1;33m,\u001b[0m\u001b[0me\u001b[0m \u001b[1;33m=\u001b[0m \u001b[0mimport_errors\u001b[0m\u001b[1;33m[\u001b[0m\u001b[0mpackage_name\u001b[0m\u001b[1;33m]\u001b[0m\u001b[1;33m\u001b[0m\u001b[1;33m\u001b[0m\u001b[0m\n\u001b[0;32m     24\u001b[0m         \u001b[0mprint\u001b[0m\u001b[1;33m(\u001b[0m\u001b[0mmsg\u001b[0m\u001b[1;33m)\u001b[0m\u001b[1;33m\u001b[0m\u001b[1;33m\u001b[0m\u001b[0m\n\u001b[1;32m---> 25\u001b[1;33m         \u001b[1;32mraise\u001b[0m \u001b[0me\u001b[0m\u001b[1;33m\u001b[0m\u001b[1;33m\u001b[0m\u001b[0m\n\u001b[0m\u001b[0;32m     26\u001b[0m \u001b[1;33m\u001b[0m\u001b[0m\n\u001b[0;32m     27\u001b[0m \u001b[1;32mdef\u001b[0m \u001b[0mrecord_import_error\u001b[0m\u001b[1;33m(\u001b[0m\u001b[0mpackage_name\u001b[0m\u001b[1;33m,\u001b[0m \u001b[0mmsg\u001b[0m\u001b[1;33m,\u001b[0m \u001b[0me\u001b[0m\u001b[1;33m)\u001b[0m\u001b[1;33m:\u001b[0m\u001b[1;33m\u001b[0m\u001b[1;33m\u001b[0m\u001b[0m\n",
      "    \u001b[1;31m[... skipping hidden 1 frame]\u001b[0m\n",
      "\u001b[1;32m~\\AppData\\Local\\Temp/ipykernel_8256/1913484444.py\u001b[0m in \u001b[0;36m<module>\u001b[1;34m\u001b[0m\n\u001b[0;32m      3\u001b[0m \u001b[1;33m\u001b[0m\u001b[0m\n\u001b[0;32m      4\u001b[0m \u001b[1;31m# define a masker that is used to mask out partitions of the input image.\u001b[0m\u001b[1;33m\u001b[0m\u001b[1;33m\u001b[0m\u001b[0m\n\u001b[1;32m----> 5\u001b[1;33m \u001b[0mmasker\u001b[0m \u001b[1;33m=\u001b[0m \u001b[0mshap\u001b[0m\u001b[1;33m.\u001b[0m\u001b[0mmaskers\u001b[0m\u001b[1;33m.\u001b[0m\u001b[0mImage\u001b[0m\u001b[1;33m(\u001b[0m\u001b[1;34m\"inpaint_telea\"\u001b[0m\u001b[1;33m,\u001b[0m \u001b[0mX\u001b[0m\u001b[1;33m[\u001b[0m\u001b[1;36m0\u001b[0m\u001b[1;33m]\u001b[0m\u001b[1;33m.\u001b[0m\u001b[0mshape\u001b[0m\u001b[1;33m)\u001b[0m\u001b[1;33m\u001b[0m\u001b[1;33m\u001b[0m\u001b[0m\n\u001b[0m\u001b[0;32m      6\u001b[0m \u001b[1;33m\u001b[0m\u001b[0m\n\u001b[0;32m      7\u001b[0m \u001b[1;31m# create an explainer with model and image masker\u001b[0m\u001b[1;33m\u001b[0m\u001b[1;33m\u001b[0m\u001b[0m\n",
      "\u001b[1;32m~\\anaconda3\\lib\\site-packages\\shap\\maskers\\_image.py\u001b[0m in \u001b[0;36m__init__\u001b[1;34m(self, mask_value, shape)\u001b[0m\n\u001b[0;32m     46\u001b[0m             \u001b[0mself\u001b[0m\u001b[1;33m.\u001b[0m\u001b[0mmask_value\u001b[0m \u001b[1;33m=\u001b[0m \u001b[0mmask_value\u001b[0m\u001b[1;33m.\u001b[0m\u001b[0mflatten\u001b[0m\u001b[1;33m(\u001b[0m\u001b[1;33m)\u001b[0m\u001b[1;33m\u001b[0m\u001b[1;33m\u001b[0m\u001b[0m\n\u001b[0;32m     47\u001b[0m         \u001b[1;32melif\u001b[0m \u001b[0misinstance\u001b[0m\u001b[1;33m(\u001b[0m\u001b[0mmask_value\u001b[0m\u001b[1;33m,\u001b[0m \u001b[0mstr\u001b[0m\u001b[1;33m)\u001b[0m\u001b[1;33m:\u001b[0m\u001b[1;33m\u001b[0m\u001b[1;33m\u001b[0m\u001b[0m\n\u001b[1;32m---> 48\u001b[1;33m             \u001b[0massert_import\u001b[0m\u001b[1;33m(\u001b[0m\u001b[1;34m\"cv2\"\u001b[0m\u001b[1;33m)\u001b[0m\u001b[1;33m\u001b[0m\u001b[1;33m\u001b[0m\u001b[0m\n\u001b[0m\u001b[0;32m     49\u001b[0m             \u001b[0mself\u001b[0m\u001b[1;33m.\u001b[0m\u001b[0mmask_value\u001b[0m \u001b[1;33m=\u001b[0m \u001b[0mmask_value\u001b[0m\u001b[1;33m\u001b[0m\u001b[1;33m\u001b[0m\u001b[0m\n\u001b[0;32m     50\u001b[0m             \u001b[1;32mif\u001b[0m \u001b[0mmask_value\u001b[0m\u001b[1;33m.\u001b[0m\u001b[0mstartswith\u001b[0m\u001b[1;33m(\u001b[0m\u001b[1;34m\"blur(\"\u001b[0m\u001b[1;33m)\u001b[0m\u001b[1;33m:\u001b[0m\u001b[1;33m\u001b[0m\u001b[1;33m\u001b[0m\u001b[0m\n",
      "\u001b[1;32m~\\anaconda3\\lib\\site-packages\\shap\\utils\\_general.py\u001b[0m in \u001b[0;36massert_import\u001b[1;34m(package_name)\u001b[0m\n\u001b[0;32m     23\u001b[0m         \u001b[0mmsg\u001b[0m\u001b[1;33m,\u001b[0m\u001b[0me\u001b[0m \u001b[1;33m=\u001b[0m \u001b[0mimport_errors\u001b[0m\u001b[1;33m[\u001b[0m\u001b[0mpackage_name\u001b[0m\u001b[1;33m]\u001b[0m\u001b[1;33m\u001b[0m\u001b[1;33m\u001b[0m\u001b[0m\n\u001b[0;32m     24\u001b[0m         \u001b[0mprint\u001b[0m\u001b[1;33m(\u001b[0m\u001b[0mmsg\u001b[0m\u001b[1;33m)\u001b[0m\u001b[1;33m\u001b[0m\u001b[1;33m\u001b[0m\u001b[0m\n\u001b[1;32m---> 25\u001b[1;33m         \u001b[1;32mraise\u001b[0m \u001b[0me\u001b[0m\u001b[1;33m\u001b[0m\u001b[1;33m\u001b[0m\u001b[0m\n\u001b[0m\u001b[0;32m     26\u001b[0m \u001b[1;33m\u001b[0m\u001b[0m\n\u001b[0;32m     27\u001b[0m \u001b[1;32mdef\u001b[0m \u001b[0mrecord_import_error\u001b[0m\u001b[1;33m(\u001b[0m\u001b[0mpackage_name\u001b[0m\u001b[1;33m,\u001b[0m \u001b[0mmsg\u001b[0m\u001b[1;33m,\u001b[0m \u001b[0me\u001b[0m\u001b[1;33m)\u001b[0m\u001b[1;33m:\u001b[0m\u001b[1;33m\u001b[0m\u001b[1;33m\u001b[0m\u001b[0m\n",
      "\u001b[1;32m~\\anaconda3\\lib\\site-packages\\shap\\maskers\\_image.py\u001b[0m in \u001b[0;36m<module>\u001b[1;34m\u001b[0m\n\u001b[0;32m      6\u001b[0m \u001b[1;33m\u001b[0m\u001b[0m\n\u001b[0;32m      7\u001b[0m \u001b[1;32mtry\u001b[0m\u001b[1;33m:\u001b[0m\u001b[1;33m\u001b[0m\u001b[1;33m\u001b[0m\u001b[0m\n\u001b[1;32m----> 8\u001b[1;33m     \u001b[1;32mimport\u001b[0m \u001b[0mcv2\u001b[0m\u001b[1;33m\u001b[0m\u001b[1;33m\u001b[0m\u001b[0m\n\u001b[0m\u001b[0;32m      9\u001b[0m \u001b[1;32mexcept\u001b[0m \u001b[0mImportError\u001b[0m \u001b[1;32mas\u001b[0m \u001b[0me\u001b[0m\u001b[1;33m:\u001b[0m\u001b[1;33m\u001b[0m\u001b[1;33m\u001b[0m\u001b[0m\n\u001b[0;32m     10\u001b[0m     \u001b[0mrecord_import_error\u001b[0m\u001b[1;33m(\u001b[0m\u001b[1;34m\"cv2\"\u001b[0m\u001b[1;33m,\u001b[0m \u001b[1;34m\"cv2 could not be imported!\"\u001b[0m\u001b[1;33m,\u001b[0m \u001b[0me\u001b[0m\u001b[1;33m)\u001b[0m\u001b[1;33m\u001b[0m\u001b[1;33m\u001b[0m\u001b[0m\n",
      "\u001b[1;31mModuleNotFoundError\u001b[0m: No module named 'cv2'"
     ]
    },
    {
     "name": "stdout",
     "output_type": "stream",
     "text": [
      "time: 46 ms (started: 2022-02-17 05:17:33 +01:00)\n"
     ]
    }
   ],
   "source": [
    "# python function to get model output; replace this function with your own model function.\n",
    "\n",
    "def f(x):\n",
    "    tmp = x.copy()\n",
    "    preprocess_input(tmp)\n",
    "    return model(tmp)\n",
    "\n",
    "# define a masker that is used to mask out partitions of the input image.\n",
    "masker = shap.maskers.Image(\"inpaint_telea\", X[0].shape)\n",
    "\n",
    "# create an explainer with model and image masker\n",
    "explainer = shap.Explainer(f, masker, output_names=class_names)\n",
    "\n",
    "# here we explain two images using 500 evaluations of the underlying model to estimate the SHAP values\n",
    "shap_values = explainer(X[1:3], max_evals=100, batch_size=50, outputs=shap.Explanation.argsort.flip[:4])"
   ]
  },
  {
   "cell_type": "code",
   "execution_count": 228,
   "id": "e126700f",
   "metadata": {},
   "outputs": [
    {
     "ename": "SyntaxError",
     "evalue": "invalid syntax (Temp/ipykernel_8256/3922920591.py, line 1)",
     "output_type": "error",
     "traceback": [
      "\u001b[1;36m  File \u001b[1;32m\"C:\\Users\\ANTOINE\\AppData\\Local\\Temp/ipykernel_8256/3922920591.py\"\u001b[1;36m, line \u001b[1;32m1\u001b[0m\n\u001b[1;33m    pip install tensorflow\u001b[0m\n\u001b[1;37m        ^\u001b[0m\n\u001b[1;31mSyntaxError\u001b[0m\u001b[1;31m:\u001b[0m invalid syntax\n"
     ]
    },
    {
     "name": "stdout",
     "output_type": "stream",
     "text": [
      "time: 0 ns (started: 2022-02-17 05:24:00 +01:00)\n"
     ]
    }
   ],
   "source": [
    "\n"
   ]
  },
  {
   "cell_type": "markdown",
   "id": "dd11133f",
   "metadata": {},
   "source": [
    "# How does this work"
   ]
  },
  {
   "cell_type": "code",
   "execution_count": null,
   "id": "d53c4891",
   "metadata": {},
   "outputs": [],
   "source": [
    "def get_img_array(img):\n",
    "    array = keras.preprocessing.image.img_to_array(img)\n",
    "    array = np.expand_dims(array, axis=0)\n",
    "    return array\n",
    "\n",
    "# Prepare image\n",
    "img_array = get_img_array(img=im)\n",
    "img_array.shape"
   ]
  },
  {
   "cell_type": "code",
   "execution_count": 242,
   "id": "31d6585d",
   "metadata": {},
   "outputs": [
    {
     "name": "stdout",
     "output_type": "stream",
     "text": [
      "Found 1000 validated image filenames belonging to 7 classes.\n"
     ]
    },
    {
     "ename": "ValueError",
     "evalue": "Asked to retrieve element 63, but the Sequence has length 63",
     "output_type": "error",
     "traceback": [
      "\u001b[1;31m---------------------------------------------------------------------------\u001b[0m",
      "\u001b[1;31mValueError\u001b[0m                                Traceback (most recent call last)",
      "\u001b[1;32m~\\AppData\\Local\\Temp/ipykernel_8256/1719441969.py\u001b[0m in \u001b[0;36m<module>\u001b[1;34m\u001b[0m\n\u001b[0;32m     11\u001b[0m \u001b[0mtest_pred_class\u001b[0m\u001b[1;33m=\u001b[0m\u001b[1;33m[\u001b[0m\u001b[1;33m]\u001b[0m\u001b[1;33m\u001b[0m\u001b[1;33m\u001b[0m\u001b[0m\n\u001b[0;32m     12\u001b[0m \u001b[1;32mfor\u001b[0m \u001b[0mi\u001b[0m \u001b[1;32min\u001b[0m \u001b[0mrange\u001b[0m\u001b[1;33m(\u001b[0m\u001b[1;36m448\u001b[0m\u001b[1;33m)\u001b[0m\u001b[1;33m:\u001b[0m\u001b[1;33m\u001b[0m\u001b[1;33m\u001b[0m\u001b[0m\n\u001b[1;32m---> 13\u001b[1;33m     \u001b[0mtest_pred_class_temp\u001b[0m \u001b[1;33m=\u001b[0m \u001b[0mefficientnet\u001b[0m\u001b[1;33m.\u001b[0m\u001b[0mpredict\u001b[0m\u001b[1;33m(\u001b[0m\u001b[0mtest_data\u001b[0m\u001b[1;33m[\u001b[0m\u001b[0mi\u001b[0m\u001b[1;33m]\u001b[0m\u001b[1;33m[\u001b[0m\u001b[1;36m0\u001b[0m\u001b[1;33m]\u001b[0m\u001b[1;33m)\u001b[0m\u001b[1;33m.\u001b[0m\u001b[0margmax\u001b[0m\u001b[1;33m(\u001b[0m\u001b[0maxis\u001b[0m \u001b[1;33m=\u001b[0m \u001b[1;36m1\u001b[0m\u001b[1;33m)\u001b[0m \u001b[1;31m# predictions test\u001b[0m\u001b[1;33m\u001b[0m\u001b[1;33m\u001b[0m\u001b[0m\n\u001b[0m\u001b[0;32m     14\u001b[0m     \u001b[0mtest_pred_class\u001b[0m\u001b[1;33m=\u001b[0m\u001b[0mnp\u001b[0m\u001b[1;33m.\u001b[0m\u001b[0mconcatenate\u001b[0m\u001b[1;33m(\u001b[0m\u001b[1;33m[\u001b[0m\u001b[0mtest_pred_class\u001b[0m\u001b[1;33m,\u001b[0m\u001b[0mtest_pred_class_temp\u001b[0m\u001b[1;33m]\u001b[0m\u001b[1;33m)\u001b[0m\u001b[1;33m\u001b[0m\u001b[1;33m\u001b[0m\u001b[0m\n\u001b[0;32m     15\u001b[0m \u001b[0mtotal_time\u001b[0m\u001b[1;33m=\u001b[0m\u001b[0mtime\u001b[0m\u001b[1;33m.\u001b[0m\u001b[0mtime\u001b[0m\u001b[1;33m(\u001b[0m\u001b[1;33m)\u001b[0m\u001b[1;33m\u001b[0m\u001b[1;33m\u001b[0m\u001b[0m\n",
      "\u001b[1;32m~\\anaconda3\\lib\\site-packages\\keras_preprocessing\\image\\iterator.py\u001b[0m in \u001b[0;36m__getitem__\u001b[1;34m(self, idx)\u001b[0m\n\u001b[0;32m     52\u001b[0m     \u001b[1;32mdef\u001b[0m \u001b[0m__getitem__\u001b[0m\u001b[1;33m(\u001b[0m\u001b[0mself\u001b[0m\u001b[1;33m,\u001b[0m \u001b[0midx\u001b[0m\u001b[1;33m)\u001b[0m\u001b[1;33m:\u001b[0m\u001b[1;33m\u001b[0m\u001b[1;33m\u001b[0m\u001b[0m\n\u001b[0;32m     53\u001b[0m         \u001b[1;32mif\u001b[0m \u001b[0midx\u001b[0m \u001b[1;33m>=\u001b[0m \u001b[0mlen\u001b[0m\u001b[1;33m(\u001b[0m\u001b[0mself\u001b[0m\u001b[1;33m)\u001b[0m\u001b[1;33m:\u001b[0m\u001b[1;33m\u001b[0m\u001b[1;33m\u001b[0m\u001b[0m\n\u001b[1;32m---> 54\u001b[1;33m             raise ValueError('Asked to retrieve element {idx}, '\n\u001b[0m\u001b[0;32m     55\u001b[0m                              \u001b[1;34m'but the Sequence '\u001b[0m\u001b[1;33m\u001b[0m\u001b[1;33m\u001b[0m\u001b[0m\n\u001b[0;32m     56\u001b[0m                              'has length {length}'.format(idx=idx,\n",
      "\u001b[1;31mValueError\u001b[0m: Asked to retrieve element 63, but the Sequence has length 63"
     ]
    },
    {
     "name": "stdout",
     "output_type": "stream",
     "text": [
      "time: 1min 18s (started: 2022-02-17 05:31:32 +01:00)\n"
     ]
    }
   ],
   "source": [
    "from tensorflow.keras.preprocessing.image import ImageDataGenerator\n",
    "test_data = ImageDataGenerator().flow_from_dataframe(dataframe = df_test,\n",
    "                                                     x_col = \"file_path\",y_col=\"label\", \n",
    "                                                     shuffle = False, # to match df_test order \n",
    "                                                     target_size=(240,320),\n",
    "                                                     batch_size=16,\n",
    "                                                     class_mode='sparse')\n",
    "\n",
    "#assess performances \n",
    "start=time.time()\n",
    "test_pred_class=[]\n",
    "for i in range(448):\n",
    "    test_pred_class_temp = efficientnet.predict(test_data[i][0]).argmax(axis = 1) # predictions test\n",
    "    test_pred_class=np.concatenate([test_pred_class,test_pred_class_temp])\n",
    "total_time=time.time()\n",
    "print('durée totale calcul :',total_time)"
   ]
  },
  {
   "cell_type": "code",
   "execution_count": null,
   "id": "49c61cf6",
   "metadata": {},
   "outputs": [],
   "source": [
    "#sélection des indices par class parmi les 7158 images de Test\n",
    "good_pred_indexes=[]\n",
    "good_pred_indexes_class0=[]\n",
    "good_pred_indexes_class1=[]\n",
    "good_pred_indexes_class2=[]\n",
    "good_pred_indexes_class3=[]\n",
    "good_pred_indexes_class4=[]\n",
    "good_pred_indexes_class5=[]\n",
    "good_pred_indexes_class6=[]\n",
    "for i in range(len(test_pred_class['pred_class'])):\n",
    "    if (test_pred_class['pred_class'].iloc[i]==y_test_class_df['real_class'].iloc[i]):\n",
    "        good_pred_indexes+=[i]\n",
    "        if y_test_class_df['real_class'].iloc[i]==0:\n",
    "            good_pred_indexes_class0+=[i]\n",
    "        elif y_test_class_df['real_class'].iloc[i]==1:\n",
    "            good_pred_indexes_class1+=[i]\n",
    "        elif y_test_class_df['real_class'].iloc[i]==2:\n",
    "            good_pred_indexes_class2+=[i]\n",
    "        elif y_test_class_df['real_class'].iloc[i]==3:\n",
    "            good_pred_indexes_class3+=[i]\n",
    "        elif y_test_class_df['real_class'].iloc[i]==4:\n",
    "            good_pred_indexes_class4+=[i]\n",
    "        elif y_test_class_df['real_class'].iloc[i]==5:\n",
    "            good_pred_indexes_class5+=[i]\n",
    "        elif y_test_class_df['real_class'].iloc[i]==6:\n",
    "            good_pred_indexes_class6+=[i]"
   ]
  },
  {
   "cell_type": "code",
   "execution_count": null,
   "id": "1d4374ba",
   "metadata": {},
   "outputs": [],
   "source": [
    "print(np.array(good_pred_indexes_class0).size)\n",
    "print(np.array(good_pred_indexes_class1).size)\n",
    "print(np.array(good_pred_indexes_class2).size)\n",
    "print(np.array(good_pred_indexes_class3).size)\n",
    "print(np.array(good_pred_indexes_class4).size)\n",
    "print(np.array(good_pred_indexes_class5).size)\n",
    "print(np.array(good_pred_indexes_class6).size)\n",
    "print(np.array(good_pred_indexes).size)"
   ]
  },
  {
   "cell_type": "code",
   "execution_count": null,
   "id": "707f923a",
   "metadata": {},
   "outputs": [],
   "source": [
    "family_names=test_dict_label['family']\n",
    "family_names"
   ]
  },
  {
   "cell_type": "markdown",
   "id": "5a8ac7d0",
   "metadata": {},
   "source": [
    "# retrain model"
   ]
  }
 ],
 "metadata": {
  "kernelspec": {
   "display_name": "Python 3 (ipykernel)",
   "language": "python",
   "name": "python3"
  },
  "language_info": {
   "codemirror_mode": {
    "name": "ipython",
    "version": 3
   },
   "file_extension": ".py",
   "mimetype": "text/x-python",
   "name": "python",
   "nbconvert_exporter": "python",
   "pygments_lexer": "ipython3",
   "version": "3.9.7"
  }
 },
 "nbformat": 4,
 "nbformat_minor": 5
}
